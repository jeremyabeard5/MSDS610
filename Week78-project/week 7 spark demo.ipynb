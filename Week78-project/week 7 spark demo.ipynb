{
 "cells": [
  {
   "cell_type": "code",
   "execution_count": 1,
   "id": "d82d8703",
   "metadata": {},
   "outputs": [],
   "source": [
    "import pyspark"
   ]
  },
  {
   "cell_type": "code",
   "execution_count": 2,
   "id": "7fb3f05a",
   "metadata": {},
   "outputs": [
    {
     "data": {
      "text/html": [
       "\n",
       "            <div>\n",
       "                <p><b>SparkSession - hive</b></p>\n",
       "                \n",
       "        <div>\n",
       "            <p><b>SparkContext</b></p>\n",
       "\n",
       "            <p><a href=\"http://cluster-3007-m.us-central1-a.c.regal-ceiling-315023.internal:35201\">Spark UI</a></p>\n",
       "\n",
       "            <dl>\n",
       "              <dt>Version</dt>\n",
       "                <dd><code>v3.1.2</code></dd>\n",
       "              <dt>Master</dt>\n",
       "                <dd><code>yarn</code></dd>\n",
       "              <dt>AppName</dt>\n",
       "                <dd><code>PySparkShell</code></dd>\n",
       "            </dl>\n",
       "        </div>\n",
       "        \n",
       "            </div>\n",
       "        "
      ],
      "text/plain": [
       "<pyspark.sql.session.SparkSession at 0x7f3ed6adbbe0>"
      ]
     },
     "execution_count": 2,
     "metadata": {},
     "output_type": "execute_result"
    }
   ],
   "source": [
    "spark"
   ]
  },
  {
   "cell_type": "code",
   "execution_count": 3,
   "id": "61cb27fb",
   "metadata": {},
   "outputs": [
    {
     "data": {
      "text/html": [
       "\n",
       "        <div>\n",
       "            <p><b>SparkContext</b></p>\n",
       "\n",
       "            <p><a href=\"http://cluster-3007-m.us-central1-a.c.regal-ceiling-315023.internal:35201\">Spark UI</a></p>\n",
       "\n",
       "            <dl>\n",
       "              <dt>Version</dt>\n",
       "                <dd><code>v3.1.2</code></dd>\n",
       "              <dt>Master</dt>\n",
       "                <dd><code>yarn</code></dd>\n",
       "              <dt>AppName</dt>\n",
       "                <dd><code>PySparkShell</code></dd>\n",
       "            </dl>\n",
       "        </div>\n",
       "        "
      ],
      "text/plain": [
       "<SparkContext master=yarn appName=PySparkShell>"
      ]
     },
     "execution_count": 3,
     "metadata": {},
     "output_type": "execute_result"
    }
   ],
   "source": [
    "sc"
   ]
  },
  {
   "cell_type": "code",
   "execution_count": 4,
   "id": "c99b0be1",
   "metadata": {},
   "outputs": [],
   "source": [
    "'''\n",
    "IN SHELL\n",
    "wget http://norvig.com/ngrams/shakespeare.txt\n",
    "hdfs dfs -copyFromLocal shakespeare.txt /shakespeare\n",
    "'''\n",
    "text_file = sc.textFile(\"hdfs:///shakespeare\")"
   ]
  },
  {
   "cell_type": "code",
   "execution_count": 5,
   "id": "3d3a552e",
   "metadata": {},
   "outputs": [
    {
     "name": "stderr",
     "output_type": "stream",
     "text": [
      "[Stage 0:=============================>                             (1 + 1) / 2]\r"
     ]
    },
    {
     "name": "stdout",
     "output_type": "stream",
     "text": [
      "129107\n"
     ]
    },
    {
     "name": "stderr",
     "output_type": "stream",
     "text": [
      "                                                                                \r"
     ]
    },
    {
     "data": {
      "text/plain": [
       "[\"A MIDSUMMER-NIGHT'S DREAM\",\n",
       " '',\n",
       " 'Now , fair Hippolyta , our nuptial hour ',\n",
       " 'Draws on apace : four happy days bring in ',\n",
       " 'Another moon ; but O ! methinks how slow ']"
      ]
     },
     "execution_count": 5,
     "metadata": {},
     "output_type": "execute_result"
    }
   ],
   "source": [
    "print(text_file.count())\n",
    "text_file.take(5)"
   ]
  },
  {
   "cell_type": "code",
   "execution_count": 17,
   "id": "73f02762",
   "metadata": {},
   "outputs": [],
   "source": [
    "word_list = text_file.map(lambda x: x.lower().replace(',',' ').replace(\"'\", \"\").replace(\"-\", \" \").split())\n",
    "\n",
    "def clean_my_raw_strings(x):\n",
    "    x\n",
    "    #remove stopwords\n",
    "    #remove punctuation\n",
    "    return x"
   ]
  },
  {
   "cell_type": "code",
   "execution_count": 18,
   "id": "1cb4ed24",
   "metadata": {},
   "outputs": [],
   "source": [
    "word_tuple = word_list.flatMap(lambda wordlist: [(word, 1) for word in wordlist])\n"
   ]
  },
  {
   "cell_type": "code",
   "execution_count": null,
   "id": "5d4963bc",
   "metadata": {},
   "outputs": [],
   "source": [
    "(a, 1)\n",
    "(midsummer, 1)\n",
    "(nights, 1)\n",
    "(dream, 1)\n",
    "(midsummer, 1)"
   ]
  },
  {
   "cell_type": "code",
   "execution_count": 19,
   "id": "ab08a62d",
   "metadata": {},
   "outputs": [],
   "source": [
    "word_counts = word_tuple.reduceByKey(lambda total, count: total + count)"
   ]
  },
  {
   "cell_type": "code",
   "execution_count": 21,
   "id": "84751a99",
   "metadata": {},
   "outputs": [
    {
     "name": "stderr",
     "output_type": "stream",
     "text": [
      "                                                                                \r"
     ]
    },
    {
     "data": {
      "text/plain": [
       "'\\nIn Shell\\nhdfs dfs -getmerge /spark_wordcount.txt /home/mcbeth_kevin/word_counts.txt\\nnano /home/mcbeth_kevin/work_counts.txt\\n'"
      ]
     },
     "execution_count": 21,
     "metadata": {},
     "output_type": "execute_result"
    }
   ],
   "source": [
    "word_counts.saveAsTextFile('/spark_wordcount4.txt')\n",
    "'''\n",
    "In Shell\n",
    "hdfs dfs -getmerge /spark_wordcount.txt /home/mcbeth_kevin/word_counts.txt\n",
    "nano /home/mcbeth_kevin/work_counts.txt\n",
    "'''"
   ]
  },
  {
   "cell_type": "code",
   "execution_count": 22,
   "id": "a6ad5c2f",
   "metadata": {},
   "outputs": [
    {
     "data": {
      "text/plain": [
       "['string_1', 'string_2']"
      ]
     },
     "execution_count": 22,
     "metadata": {},
     "output_type": "execute_result"
    }
   ],
   "source": [
    "#python hint: adding lists together creates a list with the elements of both lists\n",
    "\n",
    "\n",
    "\n",
    "['string_1'] + ['string_2']"
   ]
  },
  {
   "cell_type": "code",
   "execution_count": 23,
   "id": "33385e81",
   "metadata": {},
   "outputs": [],
   "source": [
    "#instead of using lambda functions, you can pass a named function into the reduce and map functions\n",
    "#you can use this to write cleaner functions and better understand what's happening\n",
    "\n",
    "\n",
    "lambda total, count: total + count\n",
    "\n",
    "def accumulate(total, count):\n",
    "    return total + count\n",
    "\n",
    "\n",
    "word_counts = word_tuple.reduceByKey(accumulate)"
   ]
  },
  {
   "cell_type": "code",
   "execution_count": 24,
   "id": "bf84ba30",
   "metadata": {},
   "outputs": [
    {
     "data": {
      "text/plain": [
       "[('midsummer', 3),\n",
       " ('nights', 61),\n",
       " ('dream', 120),\n",
       " ('now', 2799),\n",
       " ('nuptial', 21)]"
      ]
     },
     "execution_count": 24,
     "metadata": {},
     "output_type": "execute_result"
    }
   ],
   "source": [
    "word_counts.take(5)"
   ]
  },
  {
   "cell_type": "code",
   "execution_count": null,
   "id": "6942f0bf",
   "metadata": {},
   "outputs": [],
   "source": []
  }
 ],
 "metadata": {
  "kernelspec": {
   "display_name": "Python 3 (ipykernel)",
   "language": "python",
   "name": "python3"
  },
  "language_info": {
   "codemirror_mode": {
    "name": "ipython",
    "version": 3
   },
   "file_extension": ".py",
   "mimetype": "text/x-python",
   "name": "python",
   "nbconvert_exporter": "python",
   "pygments_lexer": "ipython3",
   "version": "3.9.7"
  }
 },
 "nbformat": 4,
 "nbformat_minor": 5
}

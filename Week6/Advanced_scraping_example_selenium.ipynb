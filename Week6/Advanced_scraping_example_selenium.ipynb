{
 "cells": [
  {
   "cell_type": "markdown",
   "metadata": {},
   "source": [
    "Downloading a file (MISO)."
   ]
  },
  {
   "cell_type": "code",
   "execution_count": 58,
   "metadata": {},
   "outputs": [],
   "source": [
    "import urllib.request\n",
    "# from Market Report directories,\n",
    "# For day-ahead pricing:\n",
    "# 'https://docs.misoenergy.org/marketreports/YYYYMMDD_da_pr.xls'\n",
    "DL_link = 'https://docs.misoenergy.org/marketreports/{}{}{}_da_pr.xls'\n",
    "formatted_link = DL_link.format('2019', '06', '04')"
   ]
  },
  {
   "cell_type": "code",
   "execution_count": 59,
   "metadata": {},
   "outputs": [
    {
     "data": {
      "text/plain": [
       "'https://docs.misoenergy.org/marketreports/20190604_da_pr.xls'"
      ]
     },
     "execution_count": 59,
     "metadata": {},
     "output_type": "execute_result"
    }
   ],
   "source": [
    "formatted_link"
   ]
  },
  {
   "cell_type": "code",
   "execution_count": 60,
   "metadata": {},
   "outputs": [
    {
     "data": {
      "text/plain": [
       "('20190604_da_pr.xls', <http.client.HTTPMessage at 0x7feb9806e0b8>)"
      ]
     },
     "execution_count": 60,
     "metadata": {},
     "output_type": "execute_result"
    }
   ],
   "source": [
    "urllib.request.urlretrieve(formatted_link, '20190604_da_pr.xls')"
   ]
  },
  {
   "cell_type": "code",
   "execution_count": 61,
   "metadata": {},
   "outputs": [
    {
     "name": "stdout",
     "output_type": "stream",
     "text": [
      "20190604_da_pr.xls                        test.html\r\n",
      "Advanced_scraping_example_selenium.ipynb  video_demo_denver_news_scrape.ipynb\r\n",
      "CO state news getting started.ipynb       week6_assignment.html\r\n",
      "CO state news solution.ipynb              week6_assignment.md\r\n",
      "Denver news example.ipynb                 week6_presentation.odp\r\n",
      "geckodriver.log\r\n"
     ]
    }
   ],
   "source": [
    "ls"
   ]
  },
  {
   "cell_type": "code",
   "execution_count": 62,
   "metadata": {},
   "outputs": [],
   "source": [
    "from selenium import webdriver"
   ]
  },
  {
   "cell_type": "code",
   "execution_count": 63,
   "metadata": {},
   "outputs": [],
   "source": [
    "def setup_driver():\n",
    "    \"\"\"\n",
    "    need to first download and setup geckodriver; instructions here:\n",
    "    https://stackoverflow.com/a/40208762/4549682\n",
    "    \n",
    "    Downloading files: https://stackoverflow.com/a/34780823/4549682\n",
    "    Loading profile: https://stackoverflow.com/a/54065166/4549682\n",
    "    \"\"\"\n",
    "    driver = webdriver.Firefox()\n",
    "    return driver"
   ]
  },
  {
   "cell_type": "code",
   "execution_count": 64,
   "metadata": {},
   "outputs": [],
   "source": [
    "driver = setup_driver()"
   ]
  },
  {
   "cell_type": "code",
   "execution_count": 76,
   "metadata": {},
   "outputs": [],
   "source": [
    "driver.get('https://www.mizunadenver.com/menus')"
   ]
  },
  {
   "cell_type": "code",
   "execution_count": 77,
   "metadata": {},
   "outputs": [],
   "source": [
    "menu_links = driver.find_elements_by_tag_name('label')"
   ]
  },
  {
   "cell_type": "code",
   "execution_count": 78,
   "metadata": {},
   "outputs": [
    {
     "data": {
      "text/plain": [
       "4"
      ]
     },
     "execution_count": 78,
     "metadata": {},
     "output_type": "execute_result"
    }
   ],
   "source": [
    "len(menu_links)"
   ]
  },
  {
   "cell_type": "code",
   "execution_count": 79,
   "metadata": {},
   "outputs": [],
   "source": [
    "menu_links[1].click()"
   ]
  },
  {
   "cell_type": "code",
   "execution_count": 80,
   "metadata": {},
   "outputs": [],
   "source": [
    "items = driver.find_elements_by_class_name('menu-item')"
   ]
  },
  {
   "cell_type": "code",
   "execution_count": 81,
   "metadata": {},
   "outputs": [
    {
     "data": {
      "text/plain": [
       "45"
      ]
     },
     "execution_count": 81,
     "metadata": {},
     "output_type": "execute_result"
    }
   ],
   "source": [
    "len(items)"
   ]
  },
  {
   "cell_type": "code",
   "execution_count": 82,
   "metadata": {},
   "outputs": [
    {
     "data": {
      "text/plain": [
       "''"
      ]
     },
     "execution_count": 82,
     "metadata": {},
     "output_type": "execute_result"
    }
   ],
   "source": [
    "items[0].text"
   ]
  },
  {
   "cell_type": "code",
   "execution_count": 83,
   "metadata": {},
   "outputs": [
    {
     "data": {
      "text/plain": [
       "'\\n              \\n                <span class=\"menu-item-price-top\">\\n                  \\n                    <span class=\"currency-sign\">$</span>25 \\n                  \\n                </span>\\n              \\n\\n              <div class=\"menu-item-title\">Seared Foie Gras</div>\\n              <div class=\"menu-item-description\">Foie Gras Fried Ice Cream, Toasted Brioche, Spiced Pear, Mint Gelée, Sesame Tuile</div>\\n\\n              \\n                <div class=\"menu-item-price-bottom\">\\n                  \\n                    <span class=\"currency-sign\">$</span>25 \\n                  \\n                </div>\\n              \\n\\n              \\n\\n            '"
      ]
     },
     "execution_count": 83,
     "metadata": {},
     "output_type": "execute_result"
    }
   ],
   "source": [
    "items[0].get_attribute('innerHTML')"
   ]
  },
  {
   "cell_type": "code",
   "execution_count": 84,
   "metadata": {},
   "outputs": [
    {
     "data": {
      "text/plain": [
       "'Seared Foie Gras'"
      ]
     },
     "execution_count": 84,
     "metadata": {},
     "output_type": "execute_result"
    }
   ],
   "source": [
    "items[0].find_element_by_class_name('menu-item-title').get_attribute('innerHTML')"
   ]
  },
  {
   "cell_type": "code",
   "execution_count": 85,
   "metadata": {},
   "outputs": [
    {
     "data": {
      "text/plain": [
       "'Foie Gras Fried Ice Cream, Toasted Brioche, Spiced Pear, Mint Gelée, Sesame Tuile'"
      ]
     },
     "execution_count": 85,
     "metadata": {},
     "output_type": "execute_result"
    }
   ],
   "source": [
    "items[0].find_element_by_class_name('menu-item-description').get_attribute('innerHTML')"
   ]
  },
  {
   "cell_type": "code",
   "execution_count": 86,
   "metadata": {},
   "outputs": [
    {
     "data": {
      "text/plain": [
       "'\\n                  \\n                    <span class=\"currency-sign\">$</span>25 \\n                  \\n                '"
      ]
     },
     "execution_count": 86,
     "metadata": {},
     "output_type": "execute_result"
    }
   ],
   "source": [
    "items[0].find_element_by_class_name('menu-item-price-bottom').get_attribute('innerHTML')"
   ]
  },
  {
   "cell_type": "code",
   "execution_count": 87,
   "metadata": {},
   "outputs": [
    {
     "data": {
      "text/plain": [
       "'\\n              \\n                <span class=\"menu-item-price-top\">\\n                  \\n                    <span class=\"currency-sign\">$</span>7 \\n                  \\n                </span>\\n              \\n\\n              <div class=\"menu-item-title\">TEA-TOTALER</div>\\n              <div class=\"menu-item-description\">Ginger Peach Tea, Earl Grey, Peach Drinking Vinegar, Locally Foraged Wormwood, Verjus Blanc</div>\\n\\n              \\n                <div class=\"menu-item-price-bottom\">\\n                  \\n                    <span class=\"currency-sign\">$</span>7 \\n                  \\n                </div>\\n              \\n\\n              \\n\\n            '"
      ]
     },
     "execution_count": 87,
     "metadata": {},
     "output_type": "execute_result"
    }
   ],
   "source": [
    "items[-2].get_attribute('innerHTML')"
   ]
  },
  {
   "cell_type": "code",
   "execution_count": 88,
   "metadata": {},
   "outputs": [
    {
     "data": {
      "text/plain": [
       "'\\n              \\n\\n              <div class=\"menu-item-title\"><br></div>\\n              \\n\\n              \\n\\n              \\n\\n            '"
      ]
     },
     "execution_count": 88,
     "metadata": {},
     "output_type": "execute_result"
    }
   ],
   "source": [
    "items[-1].get_attribute('innerHTML')"
   ]
  }
 ],
 "metadata": {
  "kernelspec": {
   "display_name": "Python 3 (ipykernel)",
   "language": "python",
   "name": "python3"
  },
  "language_info": {
   "codemirror_mode": {
    "name": "ipython",
    "version": 3
   },
   "file_extension": ".py",
   "mimetype": "text/x-python",
   "name": "python",
   "nbconvert_exporter": "python",
   "pygments_lexer": "ipython3",
   "version": "3.9.7"
  }
 },
 "nbformat": 4,
 "nbformat_minor": 2
}

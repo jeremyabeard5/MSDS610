{
 "cells": [
  {
   "cell_type": "code",
   "execution_count": 1,
   "metadata": {},
   "outputs": [],
   "source": [
    "import requests as req"
   ]
  },
  {
   "cell_type": "code",
   "execution_count": 2,
   "metadata": {},
   "outputs": [],
   "source": [
    "URL = 'https://www.colorado.gov/news'\n",
    "res = req.get(URL)"
   ]
  },
  {
   "cell_type": "code",
   "execution_count": 3,
   "metadata": {},
   "outputs": [
    {
     "data": {
      "text/plain": [
       "b'<!DOCTYPE html>\\n  <!--[if IEMobile 7]><html class=\"no-js ie iem7\" lang=\"en\" dir=\"ltr\"><![endif]-->\\n  <!--[if lte IE 6]><html class=\"no-js ie lt-ie9 lt-ie8 lt-ie7\" lang=\"en\" dir=\"ltr\"><![endif]-->\\n  <!--[if (IE 7)&(!IEMobile)]><html class=\"no-js ie lt-ie9 lt-ie8\" lang=\"en\" dir=\"ltr\"><![endif]-->\\n  <!--[if IE 8]><html class=\"no-js ie lt-ie9\" lang=\"en\" dir=\"ltr\"><![endif]-->\\n  <!--[if (gte IE 9)|(gt IEMobile 7)]><html class=\"no-js ie\" lang=\"en\" dir=\"ltr\" prefix=\"content: http://purl.org/rss/1.0/modules/content/ dc: http://purl.org/dc/terms/ foaf: http://xmlns.com/foaf/0.1/ og: http://ogp.me/ns# rdfs: http://www.w3.org/2000/01/rdf-schema# sioc: http://rdfs.org/sioc/ns# sioct: http://rdfs.org/sioc/types# skos: http://www.w3.org/2004/02/skos/core# xsd: http://www.w3.org/2001/XMLSchema#\"><![endif]-->\\n  <!--[if !IE]><!--><html class=\"no-js\" lang=\"en\" dir=\"ltr\" prefix=\"content: http://purl.org/rss/1.0/modules/content/ dc: http://purl.org/dc/terms/ foaf: http://xmlns.com/foaf/0.1/ og: http://ogp.me/ns# rdfs: http://www.w3.org/2000/01/rdf-schema# sioc: http://rdfs.org/sioc/ns# sioct: http://rdfs.org/sioc/types# skos: http://www.w3.org/2004/02/skos/core# xsd: http://www.w3.org/2001/XMLSchema#\"><!--<![endif]-->\\n<head>\\n  <meta charset=\"utf-8\" />\\n<meta name=\"Generator\" content=\"Drupal 7 (http://drupal.org)\" />\\n<link rel=\"shortcut icon\" href=\"https://www.colorado.gov/sites/default/files/favicon.ico\" type=\"image/vnd.microsoft.icon\" />\\n<link rel=\"profile\" href=\"https://www.w3.org/1999/xhtml/vocab\" />\\n<meta name=\"HandheldFriendly\" content=\"true\" />\\n<meta name=\"MobileOptimized\" content=\"width\" />\\n<meta http-equiv=\"cleartype\" content=\"on\" />\\n<link rel=\"apple-touch-icon-precomposed\" href=\"https://www.colorado.gov/sites/all/themes/omega/omega/apple-touch-icon-precomposed-144x144.png\" sizes=\"144x144\" />\\n<link rel=\"apple-touch-icon-precomposed\" href=\"https://www.colorado.gov/sites/all/themes/omega/omega/apple-touch-icon-precomposed.png\" />\\n<link rel=\"apple-touch-icon-precomposed\" href=\"https://www.colorado.gov/sites/all/themes/omega/omega/apple-touch-icon-precomposed-114x114.png\" sizes=\"114x114\" />\\n<link rel=\"apple-touch-icon-precomposed\" href=\"https://www.colorado.gov/sites/all/themes/omega/omega/apple-touch-icon-precomposed-72x72.png\" sizes=\"72x72\" />\\n<meta name=\"viewport\" content=\"width=device-width, minimum-scale=1.0, maximum-scale=1.0\" />\\n  <title>Latest News | Colorado.gov</title>\\n  <link type=\"text/css\" rel=\"stylesheet\" href=\"https://www.colorado.gov/sites/default/files/css/css_ouuKCcMsO3ATXMWUHVi4N-VhoTgdR1DttsA324xlXwg.css\" media=\"all\" />\\n<link type=\"text/css\" rel=\"stylesheet\" href=\"https://www.colorado.gov/sites/default/files/css/css_2pJEPuHW5oZeN4Qn4xiBcgeJRJfXZ0dYoaFyWPYtWNE.css\" media=\"all\" />\\n<link type=\"text/css\" rel=\"stylesheet\" href=\"https://www.colorado.gov/sites/default/files/css/css_tHqPDcBj2pA-4d0KiRCnhv2JGy6hR_GdZavh8j7sWgc.css\" media=\"all\" />\\n\\n<!--[if lte IE 8]>\\n<link type=\"text/css\" rel=\"stylesheet\" href=\"https://www.colorado.gov/sites/all/themes/colorado_gov/css/ie-lte-8.css?ps8tud\" media=\"all\" />\\n<![endif]-->\\n\\n<!--[if lte IE 7]>\\n<link type=\"text/css\" rel=\"stylesheet\" href=\"https://www.colorado.gov/sites/all/themes/colorado_gov/css/ie-lte-7.css?ps8tud\" media=\"all\" />\\n<![endif]-->\\n\\n<!--[if IE 6]>\\n<link type=\"text/css\" rel=\"stylesheet\" href=\"https://www.colorado.gov/sites/all/themes/colorado_gov/css/ie-6.css?ps8tud\" media=\"all\" />\\n<![endif]-->\\n<link type=\"text/css\" rel=\"stylesheet\" href=\"https://www.colorado.gov/sites/default/files/css/css_jUBkLqZj-a-eIfZHLE7nQO3ql3oGtU-UyRvyVuuZAXQ.css\" media=\"all\" />\\n  <script>document.cookie = \\'adaptive_image=\\' + Math.max(screen.width, screen.height) + \\'; path=/\\';</script>\\n<script src=\"https://www.colorado.gov/sites/default/files/js/js_xmSTppMSa146VwDF2wc_0CgRKXlO4AFRpDnC9PxTCzw.js\"></script>\\n<script src=\"https://www.colorado.gov/sites/default/files/js/js_H7q2xORKmR9AN8Qx5spKEIBp7R_wG2apAswJoCUZY7I.js\"></script>\\n<script src=\"https://www.colorado.gov/sites/default/files/js/js_LYnsNokJ3hCwYVzOkOBap0cPdxFI3f_jpkPxZtvMMyw.js\"></script>\\n\\n<!--[if (gte IE 6)&(lte IE 8)]>\\n<script src=\"https://www.colorado.gov/sites/default/files/js/js_A_U-5-tob6Ni8NWZVDSwNIGfUBPEmx51QxDhZbBIRGc.js\"></script>\\n<![endif]-->\\n<script src=\"https://www.colorado.gov/sites/default/files/js/js_mEGA-lkaqzKTJb0LnmIlSIvq7SSVWKJgsdzqLCdsx1g.js\"></script>\\n<script defer=\"defer\" src=\"//script.crazyegg.com/pages/scripts/0011/7387.js\"></script>\\n<script src=\"https://www.colorado.gov/sites/default/files/js/js_gPqjYq7fqdMzw8-29XWQIVoDSWTmZCGy9OqaHppNxuQ.js\"></script>\\n<script>(function(i,s,o,g,r,a,m){i[\"GoogleAnalyticsObject\"]=r;i[r]=i[r]||function(){(i[r].q=i[r].q||[]).push(arguments)},i[r].l=1*new Date();a=s.createElement(o),m=s.getElementsByTagName(o)[0];a.async=1;a.src=g;m.parentNode.insertBefore(a,m)})(window,document,\"script\",\"https://www.google-analytics.com/analytics.js\",\"ga\");ga(\"create\", \"UA-15981586-5\", {\"cookieDomain\":\"auto\"});ga(\"require\", \"linkid\", \"linkid.js\");ga(\"require\", \"displayfeatures\");ga(\"set\", \"anonymizeIp\", true);ga(\"send\", \"pageview\");</script>\\n<script src=\"https://www.colorado.gov/sites/default/files/js/js_XxnCis21icV6euhAXEKEYO-Fd0jBJpnruJ7EXMN160g.js\"></script>\\n<script src=\"https://www.colorado.gov/sites/default/files/js/js_e8UIpcMWDGOtm-L2V9aNE7iw_2pLaL25jIgWwV6F-BA.js\"></script>\\n<script>jQuery.extend(Drupal.settings, {\"basePath\":\"\\\\/\",\"pathPrefix\":\"\",\"urlIsAjaxTrusted\":{\"\\\\/news\":true},\"facetapi\":{\"facets\":[{\"limit\":\"20\",\"id\":\"facetapi-facet-search-apistate-agencies-index-block-field-executive-office\",\"searcher\":\"search_api@state_agencies_index\",\"realmName\":\"block\",\"facetName\":\"field_executive_office\",\"queryType\":null,\"widget\":\"facetapi_links\",\"showMoreText\":\"Show more\",\"showFewerText\":\"Show fewer\"},{\"limit\":20,\"id\":\"facetapi-facet-search-apistate-agencies-index-block-field-state-agency-related\",\"searcher\":\"search_api@state_agencies_index\",\"realmName\":\"block\",\"facetName\":\"field_state_agency_related\",\"queryType\":null,\"widget\":\"facetapi_links\",\"showMoreText\":\"Show more\",\"showFewerText\":\"Show fewer\"},{\"limit\":\"20\",\"id\":\"facetapi-facet-search-apistate-agencies-index-block-field-executive-officename\",\"searcher\":\"search_api@state_agencies_index\",\"realmName\":\"block\",\"facetName\":\"field_executive_office:name\",\"queryType\":null,\"widget\":\"collapsible\",\"showMoreText\":\"Show more\",\"showFewerText\":\"Show fewer\"},{\"limit\":\"20\",\"id\":\"facetapi-facet-search-apistate-agencies-index-block-field-state-agencyname\",\"searcher\":\"search_api@state_agencies_index\",\"realmName\":\"block\",\"facetName\":\"field_state_agency:name\",\"queryType\":null,\"widget\":\"collapsible\",\"showMoreText\":\"Show more\",\"showFewerText\":\"Show fewer\"}]},\"equalHeightsModule\":{\"classes\":[{\"selector\":\"#latest_news-block, .bean-tiles .sixth\",\"mediaquery\":\"\",\"minheight\":\"\",\"maxheight\":\"\",\"overflow\":\"auto\"},{\"selector\":\".card\",\"mediaquery\":\"\",\"minheight\":\"\",\"maxheight\":\"\",\"overflow\":\"auto\"},{\"selector\":\"#contact-overlay .card p\",\"mediaquery\":\"\",\"minheight\":\"\",\"maxheight\":\"\",\"overflow\":\"auto\"},{\"selector\":\"#contact-overlay .card\",\"mediaquery\":\"\",\"minheight\":\"322\",\"maxheight\":\"\",\"overflow\":\"auto\"}],\"imagesloaded_ie8\":1},\"googleanalytics\":{\"trackOutbound\":1,\"trackMailto\":1,\"trackDownload\":1,\"trackDownloadExtensions\":\"7z|aac|arc|arj|asf|asx|avi|bin|csv|doc(x|m)?|dot(x|m)?|exe|flv|gif|gz|gzip|hqx|jar|jpe?g|js|mp(2|3|4|e?g)|mov(ie)?|msi|msp|pdf|phps|png|ppt(x|m)?|pot(x|m)?|pps(x|m)?|ppam|sld(x|m)?|thmx|qtm?|ra(m|r)?|sea|sit|tar|tgz|torrent|txt|wav|wma|wmv|wpd|xls(x|m|b)?|xlt(x|m)|xlam|xml|z|zip\"},\"facetapi_collapsible\":{\"field_executive_office:name\":{\"keep_open\":0,\"expand\":0,\"collapsible_children\":1},\"field_state_agency:name\":{\"keep_open\":0,\"expand\":0,\"collapsible_children\":1}}});</script>\\n</head>\\n<body class=\"html not-front not-logged-in page-news section-news\">\\n  <a href=\"#main-content\" class=\"element-invisible element-focusable\">Skip to main content</a>\\n      <!-- Header -->\\n  \\n<!-- Alerts -->\\n\\n<header id=\"main-header\" class=\"\">\\n\\t<div class=\"container\">\\n\\t  <a href=\"/\" title=\"Home\" rel=\"home\" class=\"site-logo\">\\n\\t\\t<img id=\"main-logo\" src=\"/sites/all/themes/colorado_gov/logo.svg\" alt=\"Home\" />\\n\\t  </a>\\n\\t  \\n\\t  <ul class=\"header-utilities\">\\n\\t    <li class=\"search-btn\">Search</li>\\n\\t    <li class=\"contact-us-btn\">Contact Us</li>\\n\\t    <li class=\"menu-toggle-btn \"><span class=\"hamburger\"></span><span class=\"menu-toggle-title\">Menu</span></li>\\n\\t  </ul>\\n\\t</div>\\n</header>\\n<!-- end header -->\\n  <div class=\"content-container\">\\n\\n    <div id=\"main-content\" class=\"main-content\">\\n\\n\\t   <!-- Title -->\\n\\t\\t<div class=\"grid--row padded-x-2 grey\">\\n\\t\\t    <div class=\"grid--2-3 rwd\">\\n\\t\\t    \\t<h1 class=\"heading--news\">Latest News</h1>\\n\\t\\t      \\t\\t    </div>\\n\\t\\t    <div class=\"grid--1-3 rwd\">\\n\\t\\t    \\t<ul class=\"breadcrumb\">\\n\\t\\t    \\t\\t<li><a href=\"/\">Home</a></li>\\n\\t\\t    \\t\\t<li>News</li>\\n\\t\\t    \\t</ul>\\n\\t\\t      \\t\\t    </div>\\n\\t\\t</div>\\n\\n\\t\\t<div class=\"grid--row padded-x-2\">\\n\\t\\t    <!-- Main Content -->\\n\\t\\t    <main class=\"grid--4-5\">\\n\\t\\t    \\t<div class=\"content-wrap\">\\n\\t\\t    \\t\\t<div class=\"view view-nv view-id-nv view-display-id-page view-dom-id-057fb7aaa2e24b440ad28040786d6f7a\">\\n        \\n  \\n  \\n      <div class=\"view-content\">\\n        <h3>May</h3>\\n  <div class=\"views-row views-row-1 views-row-odd views-row-first\">\\n    <div class=\"view-page-item\">\\n<div class=\"date margin-b\">\\n\\t<span class=\"field-content\"><span class=\"date-display-single\" property=\"dc:date\" datatype=\"xsd:dateTime\" content=\"2019-05-29T13:04:17-06:00\">Wednesday, May 29, 2019</span></span></div>\\n\\t<h3 class=\"no-padding x-small lighter-text\"><span class=\"field-content\"><a href=\"https://www.colorado.gov/pacific/hcpf/news/governor-signs-nursing-home-penalty-cash-fund-bill\">Governor Signs Nursing Home Penalty Cash Fund Bill</a></span></h3>\\n<div class=\"margin-b lighter-text smaller-text-views\">\\n\\t<span class=\"field-content\">From Department of Health Care Policy and Financing  </span></div>\\n</div>  </div>\\n  <div class=\"views-row views-row-2 views-row-even\">\\n    <div class=\"view-page-item\">\\n<div class=\"date margin-b\">\\n\\t<span class=\"field-content\"><span class=\"date-display-single\" property=\"dc:date\" datatype=\"xsd:dateTime\" content=\"2019-05-16T11:32:58-06:00\">Thursday, May 16, 2019</span></span></div>\\n\\t<h3 class=\"no-padding x-small lighter-text\"><span class=\"field-content\"><a href=\"https://www.colorado.gov/pacific/cdle/news/colorado-employment-situation-april-2019\">Colorado Employment Situation - April 2019</a></span></h3>\\n<div class=\"margin-b lighter-text smaller-text-views\">\\n\\t<span class=\"field-content\">From Department of Labor and Employment  </span></div>\\n</div>  </div>\\n  <div class=\"views-row views-row-3 views-row-odd\">\\n    <div class=\"view-page-item\">\\n<div class=\"date margin-b\">\\n\\t<span class=\"field-content\"><span class=\"date-display-single\" property=\"dc:date\" datatype=\"xsd:dateTime\" content=\"2019-05-16T11:01:03-06:00\">Thursday, May 16, 2019</span></span></div>\\n\\t<h3 class=\"no-padding x-small lighter-text\"><span class=\"field-content\"><a href=\"https://www.colorado.gov/pacific/hcpf/news/governor-signs-breast-cervical-cancer-treatment-bill\">Governor Signs Breast &amp; Cervical Cancer Treatment Bill</a></span></h3>\\n<div class=\"margin-b lighter-text smaller-text-views\">\\n\\t<span class=\"field-content\">From Department of Health Care Policy and Financing  </span></div>\\n</div>  </div>\\n  <div class=\"views-row views-row-4 views-row-even views-row-last\">\\n    <div class=\"view-page-item\">\\n<div class=\"date margin-b\">\\n\\t<span class=\"field-content\"><span class=\"date-display-single\" property=\"dc:date\" datatype=\"xsd:dateTime\" content=\"2019-05-16T10:58:05-06:00\">Thursday, May 16, 2019</span></span></div>\\n\\t<h3 class=\"no-padding x-small lighter-text\"><span class=\"field-content\"><a href=\"https://www.colorado.gov/pacific/hcpf/news/colorado-medicaid-creates-new-pharmacy-office-and-names-leadership\">Colorado Medicaid Creates New Pharmacy Office and Names Leadership</a></span></h3>\\n<div class=\"margin-b lighter-text smaller-text-views\">\\n\\t<span class=\"field-content\">From Department of Health Care Policy and Financing  </span></div>\\n</div>  </div>\\n  <h3>April</h3>\\n  <div class=\"views-row views-row-1 views-row-odd views-row-first\">\\n    <div class=\"view-page-item\">\\n<div class=\"date margin-b\">\\n\\t<span class=\"field-content\"><span class=\"date-display-single\" property=\"dc:date\" datatype=\"xsd:dateTime\" content=\"2019-04-18T17:00:14-06:00\">Thursday, April 18, 2019</span></span></div>\\n\\t<h3 class=\"no-padding x-small lighter-text\"><span class=\"field-content\"><a href=\"https://www.colorado.gov/pacific/cdle/news/colorado-employment-situation-march-2019\">Colorado Employment Situation - March 2019</a></span></h3>\\n<div class=\"margin-b lighter-text smaller-text-views\">\\n\\t<span class=\"field-content\">From Department of Labor and Employment  </span></div>\\n</div>  </div>\\n  <div class=\"views-row views-row-2 views-row-even\">\\n    <div class=\"view-page-item\">\\n<div class=\"date margin-b\">\\n\\t<span class=\"field-content\"><span class=\"date-display-single\" property=\"dc:date\" datatype=\"xsd:dateTime\" content=\"2019-04-11T15:45:17-06:00\">Thursday, April 11, 2019</span></span></div>\\n\\t<h3 class=\"no-padding x-small lighter-text\"><span class=\"field-content\"><a href=\"https://www.colorado.gov/pacific/cdle/news/governors-summer-job-hunt-kicks-39th-year-helping-young-people-understand-world-work\">Governor&#039;s Summer Job Hunt Kicks Off 39th Year of Helping Young People Understand the World of Work</a></span></h3>\\n<div class=\"margin-b lighter-text smaller-text-views\">\\n\\t<span class=\"field-content\">From Department of Labor and Employment  </span></div>\\n</div>  </div>\\n  <div class=\"views-row views-row-3 views-row-odd views-row-last\">\\n    <div class=\"view-page-item\">\\n<div class=\"date margin-b\">\\n\\t<span class=\"field-content\"><span class=\"date-display-single\" property=\"dc:date\" datatype=\"xsd:dateTime\" content=\"2019-04-08T16:01:51-06:00\">Monday, April 8, 2019</span></span></div>\\n\\t<h3 class=\"no-padding x-small lighter-text\"><span class=\"field-content\"><a href=\"https://www.colorado.gov/pacific/cdle/news/gov-polis-declares-april-dig-safely-month-colorado\">Gov. Polis Declares April &quot;Dig Safely Month&quot; in Colorado</a></span></h3>\\n<div class=\"margin-b lighter-text smaller-text-views\">\\n\\t<span class=\"field-content\">From Department of Labor and Employment  </span></div>\\n</div>  </div>\\n  <h3>March</h3>\\n  <div class=\"views-row views-row-1 views-row-odd views-row-first\">\\n    <div class=\"view-page-item\">\\n<div class=\"date margin-b\">\\n\\t<span class=\"field-content\"><span class=\"date-display-single\" property=\"dc:date\" datatype=\"xsd:dateTime\" content=\"2019-03-21T16:17:34-06:00\">Thursday, March 21, 2019</span></span></div>\\n\\t<h3 class=\"no-padding x-small lighter-text\"><span class=\"field-content\"><a href=\"https://www.colorado.gov/pacific/cdle/news/colorado-employment-situation-february-2019\">Colorado Employment Situation - February 2019</a></span></h3>\\n<div class=\"margin-b lighter-text smaller-text-views\">\\n\\t<span class=\"field-content\">From Department of Labor and Employment  </span></div>\\n</div>  </div>\\n  <div class=\"views-row views-row-2 views-row-even\">\\n    <div class=\"view-page-item\">\\n<div class=\"date margin-b\">\\n\\t<span class=\"field-content\"><span class=\"date-display-single\" property=\"dc:date\" datatype=\"xsd:dateTime\" content=\"2019-03-21T00:00:00-06:00\">Thursday, March 21, 2019</span></span></div>\\n\\t<h3 class=\"no-padding x-small lighter-text\"><span class=\"field-content\"><a href=\"https://www.colorado.gov/pacific/ops/041119UDPSCStakeholderMtg\">Stakeholder Meeting Notice: UDP Safety Commission Regulations</a></span></h3>\\n<div class=\"margin-b lighter-text smaller-text-views\">\\n\\t<span class=\"field-content\">From Department of Labor and Employment  </span></div>\\n</div>  </div>\\n  <div class=\"views-row views-row-3 views-row-odd views-row-last\">\\n    <div class=\"view-page-item\">\\n<div class=\"date margin-b\">\\n\\t<span class=\"field-content\"><span class=\"date-display-single\" property=\"dc:date\" datatype=\"xsd:dateTime\" content=\"2019-03-11T09:52:11-06:00\">Monday, March 11, 2019</span></span></div>\\n\\t<h3 class=\"no-padding x-small lighter-text\"><span class=\"field-content\"><a href=\"https://www.colorado.gov/pacific/cdle/news/colorado-employment-situation-january-2019\">Colorado Employment Situation - January 2019</a></span></h3>\\n<div class=\"margin-b lighter-text smaller-text-views\">\\n\\t<span class=\"field-content\">From Department of Labor and Employment  </span></div>\\n</div>  </div>\\n    </div>\\n  \\n      <h2 class=\"element-invisible\">Pages</h2><ul class=\"pager\"><li class=\"pager__item pager__item--current\">1</li>\\n<li class=\"pager__item\"><a title=\"Go to page 2\" href=\"/news?page=1\">2</a></li>\\n<li class=\"pager__item\"><a title=\"Go to page 3\" href=\"/news?page=2\">3</a></li>\\n<li class=\"pager__item\"><a title=\"Go to page 4\" href=\"/news?page=3\">4</a></li>\\n<li class=\"pager__item\"><a title=\"Go to page 5\" href=\"/news?page=4\">5</a></li>\\n<li class=\"pager__item\"><a title=\"Go to page 6\" href=\"/news?page=5\">6</a></li>\\n<li class=\"pager__item\"><a title=\"Go to page 7\" href=\"/news?page=6\">7</a></li>\\n<li class=\"pager__item\"><a title=\"Go to page 8\" href=\"/news?page=7\">8</a></li>\\n<li class=\"pager__item\"><a title=\"Go to page 9\" href=\"/news?page=8\">9</a></li>\\n<li class=\"pager__item pager__item--ellipsis\">\\xe2\\x80\\xa6</li>\\n<li class=\"pager__item pager__item--next\"><a title=\"Go to next page\" href=\"/news?page=1\">next \\xe2\\x80\\xba</a></li>\\n<li class=\"pager__item pager__item--last\"><a href=\"/news?page=65\"></a></li>\\n</ul>  \\n  \\n  \\n  \\n  \\n</div>\\t\\t    \\t</div>\\n\\t\\t    </main>\\n\\t\\t    <!-- Sidebar -->\\n\\t\\t    <aside class=\"grid--1-5\" aria-label=\"filter by\">\\n\\t\\t        <aside class=\"l-region l-region--sidebar-second\">\\n    <div id=\"block-facetapi-ufxklr9hzq4mu3iozrjuhh4a5yfwprnj\" class=\"block block--facetapi facetapi-collapsible block--facetapi-ufxklr9hzq4mu3iozrjuhh4a5yfwprnj\">\\n        <h2 class=\"block__title\">Executive Office</h2>\\n      <div class=\"block__content\">\\n    <div class=\"facet-collapsible-wrapper\" id=\"facet-collapsible-field-executive-office:name\"><ul class=\"facetapi-collapsible facetapi-facet-field-executive-officename facetapi-collapsible\" id=\"facetapi-facet-search-apistate-agencies-index-block-field-executive-officename\"><li class=\"leaf\"><div class=\"facetapi-facet facetapi-inactive\"><a href=\"/news?f%5B0%5D=field_executive_office%253Aname%3AOffice%20of%20the%20Governor\" rel=\"nofollow\" class=\"facetapi-inactive\" id=\"facetapi-link--3\">Office of the Governor (204)<span class=\"element-invisible\"> Apply Office of the Governor filter </span></a></div></li>\\n<li class=\"leaf\"><div class=\"facetapi-facet facetapi-inactive\"><a href=\"/news?f%5B0%5D=field_executive_office%253Aname%3AOffice%20of%20Lieutenant%20Governor\" rel=\"nofollow\" class=\"facetapi-inactive\" id=\"facetapi-link--4\">Office of Lieutenant Governor (24)<span class=\"element-invisible\"> Apply Office of Lieutenant Governor filter </span></a></div></li>\\n</ul></div>  </div>\\n</div>\\n<div id=\"block-facetapi-pd0ucomka8gmv2rffe1s6y7xxo4qru2n\" class=\"block block--facetapi facetapi-collapsible block--facetapi-pd0ucomka8gmv2rffe1s6y7xxo4qru2n\">\\n        <h2 class=\"block__title\">State Agency</h2>\\n      <div class=\"block__content\">\\n    <div class=\"facet-collapsible-wrapper\" id=\"facet-collapsible-field-state-agency:name\"><ul class=\"facetapi-collapsible facetapi-facet-field-state-agencyname facetapi-collapsible\" id=\"facetapi-facet-search-apistate-agencies-index-block-field-state-agencyname\"><li class=\"leaf\"><div class=\"facetapi-facet facetapi-inactive\"><a href=\"/news?f%5B0%5D=field_state_agency%253Aname%3ADepartment%20of%20Labor%20and%20Employment%2C%20Division%20of%20Oil%20and%20Public%20Safety\" rel=\"nofollow\" class=\"facetapi-inactive\" id=\"facetapi-link--5\">Department of Labor and Employment, Division of Oil and Public Safety (77)<span class=\"element-invisible\"> Apply Department of Labor and Employment, Division of Oil and Public Safety filter </span></a></div></li>\\n<li class=\"leaf\"><div class=\"facetapi-facet facetapi-inactive\"><a href=\"/news?f%5B0%5D=field_state_agency%253Aname%3ADepartment%20of%20Public%20Health%20%26%20Environment\" rel=\"nofollow\" class=\"facetapi-inactive\" id=\"facetapi-link--6\">Department of Public Health &amp; Environment (53)<span class=\"element-invisible\"> Apply Department of Public Health &amp; Environment filter </span></a></div></li>\\n<li class=\"leaf\"><div class=\"facetapi-facet facetapi-inactive\"><a href=\"/news?f%5B0%5D=field_state_agency%253Aname%3ADepartment%20of%20Regulatory%20Agencies\" rel=\"nofollow\" class=\"facetapi-inactive\" id=\"facetapi-link--7\">Department of Regulatory Agencies (51)<span class=\"element-invisible\"> Apply Department of Regulatory Agencies filter </span></a></div></li>\\n<li class=\"leaf\"><div class=\"facetapi-facet facetapi-inactive\"><a href=\"/news?f%5B0%5D=field_state_agency%253Aname%3ADepartment%20of%20Labor%20and%20Employment\" rel=\"nofollow\" class=\"facetapi-inactive\" id=\"facetapi-link--8\">Department of Labor and Employment (46)<span class=\"element-invisible\"> Apply Department of Labor and Employment filter </span></a></div></li>\\n<li class=\"leaf\"><div class=\"facetapi-facet facetapi-inactive\"><a href=\"/news?f%5B0%5D=field_state_agency%253Aname%3ADepartment%20of%20Public%20Safety\" rel=\"nofollow\" class=\"facetapi-inactive\" id=\"facetapi-link--9\">Department of Public Safety (43)<span class=\"element-invisible\"> Apply Department of Public Safety filter </span></a></div></li>\\n<li class=\"leaf\"><div class=\"facetapi-facet facetapi-inactive\"><a href=\"/news?f%5B0%5D=field_state_agency%253Aname%3ADepartment%20of%20Agriculture\" rel=\"nofollow\" class=\"facetapi-inactive\" id=\"facetapi-link--10\">Department of Agriculture (41)<span class=\"element-invisible\"> Apply Department of Agriculture filter </span></a></div></li>\\n<li class=\"leaf\"><div class=\"facetapi-facet facetapi-inactive\"><a href=\"/news?f%5B0%5D=field_state_agency%253Aname%3ADepartment%20of%20Health%20Care%20Policy%20and%20Financing\" rel=\"nofollow\" class=\"facetapi-inactive\" id=\"facetapi-link--11\">Department of Health Care Policy and Financing (40)<span class=\"element-invisible\"> Apply Department of Health Care Policy and Financing filter </span></a></div></li>\\n<li class=\"leaf\"><div class=\"facetapi-facet facetapi-inactive\"><a href=\"/news?f%5B0%5D=field_state_agency%253Aname%3AColorado%20Energy%20Office\" rel=\"nofollow\" class=\"facetapi-inactive\" id=\"facetapi-link--12\">Colorado Energy Office (30)<span class=\"element-invisible\"> Apply Colorado Energy Office filter </span></a></div></li>\\n<li class=\"leaf\"><div class=\"facetapi-facet facetapi-inactive\"><a href=\"/news?f%5B0%5D=field_state_agency%253Aname%3ADepartment%20of%20Personnel%20and%20Administration\" rel=\"nofollow\" class=\"facetapi-inactive\" id=\"facetapi-link--13\">Department of Personnel and Administration (19)<span class=\"element-invisible\"> Apply Department of Personnel and Administration filter </span></a></div></li>\\n<li class=\"leaf\"><div class=\"facetapi-facet facetapi-inactive\"><a href=\"/news?f%5B0%5D=field_state_agency%253Aname%3AColorado%20Workforce%20Development%20Council\" rel=\"nofollow\" class=\"facetapi-inactive\" id=\"facetapi-link--14\">Colorado Workforce Development Council (17)<span class=\"element-invisible\"> Apply Colorado Workforce Development Council filter </span></a></div></li>\\n<li class=\"leaf\"><div class=\"facetapi-facet facetapi-inactive\"><a href=\"/news?f%5B0%5D=field_state_agency%253Aname%3ADepartment%20of%20Public%20Safety%2C%20School%20Safety%20Resource%20Center\" rel=\"nofollow\" class=\"facetapi-inactive\" id=\"facetapi-link--15\">Department of Public Safety, School Safety Resource Center (12)<span class=\"element-invisible\"> Apply Department of Public Safety, School Safety Resource Center filter </span></a></div></li>\\n<li class=\"leaf\"><div class=\"facetapi-facet facetapi-inactive\"><a href=\"/news?f%5B0%5D=field_state_agency%253Aname%3ADepartment%20of%20Agriculture%2C%20Animal%20Health%20Division\" rel=\"nofollow\" class=\"facetapi-inactive\" id=\"facetapi-link--16\">Department of Agriculture, Animal Health Division (5)<span class=\"element-invisible\"> Apply Department of Agriculture, Animal Health Division filter </span></a></div></li>\\n<li class=\"leaf\"><div class=\"facetapi-facet facetapi-inactive\"><a href=\"/news?f%5B0%5D=field_state_agency%253Aname%3ADepartment%20of%20Human%20Services\" rel=\"nofollow\" class=\"facetapi-inactive\" id=\"facetapi-link--17\">Department of Human Services (1)<span class=\"element-invisible\"> Apply Department of Human Services filter </span></a></div></li>\\n<li class=\"leaf\"><div class=\"facetapi-facet facetapi-inactive\"><a href=\"/news?f%5B0%5D=field_state_agency%253Aname%3ADepartment%20of%20Revenue\" rel=\"nofollow\" class=\"facetapi-inactive\" id=\"facetapi-link--18\">Department of Revenue (1)<span class=\"element-invisible\"> Apply Department of Revenue filter </span></a></div></li>\\n<li class=\"leaf\"><div class=\"facetapi-facet facetapi-inactive\"><a href=\"/news?f%5B0%5D=field_state_agency%253Aname%3ADepartment%20of%20Revenue%2C%20Division%20of%20Motor%20Vehicle\" rel=\"nofollow\" class=\"facetapi-inactive\" id=\"facetapi-link--19\">Department of Revenue, Division of Motor Vehicle (1)<span class=\"element-invisible\"> Apply Department of Revenue, Division of Motor Vehicle filter </span></a></div></li>\\n<li class=\"leaf\"><div class=\"facetapi-facet facetapi-inactive\"><a href=\"/news?f%5B0%5D=field_state_agency%253Aname%3ADepartment%20of%20Revenue%2C%20Division%20of%20Taxation\" rel=\"nofollow\" class=\"facetapi-inactive\" id=\"facetapi-link--20\">Department of Revenue, Division of Taxation (1)<span class=\"element-invisible\"> Apply Department of Revenue, Division of Taxation filter </span></a></div></li>\\n</ul></div>  </div>\\n</div>\\n  </aside>\\n\\t\\t    </aside>\\n\\t\\t</div>\\n\\n      <!-- Search Overlay -->\\n      <div class=\"overlay\" id=\"search-overlay\">\\n\\n\\t<div class=\"grid--row grey padded-x-2\">\\n\\t\\t\\t<!-- Close Button -->\\n\\t\\t\\t<div class=\"close-overlay-btn\">\\n\\t\\t\\t</div>\\n\\n\\t\\t\\t<div class=\"grid--1-3 type-to-search\">\\n\\t\\t\\t  <h3 class=\"overlay-header green\" id=\"search\" aria-labelledby=\"ID\">Search</h3>\\n\\t\\t\\t</div>\\n\\t\\t\\t<!-- end grid 1-3 -->\\n\\n\\t\\t\\t<div class=\"grid--2-3 popular-search align-right padded-r-x\">\\n\\t\\t\\t\\t<span>Popular Search Terms:</span>\\n\\n\\t\\t\\t\\t<!-- The following three lines of code are used to dynamically pull in and populate search terms from Google.\\n\\t\\t\\t\\tWe have had some issues with https and have decided to leave out for now, with every intention of coming back and fixing. -->\\n\\n\\n\\t\\t\\t\\t<div id=\"queries\"></div>\\n\\t\\t\\t\\t<script src=\"https://cse.google.com/query_renderer.js\"></script>\\n\\t\\t\\t\\t<script src=\"https://cse.google.com/api/005331801672446424340/cse/vmhybt5tx_s/queries/js?view=month&callback=(new+PopularQueryRenderer(document.getElementById(%22queries%22))).render\"></script>\\n\\n\\t\\t\\t  \\t\\t\\t</div>\\n\\t\\t\\t<!-- end grid 2-3 -->\\n\\t</div>\\n\\t<!-- end row -->\\n\\n\\t<!-- Large Search Input -->\\n\\t<div class=\"grid--row\">\\n\\t\\t<div class=\"grid--1 padded-x-2\">\\n          <p id=\"access-popular-search-terms\" hidden aria-hidden=\"true\">Press shift tab to access popular search terms</p>\\n          <gcse:searchbox-only resultsUrl=\"/search\" queryParameterName=\"tid\"></gcse:searchbox-only>\\n  </div>\\n\\n\\t</div>\\n\\t<!-- end row -->\\n\\n\\t<div class=\"grid--row\">\\n\\t\\t<div class=\"grid--1 padded-x-2\">\\n\\n\\t\\t</div>\\n\\t</div>\\n\\t<!-- end row -->\\n</div>\\n<!-- end overlay -->\\n      <!-- Contact Overlay -->\\n      <div class=\"overlay is-overlay-not-visible\" id=\"contact-overlay\">\\n\\n\\t<div class=\"grid--row grey padded-x-2\">\\n\\t\\t\\t<!-- Close Button -->\\n\\t\\t\\t<div class=\"close-overlay-btn\">\\n\\t\\t\\t</div>\\n\\n\\t\\t\\t<div class=\"grid--1\">\\n\\t\\t\\t\\t<h3 class=\"overlay-header green\">Contact Us</h3>\\n\\t\\t\\t</div>\\n\\t</div>\\n\\t<!-- end row -->\\n\\n\\t<div class=\"grid--row padded-x-2\">\\n\\n\\t\\t<form id=\"contact-us-form\">\\n\\t\\t\\t<input id=\"contact-us-input\" type=\"text\" class=\"large-search-input\" placeholder=\"Agency Lookup by Keywords\" aria-describedby=\"contact-us-supporting-text\">\\n\\t\\t\\t<button aria-label=\"search contacts\" class=\"search-submit-btn\"></button>\\n\\t\\t</form>\\n\\t\\t<!-- end form -->\\n\\n\\t\\t<div class=\"supporting-text\">\\n\\t\\t\\t<p id=\"contact-us-supporting-text\">\\n\\t\\t\\t\\tSearch results contain all keywords. Press \\'esc\\' to close overlay.<br />\\n\\t\\t\\t</p>\\n\\t\\t\\t<p>\\n\\t\\t\\t\\tExample: \"Motor Vehicle\" will only present results for \"Motor Vehicle\" not \"Motor\" or \"Vehicle\".\\n\\t\\t\\t</p>\\n\\t\\t</div>\\n\\n\\t\\t<svg xmlns=\"http://www.w3.org/2000/svg\" version=\"1.1\" height=\"0px\">\\n\\t\\t  <defs>\\n\\t\\t    <filter id=\"goo\">\\n\\t\\t      <feGaussianBlur in=\"SourceGraphic\" stdDeviation=\"10\" result=\"blur\" />\\n\\t\\t      <feColorMatrix in=\"blur\" mode=\"matrix\" values=\"1 0 0 0 0  0 1 0 0 0  0 0 1 0 0  0 0 0 19 -9\" result=\"goo\" />\\n\\t\\t      <feComposite in=\"SourceGraphic\" in2=\"goo\" operator=\"atop\" />\\n\\t\\t    </filter>\\n\\t\\t  </defs>\\n\\t\\t</svg>\\n\\n\\t\\t<!-- Departments -->\\n\\t\\t<div id=\"contact-us-response-area\">\\n\\n\\t\\t</div>\\n\\n\\t\\t<!-- Cards -->\\n\\t\\t<div class=\"equal-height-card card grey margin-y\">\\n\\t\\t\\t<div class=\"card-title\">\\n\\t\\t\\t\\tGet In Touch\\n\\t\\t\\t</div>\\n\\t\\t\\t<div class=\"content\">\\n\\t\\t\\t\\t<p class=\"no-margin\">\\n\\t\\t\\t\\t\\t<a href=\"/submit-case\">\\n\\t\\t\\t\\t\\t\\tEmail\\n\\t\\t\\t\\t\\t</a><br/>\\n\\t\\t\\t\\t\\t<a href=\"/submit-case\">\\n\\t\\t\\t\\t\\t\\tReport a Problem or Ask a Question\\n\\t\\t\\t\\t\\t</a><br />\\n\\t\\t\\t\\t\\tFor technical support on online services <br />\\n\\t\\t\\t\\t\\tcall 303-534-3468 X 0<br/>\\n\\t\\t\\t\\t\\tPlease note that we are not a state agency\\n\\t\\t\\t\\t</p>\\n\\t\\t\\t\\t<a class=\"card-btn\" href=\"javascript://Chat\" id=\"liveagent_button_online_573400000008OR4\" style=\"display: none;\" onclick=\"liveagent.startChat(\\'573400000008OR4\\')\">\\n\\t\\t\\t\\t\\t<img alt=\"Live Chat is online\" src=\"sites/all/themes/colorado_gov/images/icons/live_chat_online_blue.svg\" alt=\"\">\\n\\t\\t\\t\\t</a>\\n\\t\\t\\t\\t<a class=\"card-btn\" href=\"javascript://Chat\" id=\"liveagent_button_offline_573400000008OR4\" style=\"display: none;\" onclick=\"liveagent.startChat(\\'573400000008OR4\\')\">\\n\\t\\t\\t\\t\\t<img alt=\"Live chat is offline\" src=\"sites/all/themes/colorado_gov/images/icons/live_chat_offline_gray.svg\" alt=\"\">\\n\\t\\t\\t\\t</a>\\n\\t\\t\\t</div>\\n\\t\\t</div>\\n\\n\\t\\t<div class=\"equal-height-card card grey margin-y\">\\n\\t\\t\\t<div class=\"card-title\">\\n\\t\\t\\t\\tGovernment Directories\\n\\t\\t\\t</div>\\n\\t\\t\\t<div class=\"content\">\\n\\t\\t\\t\\t<p class=\"no-margin\">\\n\\t\\t\\t\\t<a href=\"http://www.colorado.gov/apps/oit/directory/start.jsf\">\\n\\t\\t\\t\\t\\tState Employee Directory\\n\\t\\t\\t\\t</a><br />\\n\\t\\t\\t\\t<a href=\"/state-agencies\">\\n\\t\\t\\t\\t\\tState Agency Directory\\n\\t\\t\\t\\t</a><br />\\n\\t\\t\\t\\t<a href=\"https://dola.colorado.gov/lgis/\">\\n\\t\\t\\t\\t\\tLocal Government Directory\\n\\t\\t\\t\\t</a>\\n\\t\\t\\t\\t</p>\\n\\t\\t\\t\\t<a class=\"card-btn\" href=\"https://sipacoloradogov.maps.arcgis.com/apps/webappviewer/index.html?id=4a33a01e6a3d4530adb9f98c5d5455f5\">\\n\\t\\t\\t\\t\\t<img alt=\"Find government services near you\" src=\"sites/all/themes/colorado_gov/images/icons/gov_services_blue.svg\" alt=\"\">\\n\\t\\t\\t\\t</a>\\n\\t\\t\\t</div>\\n\\t\\t</div>\\n\\n\\t\\t<div class=\"equal-height-card card grey margin-y\">\\n\\t\\t\\t<div class=\"card-title\">\\n\\t\\t\\t\\tCitizens Assistance\\n\\t\\t\\t</div>\\n\\t\\t\\t<div class=\"content\">\\n\\t\\t\\t\\t<p class=\"no-margin\">\\n\\t\\t\\t\\t\\t<a href=\"/gethelp\">Explore this interactive service</a> designed to help citizens with common questions.\\n\\t\\t\\t\\t</p>\\n\\t\\t\\t\\t<a class=\"card-btn\" href=\"/apps/feedback/servlet/begin?application=colorado-cms-website\">\\n\\t\\t\\t\\t\\t<img alt=\"Leave feedback\" src=\"sites/all/themes/colorado_gov/images/icons/feedback_blue.svg\" alt=\"\">\\n\\t\\t\\t\\t</a>\\n\\t\\t\\t</div>\\n\\t\\t</div>\\n\\n\\t</div>\\n</div>\\n<!-- end overlay -->\\n      <!-- Footer -->\\n      \\n<!-- Live Chat -->\\n<script type=\"text/javascript\">\\n  if (!window._laq) { \\n  \\twindow._laq = []; \\n  }\\n\\n  window._laq.push( function() {\\n  \\tliveagent.showWhenOnline(\\n  \\t\\t\\'573400000008OR4\\', \\n  \\t\\tdocument.getElementById(\\'liveagent_button_online_573400000008OR4\\')\\n  \\t);\\n  \\tliveagent.showWhenOffline(\\n  \\t\\t\\'573400000008OR4\\', \\n  \\t\\tdocument.getElementById(\\'liveagent_button_offline_573400000008OR4\\')\\n  \\t);\\n  });\\n</script>\\n<script type=\\'text/javascript\\' src=\\'https://c.la2c1.salesforceliveagent.com/content/g/deployment.js\\'></script>\\n<script type=\\'text/javascript\\'>\\n\\tliveagent.init(\\'https://d.la2c1.salesforceliveagent.com/chat\\', \\'572400000008OQu\\', \\'00D40000000MqIX\\');\\n</script>\\n\\n<footer id=\"main-footer\" class=\"internal\">\\n\\n\\t<!-- Main content | Menus and Online Chat -->\\n\\t<div class=\"footer--main-content padded-x-2 padded-b\">\\n\\t\\t<!-- Online -->\\n\\t\\t<!--  <a class=\"support-box\" id=\"liveagent_button_online_573400000008OR4\" style=\"display: none;\" href=\"javascript://Chat\" onclick=\"liveagent.startChat(\\'573400000008OR4\\')\">\\n\\t    </a> -->\\n\\t\\t<!-- Offline -->\\n\\t   <!--  <div class=\"support-box\" id=\"liveagent_button_offline_573400000008OR4\" style=\"display: none;\">\\n\\t    </div> -->\\n\\t\\t<div class=\"container footer-menus max-width padded-x-2\">\\n\\t\\t\\t  <div class=\"l-region l-region--footer\">\\n    <div id=\"block-block-1\" class=\"block block--block colorblock block--block-1\">\\n        <h2 class=\"block__title\">Gov. Jared Polis</h2>\\n      <div class=\"block__content\">\\n     <p><img alt=\"\" class=\"media-image\" height=\"384\" style=\"width: 110px; height: 88px;\" width=\"480\" typeof=\"foaf:Image\" src=\"https://www.colorado.gov/sites/default/files/styles/large/public/governor_polis_img_footer.jpg?itok=AYvATqab\" />\\xc2\\xa0<a href=\"/governor\">Homepage</a></p>\\n<p>\\xc2\\xa0<a href=\"/governor/contact-us\">Contact</a></p>\\n<div class=\"gov-social-links\">\\n<p><a href=\"https://www.facebook.com/jaredpolis\"><img alt=\"\" class=\"media-image\" height=\"58\" style=\"width: 20px; height: 20px;\" width=\"57\" typeof=\"foaf:Image\" src=\"https://www.colorado.gov/sites/default/files/facebook-icon.png\" /></a><a href=\"https://twitter.com/GovofCO\"><img alt=\"\" class=\"media-image\" height=\"47\" style=\"width: 24px; height: 20px;\" width=\"57\" typeof=\"foaf:Image\" src=\"https://www.colorado.gov/sites/default/files/twitter-icon.png\" /></a><a href=\"https://www.instagram.com/govofco/\"><img alt=\"\" class=\"media-image\" height=\"30\" style=\"width: 20px; height: 20px;\" width=\"30\" typeof=\"foaf:Image\" src=\"https://www.colorado.gov/sites/default/files/instgram-icon.png\" /></a></p>\\n</div>\\n   </div>\\n</div>\\n<nav id=\"block-menu-menu-alerts\" role=\"navigation\" class=\"block block--menu block--menu-menu-alerts\">\\n        <h2 class=\"block__title\">Alerts</h2>\\n    \\n  <ul class=\"menu\"><li class=\"first leaf\"><a href=\"https://www.colorado.gov/sites/default/files/ERG_Master_PageView_01.03.19.pdf\" title=\"\">Emergency Response Guide</a></li>\\n<li class=\"leaf\"><a href=\"http://www.dhsem.state.co.us/emergency-management/emergency-management\" title=\"\">Emergency Management</a></li>\\n<li class=\"leaf\"><a href=\"https://www.readycolorado.com/\" title=\"\">Community Preparedness</a></li>\\n<li class=\"leaf\"><a href=\"http://www.dhsem.state.co.us/home\" title=\"\">Homeland Security</a></li>\\n<li class=\"leaf\"><a href=\"http://www.cotrip.org/travelAlerts.htm\" title=\"\">Travel Alerts</a></li>\\n<li class=\"leaf\"><a href=\"http://www.cotrip.org/roadConditions.htm\" title=\"\">Road Conditions</a></li>\\n<li class=\"last leaf\"><a href=\"http://www.oit.state.co.us/ois\" title=\"\">Cyber Security</a></li>\\n</ul></nav>\\n<nav id=\"block-menu-menu-help-center\" role=\"navigation\" class=\"block block--menu accordionclear block--menu-menu-help-center\">\\n        <h2 class=\"block__title\">Help Center</h2>\\n    \\n  <ul class=\"menu\"><li class=\"first leaf\"><a href=\"/state-agencies\" title=\"\">State Agencies</a></li>\\n<li class=\"leaf\"><a href=\"http://www.colorado.gov/apps/oit/directory/start.jsf\" title=\"\">State Employee Directory</a></li>\\n<li class=\"leaf\"><a href=\"https://www.colorado.gov/apps/oit/transparency/index.html\" title=\"\">Transparency Online Project (TOPS)</a></li>\\n<li class=\"leaf\"><a href=\"/registered-services\" title=\"\">Registered Services</a></li>\\n<li class=\"leaf\"><a href=\"http://www.colorado.gov/apps/feedback/servlet/begin?application=colorado-cms-website\" title=\"\">Feedback</a></li>\\n<li class=\"leaf\"><a href=\"https://211colorado.communityos.org/cms/home\" title=\"\">211 Health</a></li>\\n<li class=\"leaf\"><a href=\"http://www.wc211.org/\" title=\"\">211 Health Western Colorado</a></li>\\n<li class=\"leaf\"><a href=\"http://www.cotrip.org/home.htm\" title=\"\">511 Traffic</a></li>\\n<li class=\"last leaf\"><a href=\"http://call811.com/\" title=\"\">811 Dig</a></li>\\n</ul></nav>\\n<nav id=\"block-menu-menu-policies\" role=\"navigation\" class=\"block block--menu block--menu-menu-policies\">\\n        <h2 class=\"block__title\">Policies</h2>\\n    \\n  <ul class=\"menu\"><li class=\"first leaf\"><a href=\"/accessibility-standards\" title=\"\">Accessibility</a></li>\\n<li class=\"leaf\"><a href=\"/legal-notices\" title=\"\">Legal Notices</a></li>\\n<li class=\"leaf\"><a href=\"/linking-policy\" title=\"\">Linking Policy</a></li>\\n<li class=\"leaf\"><a href=\"/privacy-statement\" title=\"\">Privacy Statement</a></li>\\n<li class=\"leaf\"><a href=\"/security-statement\" title=\"\">Security Statement</a></li>\\n<li class=\"last leaf\"><a href=\"/supported-browsers\" title=\"\">Supported Browsers</a></li>\\n</ul></nav>\\n  </div>\\n\\t\\t</div>\\n\\t</div>\\n\\n\\t<!-- Copyright and Social -->\\n\\t<div class=\"footer--bottom-content padded-x-2\">\\n\\t\\t<div class=\"container max-width padded-x\">\\n\\t\\t\\t<div class=\"copyright grid--2-3\">\\n\\t\\t\\t\\t&copy; 2019 State of Colorado\\n\\t\\t\\t</div>\\n\\n\\t\\t\\t<div class=\"social-icons grid--1-3\">\\n\\t\\t\\t\\t<a href=\"https://www.facebook.com/Colorado.gov/timeline\" class=\"facebook-icon\" title=\"Visit our Facebook Page\"></a>\\n\\t\\t\\t\\t<a href=\"https://twitter.com/coloradogov\" class=\"twitter-icon\" title=\"Visit our Twitter Feed\" ></a>\\n\\t\\t\\t</div>\\n\\t\\t</div>\\n\\t</div>\\n\\n</footer>    </div>\\n    <!-- end main content -->\\n\\n     <!-- Navigation -->\\n    \\n<div class=\"l-nav is-nav-collapsed\">\\n    <div class=\"l-region l-region--navigation\">\\n    <nav id=\"block-system-main-menu\" role=\"navigation\" class=\"block block--system block--menu block--system-main-menu\">\\n      \\n  <ul class=\"menu\"><li class=\"first leaf\"><a href=\"http://www.colorado.gov/governor\" title=\"\">Governor</a></li>\\n<li class=\"expanded\"><span title=\"\" class=\"nolink\">Government</span><ul class=\"menu\"><li class=\"first leaf\"><a href=\"/state-agencies\" title=\"\">State Agencies</a></li>\\n<li class=\"leaf\"><a href=\"/government-branches\">Branches of Government</a></li>\\n<li class=\"last leaf\"><a href=\"/local-government\" title=\"\">Local Government</a></li>\\n</ul></li>\\n<li class=\"expanded\"><span title=\"\" class=\"nolink\">Business</span><ul class=\"menu\"><li class=\"first leaf\"><a href=\"/businesses-employers\" title=\"\">Businesses &amp; Employers</a></li>\\n<li class=\"last leaf\"><a href=\"/business-resources\" title=\"\">Resources</a></li>\\n</ul></li>\\n<li class=\"expanded\"><span title=\"\" class=\"nolink\">Employment</span><ul class=\"menu\"><li class=\"first leaf\"><a href=\"/jobs-training\" title=\"\">Jobs &amp; Training</a></li>\\n<li class=\"leaf\"><a href=\"/unemployment\">Unemployment</a></li>\\n<li class=\"last leaf\"><a href=\"/professional-licenses\">Professional Licenses</a></li>\\n</ul></li>\\n<li class=\"expanded\"><span title=\"\" class=\"nolink\">Education</span><ul class=\"menu\"><li class=\"first leaf\"><a href=\"/k-12-education\" title=\"\">K - 12 Education</a></li>\\n<li class=\"last leaf\"><a href=\"/higher-education\" title=\"\">Higher Education</a></li>\\n</ul></li>\\n<li class=\"expanded\"><span title=\"\" class=\"nolink\">Residents</span><ul class=\"menu\"><li class=\"first leaf\"><a href=\"/family-resources\">Family Resources</a></li>\\n<li class=\"last leaf\"><a href=\"/civic-resources\">Civic Resources</a></li>\\n</ul></li>\\n<li class=\"expanded\"><span title=\"\" class=\"nolink\">Visitors</span><ul class=\"menu\"><li class=\"first leaf\"><a href=\"/outdoor-activities\">Outdoor Activities</a></li>\\n<li class=\"last leaf\"><a href=\"/leisure-activities\">Leisure Activities</a></li>\\n</ul></li>\\n<li class=\"expanded\"><span title=\"\" class=\"nolink\">About Colorado</span><ul class=\"menu\"><li class=\"first leaf\"><a href=\"/colorado-history\" title=\"\">Colorado&#039;s History</a></li>\\n<li class=\"last leaf\"><a href=\"/state-information\">State Information</a></li>\\n</ul></li>\\n<li class=\"last leaf\"><a href=\"/online-services\" title=\"\">Online Services</a></li>\\n</ul></nav>\\n  </div>\\n</div>\\n\\n<div id=\"nav-info\" class=\"is-hidden\">\\n\\tpress enter to expand a category\\n</div>\\n<!-- end nav -->\\n    \\n  </div>\\n  <!-- end content-container -->\\n    </body>\\n</html>\\n'"
      ]
     },
     "execution_count": 3,
     "metadata": {},
     "output_type": "execute_result"
    }
   ],
   "source": [
    "res.content"
   ]
  },
  {
   "cell_type": "code",
   "execution_count": 4,
   "metadata": {},
   "outputs": [],
   "source": [
    "from bs4 import BeautifulSoup as bs"
   ]
  },
  {
   "cell_type": "code",
   "execution_count": 5,
   "metadata": {},
   "outputs": [],
   "source": [
    "soup = bs(res.content, 'lxml')"
   ]
  },
  {
   "cell_type": "code",
   "execution_count": 6,
   "metadata": {},
   "outputs": [],
   "source": [
    "divs = soup.find_all('div', {'class': 'view-page-item'})"
   ]
  },
  {
   "cell_type": "code",
   "execution_count": 10,
   "metadata": {},
   "outputs": [
    {
     "data": {
      "text/plain": [
       "'\\n\\nWednesday, May 29, 2019\\nGovernor Signs Nursing Home Penalty Cash Fund Bill\\n\\nFrom Department of Health Care Policy and Financing  \\n'"
      ]
     },
     "execution_count": 10,
     "metadata": {},
     "output_type": "execute_result"
    }
   ],
   "source": [
    "divs[0].text"
   ]
  },
  {
   "cell_type": "code",
   "execution_count": 11,
   "metadata": {},
   "outputs": [
    {
     "data": {
      "text/plain": [
       "10"
      ]
     },
     "execution_count": 11,
     "metadata": {},
     "output_type": "execute_result"
    }
   ],
   "source": [
    "len(divs)"
   ]
  },
  {
   "cell_type": "code",
   "execution_count": 12,
   "metadata": {},
   "outputs": [
    {
     "data": {
      "text/plain": [
       "<!DOCTYPE html>\n",
       "<!--[if IEMobile 7]><html class=\"no-js ie iem7\" lang=\"en\" dir=\"ltr\"><![endif]--><!--[if lte IE 6]><html class=\"no-js ie lt-ie9 lt-ie8 lt-ie7\" lang=\"en\" dir=\"ltr\"><![endif]--><!--[if (IE 7)&(!IEMobile)]><html class=\"no-js ie lt-ie9 lt-ie8\" lang=\"en\" dir=\"ltr\"><![endif]--><!--[if IE 8]><html class=\"no-js ie lt-ie9\" lang=\"en\" dir=\"ltr\"><![endif]--><!--[if (gte IE 9)|(gt IEMobile 7)]><html class=\"no-js ie\" lang=\"en\" dir=\"ltr\" prefix=\"content: http://purl.org/rss/1.0/modules/content/ dc: http://purl.org/dc/terms/ foaf: http://xmlns.com/foaf/0.1/ og: http://ogp.me/ns# rdfs: http://www.w3.org/2000/01/rdf-schema# sioc: http://rdfs.org/sioc/ns# sioct: http://rdfs.org/sioc/types# skos: http://www.w3.org/2004/02/skos/core# xsd: http://www.w3.org/2001/XMLSchema#\"><![endif]--><!--[if !IE]><!--><html class=\"no-js\" dir=\"ltr\" lang=\"en\" prefix=\"content: http://purl.org/rss/1.0/modules/content/ dc: http://purl.org/dc/terms/ foaf: http://xmlns.com/foaf/0.1/ og: http://ogp.me/ns# rdfs: http://www.w3.org/2000/01/rdf-schema# sioc: http://rdfs.org/sioc/ns# sioct: http://rdfs.org/sioc/types# skos: http://www.w3.org/2004/02/skos/core# xsd: http://www.w3.org/2001/XMLSchema#\"><!--<![endif]-->\n",
       "<head>\n",
       "<meta charset=\"utf-8\"/>\n",
       "<meta content=\"Drupal 7 (http://drupal.org)\" name=\"Generator\"/>\n",
       "<link href=\"https://www.colorado.gov/sites/default/files/favicon.ico\" rel=\"shortcut icon\" type=\"image/vnd.microsoft.icon\"/>\n",
       "<link href=\"https://www.w3.org/1999/xhtml/vocab\" rel=\"profile\"/>\n",
       "<meta content=\"true\" name=\"HandheldFriendly\"/>\n",
       "<meta content=\"width\" name=\"MobileOptimized\"/>\n",
       "<meta content=\"on\" http-equiv=\"cleartype\"/>\n",
       "<link href=\"https://www.colorado.gov/sites/all/themes/omega/omega/apple-touch-icon-precomposed-144x144.png\" rel=\"apple-touch-icon-precomposed\" sizes=\"144x144\"/>\n",
       "<link href=\"https://www.colorado.gov/sites/all/themes/omega/omega/apple-touch-icon-precomposed.png\" rel=\"apple-touch-icon-precomposed\"/>\n",
       "<link href=\"https://www.colorado.gov/sites/all/themes/omega/omega/apple-touch-icon-precomposed-114x114.png\" rel=\"apple-touch-icon-precomposed\" sizes=\"114x114\"/>\n",
       "<link href=\"https://www.colorado.gov/sites/all/themes/omega/omega/apple-touch-icon-precomposed-72x72.png\" rel=\"apple-touch-icon-precomposed\" sizes=\"72x72\"/>\n",
       "<meta content=\"width=device-width, minimum-scale=1.0, maximum-scale=1.0\" name=\"viewport\"/>\n",
       "<title>Latest News | Colorado.gov</title>\n",
       "<link href=\"https://www.colorado.gov/sites/default/files/css/css_ouuKCcMsO3ATXMWUHVi4N-VhoTgdR1DttsA324xlXwg.css\" media=\"all\" rel=\"stylesheet\" type=\"text/css\"/>\n",
       "<link href=\"https://www.colorado.gov/sites/default/files/css/css_2pJEPuHW5oZeN4Qn4xiBcgeJRJfXZ0dYoaFyWPYtWNE.css\" media=\"all\" rel=\"stylesheet\" type=\"text/css\"/>\n",
       "<link href=\"https://www.colorado.gov/sites/default/files/css/css_tHqPDcBj2pA-4d0KiRCnhv2JGy6hR_GdZavh8j7sWgc.css\" media=\"all\" rel=\"stylesheet\" type=\"text/css\"/>\n",
       "<!--[if lte IE 8]>\n",
       "<link type=\"text/css\" rel=\"stylesheet\" href=\"https://www.colorado.gov/sites/all/themes/colorado_gov/css/ie-lte-8.css?ps8tud\" media=\"all\" />\n",
       "<![endif]-->\n",
       "<!--[if lte IE 7]>\n",
       "<link type=\"text/css\" rel=\"stylesheet\" href=\"https://www.colorado.gov/sites/all/themes/colorado_gov/css/ie-lte-7.css?ps8tud\" media=\"all\" />\n",
       "<![endif]-->\n",
       "<!--[if IE 6]>\n",
       "<link type=\"text/css\" rel=\"stylesheet\" href=\"https://www.colorado.gov/sites/all/themes/colorado_gov/css/ie-6.css?ps8tud\" media=\"all\" />\n",
       "<![endif]-->\n",
       "<link href=\"https://www.colorado.gov/sites/default/files/css/css_jUBkLqZj-a-eIfZHLE7nQO3ql3oGtU-UyRvyVuuZAXQ.css\" media=\"all\" rel=\"stylesheet\" type=\"text/css\"/>\n",
       "<script>document.cookie = 'adaptive_image=' + Math.max(screen.width, screen.height) + '; path=/';</script>\n",
       "<script src=\"https://www.colorado.gov/sites/default/files/js/js_xmSTppMSa146VwDF2wc_0CgRKXlO4AFRpDnC9PxTCzw.js\"></script>\n",
       "<script src=\"https://www.colorado.gov/sites/default/files/js/js_H7q2xORKmR9AN8Qx5spKEIBp7R_wG2apAswJoCUZY7I.js\"></script>\n",
       "<script src=\"https://www.colorado.gov/sites/default/files/js/js_LYnsNokJ3hCwYVzOkOBap0cPdxFI3f_jpkPxZtvMMyw.js\"></script>\n",
       "<!--[if (gte IE 6)&(lte IE 8)]>\n",
       "<script src=\"https://www.colorado.gov/sites/default/files/js/js_A_U-5-tob6Ni8NWZVDSwNIGfUBPEmx51QxDhZbBIRGc.js\"></script>\n",
       "<![endif]-->\n",
       "<script src=\"https://www.colorado.gov/sites/default/files/js/js_mEGA-lkaqzKTJb0LnmIlSIvq7SSVWKJgsdzqLCdsx1g.js\"></script>\n",
       "<script defer=\"defer\" src=\"//script.crazyegg.com/pages/scripts/0011/7387.js\"></script>\n",
       "<script src=\"https://www.colorado.gov/sites/default/files/js/js_gPqjYq7fqdMzw8-29XWQIVoDSWTmZCGy9OqaHppNxuQ.js\"></script>\n",
       "<script>(function(i,s,o,g,r,a,m){i[\"GoogleAnalyticsObject\"]=r;i[r]=i[r]||function(){(i[r].q=i[r].q||[]).push(arguments)},i[r].l=1*new Date();a=s.createElement(o),m=s.getElementsByTagName(o)[0];a.async=1;a.src=g;m.parentNode.insertBefore(a,m)})(window,document,\"script\",\"https://www.google-analytics.com/analytics.js\",\"ga\");ga(\"create\", \"UA-15981586-5\", {\"cookieDomain\":\"auto\"});ga(\"require\", \"linkid\", \"linkid.js\");ga(\"require\", \"displayfeatures\");ga(\"set\", \"anonymizeIp\", true);ga(\"send\", \"pageview\");</script>\n",
       "<script src=\"https://www.colorado.gov/sites/default/files/js/js_XxnCis21icV6euhAXEKEYO-Fd0jBJpnruJ7EXMN160g.js\"></script>\n",
       "<script src=\"https://www.colorado.gov/sites/default/files/js/js_e8UIpcMWDGOtm-L2V9aNE7iw_2pLaL25jIgWwV6F-BA.js\"></script>\n",
       "<script>jQuery.extend(Drupal.settings, {\"basePath\":\"\\/\",\"pathPrefix\":\"\",\"urlIsAjaxTrusted\":{\"\\/news\":true},\"facetapi\":{\"facets\":[{\"limit\":\"20\",\"id\":\"facetapi-facet-search-apistate-agencies-index-block-field-executive-office\",\"searcher\":\"search_api@state_agencies_index\",\"realmName\":\"block\",\"facetName\":\"field_executive_office\",\"queryType\":null,\"widget\":\"facetapi_links\",\"showMoreText\":\"Show more\",\"showFewerText\":\"Show fewer\"},{\"limit\":20,\"id\":\"facetapi-facet-search-apistate-agencies-index-block-field-state-agency-related\",\"searcher\":\"search_api@state_agencies_index\",\"realmName\":\"block\",\"facetName\":\"field_state_agency_related\",\"queryType\":null,\"widget\":\"facetapi_links\",\"showMoreText\":\"Show more\",\"showFewerText\":\"Show fewer\"},{\"limit\":\"20\",\"id\":\"facetapi-facet-search-apistate-agencies-index-block-field-executive-officename\",\"searcher\":\"search_api@state_agencies_index\",\"realmName\":\"block\",\"facetName\":\"field_executive_office:name\",\"queryType\":null,\"widget\":\"collapsible\",\"showMoreText\":\"Show more\",\"showFewerText\":\"Show fewer\"},{\"limit\":\"20\",\"id\":\"facetapi-facet-search-apistate-agencies-index-block-field-state-agencyname\",\"searcher\":\"search_api@state_agencies_index\",\"realmName\":\"block\",\"facetName\":\"field_state_agency:name\",\"queryType\":null,\"widget\":\"collapsible\",\"showMoreText\":\"Show more\",\"showFewerText\":\"Show fewer\"}]},\"equalHeightsModule\":{\"classes\":[{\"selector\":\"#latest_news-block, .bean-tiles .sixth\",\"mediaquery\":\"\",\"minheight\":\"\",\"maxheight\":\"\",\"overflow\":\"auto\"},{\"selector\":\".card\",\"mediaquery\":\"\",\"minheight\":\"\",\"maxheight\":\"\",\"overflow\":\"auto\"},{\"selector\":\"#contact-overlay .card p\",\"mediaquery\":\"\",\"minheight\":\"\",\"maxheight\":\"\",\"overflow\":\"auto\"},{\"selector\":\"#contact-overlay .card\",\"mediaquery\":\"\",\"minheight\":\"322\",\"maxheight\":\"\",\"overflow\":\"auto\"}],\"imagesloaded_ie8\":1},\"googleanalytics\":{\"trackOutbound\":1,\"trackMailto\":1,\"trackDownload\":1,\"trackDownloadExtensions\":\"7z|aac|arc|arj|asf|asx|avi|bin|csv|doc(x|m)?|dot(x|m)?|exe|flv|gif|gz|gzip|hqx|jar|jpe?g|js|mp(2|3|4|e?g)|mov(ie)?|msi|msp|pdf|phps|png|ppt(x|m)?|pot(x|m)?|pps(x|m)?|ppam|sld(x|m)?|thmx|qtm?|ra(m|r)?|sea|sit|tar|tgz|torrent|txt|wav|wma|wmv|wpd|xls(x|m|b)?|xlt(x|m)|xlam|xml|z|zip\"},\"facetapi_collapsible\":{\"field_executive_office:name\":{\"keep_open\":0,\"expand\":0,\"collapsible_children\":1},\"field_state_agency:name\":{\"keep_open\":0,\"expand\":0,\"collapsible_children\":1}}});</script>\n",
       "</head>\n",
       "<body class=\"html not-front not-logged-in page-news section-news\">\n",
       "<a class=\"element-invisible element-focusable\" href=\"#main-content\">Skip to main content</a>\n",
       "<!-- Header -->\n",
       "<!-- Alerts -->\n",
       "<header class=\"\" id=\"main-header\">\n",
       "<div class=\"container\">\n",
       "<a class=\"site-logo\" href=\"/\" rel=\"home\" title=\"Home\">\n",
       "<img alt=\"Home\" id=\"main-logo\" src=\"/sites/all/themes/colorado_gov/logo.svg\"/>\n",
       "</a>\n",
       "<ul class=\"header-utilities\">\n",
       "<li class=\"search-btn\">Search</li>\n",
       "<li class=\"contact-us-btn\">Contact Us</li>\n",
       "<li class=\"menu-toggle-btn \"><span class=\"hamburger\"></span><span class=\"menu-toggle-title\">Menu</span></li>\n",
       "</ul>\n",
       "</div>\n",
       "</header>\n",
       "<!-- end header -->\n",
       "<div class=\"content-container\">\n",
       "<div class=\"main-content\" id=\"main-content\">\n",
       "<!-- Title -->\n",
       "<div class=\"grid--row padded-x-2 grey\">\n",
       "<div class=\"grid--2-3 rwd\">\n",
       "<h1 class=\"heading--news\">Latest News</h1>\n",
       "</div>\n",
       "<div class=\"grid--1-3 rwd\">\n",
       "<ul class=\"breadcrumb\">\n",
       "<li><a href=\"/\">Home</a></li>\n",
       "<li>News</li>\n",
       "</ul>\n",
       "</div>\n",
       "</div>\n",
       "<div class=\"grid--row padded-x-2\">\n",
       "<!-- Main Content -->\n",
       "<main class=\"grid--4-5\">\n",
       "<div class=\"content-wrap\">\n",
       "<div class=\"view view-nv view-id-nv view-display-id-page view-dom-id-057fb7aaa2e24b440ad28040786d6f7a\">\n",
       "<div class=\"view-content\">\n",
       "<h3>May</h3>\n",
       "<div class=\"views-row views-row-1 views-row-odd views-row-first\">\n",
       "<div class=\"view-page-item\">\n",
       "<div class=\"date margin-b\">\n",
       "<span class=\"field-content\"><span class=\"date-display-single\" content=\"2019-05-29T13:04:17-06:00\" datatype=\"xsd:dateTime\" property=\"dc:date\">Wednesday, May 29, 2019</span></span></div>\n",
       "<h3 class=\"no-padding x-small lighter-text\"><span class=\"field-content\"><a href=\"https://www.colorado.gov/pacific/hcpf/news/governor-signs-nursing-home-penalty-cash-fund-bill\">Governor Signs Nursing Home Penalty Cash Fund Bill</a></span></h3>\n",
       "<div class=\"margin-b lighter-text smaller-text-views\">\n",
       "<span class=\"field-content\">From Department of Health Care Policy and Financing  </span></div>\n",
       "</div> </div>\n",
       "<div class=\"views-row views-row-2 views-row-even\">\n",
       "<div class=\"view-page-item\">\n",
       "<div class=\"date margin-b\">\n",
       "<span class=\"field-content\"><span class=\"date-display-single\" content=\"2019-05-16T11:32:58-06:00\" datatype=\"xsd:dateTime\" property=\"dc:date\">Thursday, May 16, 2019</span></span></div>\n",
       "<h3 class=\"no-padding x-small lighter-text\"><span class=\"field-content\"><a href=\"https://www.colorado.gov/pacific/cdle/news/colorado-employment-situation-april-2019\">Colorado Employment Situation - April 2019</a></span></h3>\n",
       "<div class=\"margin-b lighter-text smaller-text-views\">\n",
       "<span class=\"field-content\">From Department of Labor and Employment  </span></div>\n",
       "</div> </div>\n",
       "<div class=\"views-row views-row-3 views-row-odd\">\n",
       "<div class=\"view-page-item\">\n",
       "<div class=\"date margin-b\">\n",
       "<span class=\"field-content\"><span class=\"date-display-single\" content=\"2019-05-16T11:01:03-06:00\" datatype=\"xsd:dateTime\" property=\"dc:date\">Thursday, May 16, 2019</span></span></div>\n",
       "<h3 class=\"no-padding x-small lighter-text\"><span class=\"field-content\"><a href=\"https://www.colorado.gov/pacific/hcpf/news/governor-signs-breast-cervical-cancer-treatment-bill\">Governor Signs Breast &amp; Cervical Cancer Treatment Bill</a></span></h3>\n",
       "<div class=\"margin-b lighter-text smaller-text-views\">\n",
       "<span class=\"field-content\">From Department of Health Care Policy and Financing  </span></div>\n",
       "</div> </div>\n",
       "<div class=\"views-row views-row-4 views-row-even views-row-last\">\n",
       "<div class=\"view-page-item\">\n",
       "<div class=\"date margin-b\">\n",
       "<span class=\"field-content\"><span class=\"date-display-single\" content=\"2019-05-16T10:58:05-06:00\" datatype=\"xsd:dateTime\" property=\"dc:date\">Thursday, May 16, 2019</span></span></div>\n",
       "<h3 class=\"no-padding x-small lighter-text\"><span class=\"field-content\"><a href=\"https://www.colorado.gov/pacific/hcpf/news/colorado-medicaid-creates-new-pharmacy-office-and-names-leadership\">Colorado Medicaid Creates New Pharmacy Office and Names Leadership</a></span></h3>\n",
       "<div class=\"margin-b lighter-text smaller-text-views\">\n",
       "<span class=\"field-content\">From Department of Health Care Policy and Financing  </span></div>\n",
       "</div> </div>\n",
       "<h3>April</h3>\n",
       "<div class=\"views-row views-row-1 views-row-odd views-row-first\">\n",
       "<div class=\"view-page-item\">\n",
       "<div class=\"date margin-b\">\n",
       "<span class=\"field-content\"><span class=\"date-display-single\" content=\"2019-04-18T17:00:14-06:00\" datatype=\"xsd:dateTime\" property=\"dc:date\">Thursday, April 18, 2019</span></span></div>\n",
       "<h3 class=\"no-padding x-small lighter-text\"><span class=\"field-content\"><a href=\"https://www.colorado.gov/pacific/cdle/news/colorado-employment-situation-march-2019\">Colorado Employment Situation - March 2019</a></span></h3>\n",
       "<div class=\"margin-b lighter-text smaller-text-views\">\n",
       "<span class=\"field-content\">From Department of Labor and Employment  </span></div>\n",
       "</div> </div>\n",
       "<div class=\"views-row views-row-2 views-row-even\">\n",
       "<div class=\"view-page-item\">\n",
       "<div class=\"date margin-b\">\n",
       "<span class=\"field-content\"><span class=\"date-display-single\" content=\"2019-04-11T15:45:17-06:00\" datatype=\"xsd:dateTime\" property=\"dc:date\">Thursday, April 11, 2019</span></span></div>\n",
       "<h3 class=\"no-padding x-small lighter-text\"><span class=\"field-content\"><a href=\"https://www.colorado.gov/pacific/cdle/news/governors-summer-job-hunt-kicks-39th-year-helping-young-people-understand-world-work\">Governor's Summer Job Hunt Kicks Off 39th Year of Helping Young People Understand the World of Work</a></span></h3>\n",
       "<div class=\"margin-b lighter-text smaller-text-views\">\n",
       "<span class=\"field-content\">From Department of Labor and Employment  </span></div>\n",
       "</div> </div>\n",
       "<div class=\"views-row views-row-3 views-row-odd views-row-last\">\n",
       "<div class=\"view-page-item\">\n",
       "<div class=\"date margin-b\">\n",
       "<span class=\"field-content\"><span class=\"date-display-single\" content=\"2019-04-08T16:01:51-06:00\" datatype=\"xsd:dateTime\" property=\"dc:date\">Monday, April 8, 2019</span></span></div>\n",
       "<h3 class=\"no-padding x-small lighter-text\"><span class=\"field-content\"><a href=\"https://www.colorado.gov/pacific/cdle/news/gov-polis-declares-april-dig-safely-month-colorado\">Gov. Polis Declares April \"Dig Safely Month\" in Colorado</a></span></h3>\n",
       "<div class=\"margin-b lighter-text smaller-text-views\">\n",
       "<span class=\"field-content\">From Department of Labor and Employment  </span></div>\n",
       "</div> </div>\n",
       "<h3>March</h3>\n",
       "<div class=\"views-row views-row-1 views-row-odd views-row-first\">\n",
       "<div class=\"view-page-item\">\n",
       "<div class=\"date margin-b\">\n",
       "<span class=\"field-content\"><span class=\"date-display-single\" content=\"2019-03-21T16:17:34-06:00\" datatype=\"xsd:dateTime\" property=\"dc:date\">Thursday, March 21, 2019</span></span></div>\n",
       "<h3 class=\"no-padding x-small lighter-text\"><span class=\"field-content\"><a href=\"https://www.colorado.gov/pacific/cdle/news/colorado-employment-situation-february-2019\">Colorado Employment Situation - February 2019</a></span></h3>\n",
       "<div class=\"margin-b lighter-text smaller-text-views\">\n",
       "<span class=\"field-content\">From Department of Labor and Employment  </span></div>\n",
       "</div> </div>\n",
       "<div class=\"views-row views-row-2 views-row-even\">\n",
       "<div class=\"view-page-item\">\n",
       "<div class=\"date margin-b\">\n",
       "<span class=\"field-content\"><span class=\"date-display-single\" content=\"2019-03-21T00:00:00-06:00\" datatype=\"xsd:dateTime\" property=\"dc:date\">Thursday, March 21, 2019</span></span></div>\n",
       "<h3 class=\"no-padding x-small lighter-text\"><span class=\"field-content\"><a href=\"https://www.colorado.gov/pacific/ops/041119UDPSCStakeholderMtg\">Stakeholder Meeting Notice: UDP Safety Commission Regulations</a></span></h3>\n",
       "<div class=\"margin-b lighter-text smaller-text-views\">\n",
       "<span class=\"field-content\">From Department of Labor and Employment  </span></div>\n",
       "</div> </div>\n",
       "<div class=\"views-row views-row-3 views-row-odd views-row-last\">\n",
       "<div class=\"view-page-item\">\n",
       "<div class=\"date margin-b\">\n",
       "<span class=\"field-content\"><span class=\"date-display-single\" content=\"2019-03-11T09:52:11-06:00\" datatype=\"xsd:dateTime\" property=\"dc:date\">Monday, March 11, 2019</span></span></div>\n",
       "<h3 class=\"no-padding x-small lighter-text\"><span class=\"field-content\"><a href=\"https://www.colorado.gov/pacific/cdle/news/colorado-employment-situation-january-2019\">Colorado Employment Situation - January 2019</a></span></h3>\n",
       "<div class=\"margin-b lighter-text smaller-text-views\">\n",
       "<span class=\"field-content\">From Department of Labor and Employment  </span></div>\n",
       "</div> </div>\n",
       "</div>\n",
       "<h2 class=\"element-invisible\">Pages</h2><ul class=\"pager\"><li class=\"pager__item pager__item--current\">1</li>\n",
       "<li class=\"pager__item\"><a href=\"/news?page=1\" title=\"Go to page 2\">2</a></li>\n",
       "<li class=\"pager__item\"><a href=\"/news?page=2\" title=\"Go to page 3\">3</a></li>\n",
       "<li class=\"pager__item\"><a href=\"/news?page=3\" title=\"Go to page 4\">4</a></li>\n",
       "<li class=\"pager__item\"><a href=\"/news?page=4\" title=\"Go to page 5\">5</a></li>\n",
       "<li class=\"pager__item\"><a href=\"/news?page=5\" title=\"Go to page 6\">6</a></li>\n",
       "<li class=\"pager__item\"><a href=\"/news?page=6\" title=\"Go to page 7\">7</a></li>\n",
       "<li class=\"pager__item\"><a href=\"/news?page=7\" title=\"Go to page 8\">8</a></li>\n",
       "<li class=\"pager__item\"><a href=\"/news?page=8\" title=\"Go to page 9\">9</a></li>\n",
       "<li class=\"pager__item pager__item--ellipsis\">…</li>\n",
       "<li class=\"pager__item pager__item--next\"><a href=\"/news?page=1\" title=\"Go to next page\">next ›</a></li>\n",
       "<li class=\"pager__item pager__item--last\"><a href=\"/news?page=65\"></a></li>\n",
       "</ul>\n",
       "</div> </div>\n",
       "</main>\n",
       "<!-- Sidebar -->\n",
       "<aside aria-label=\"filter by\" class=\"grid--1-5\">\n",
       "<aside class=\"l-region l-region--sidebar-second\">\n",
       "<div class=\"block block--facetapi facetapi-collapsible block--facetapi-ufxklr9hzq4mu3iozrjuhh4a5yfwprnj\" id=\"block-facetapi-ufxklr9hzq4mu3iozrjuhh4a5yfwprnj\">\n",
       "<h2 class=\"block__title\">Executive Office</h2>\n",
       "<div class=\"block__content\">\n",
       "<div class=\"facet-collapsible-wrapper\" id=\"facet-collapsible-field-executive-office:name\"><ul class=\"facetapi-collapsible facetapi-facet-field-executive-officename facetapi-collapsible\" id=\"facetapi-facet-search-apistate-agencies-index-block-field-executive-officename\"><li class=\"leaf\"><div class=\"facetapi-facet facetapi-inactive\"><a class=\"facetapi-inactive\" href=\"/news?f%5B0%5D=field_executive_office%253Aname%3AOffice%20of%20the%20Governor\" id=\"facetapi-link--3\" rel=\"nofollow\">Office of the Governor (204)<span class=\"element-invisible\"> Apply Office of the Governor filter </span></a></div></li>\n",
       "<li class=\"leaf\"><div class=\"facetapi-facet facetapi-inactive\"><a class=\"facetapi-inactive\" href=\"/news?f%5B0%5D=field_executive_office%253Aname%3AOffice%20of%20Lieutenant%20Governor\" id=\"facetapi-link--4\" rel=\"nofollow\">Office of Lieutenant Governor (24)<span class=\"element-invisible\"> Apply Office of Lieutenant Governor filter </span></a></div></li>\n",
       "</ul></div> </div>\n",
       "</div>\n",
       "<div class=\"block block--facetapi facetapi-collapsible block--facetapi-pd0ucomka8gmv2rffe1s6y7xxo4qru2n\" id=\"block-facetapi-pd0ucomka8gmv2rffe1s6y7xxo4qru2n\">\n",
       "<h2 class=\"block__title\">State Agency</h2>\n",
       "<div class=\"block__content\">\n",
       "<div class=\"facet-collapsible-wrapper\" id=\"facet-collapsible-field-state-agency:name\"><ul class=\"facetapi-collapsible facetapi-facet-field-state-agencyname facetapi-collapsible\" id=\"facetapi-facet-search-apistate-agencies-index-block-field-state-agencyname\"><li class=\"leaf\"><div class=\"facetapi-facet facetapi-inactive\"><a class=\"facetapi-inactive\" href=\"/news?f%5B0%5D=field_state_agency%253Aname%3ADepartment%20of%20Labor%20and%20Employment%2C%20Division%20of%20Oil%20and%20Public%20Safety\" id=\"facetapi-link--5\" rel=\"nofollow\">Department of Labor and Employment, Division of Oil and Public Safety (77)<span class=\"element-invisible\"> Apply Department of Labor and Employment, Division of Oil and Public Safety filter </span></a></div></li>\n",
       "<li class=\"leaf\"><div class=\"facetapi-facet facetapi-inactive\"><a class=\"facetapi-inactive\" href=\"/news?f%5B0%5D=field_state_agency%253Aname%3ADepartment%20of%20Public%20Health%20%26%20Environment\" id=\"facetapi-link--6\" rel=\"nofollow\">Department of Public Health &amp; Environment (53)<span class=\"element-invisible\"> Apply Department of Public Health &amp; Environment filter </span></a></div></li>\n",
       "<li class=\"leaf\"><div class=\"facetapi-facet facetapi-inactive\"><a class=\"facetapi-inactive\" href=\"/news?f%5B0%5D=field_state_agency%253Aname%3ADepartment%20of%20Regulatory%20Agencies\" id=\"facetapi-link--7\" rel=\"nofollow\">Department of Regulatory Agencies (51)<span class=\"element-invisible\"> Apply Department of Regulatory Agencies filter </span></a></div></li>\n",
       "<li class=\"leaf\"><div class=\"facetapi-facet facetapi-inactive\"><a class=\"facetapi-inactive\" href=\"/news?f%5B0%5D=field_state_agency%253Aname%3ADepartment%20of%20Labor%20and%20Employment\" id=\"facetapi-link--8\" rel=\"nofollow\">Department of Labor and Employment (46)<span class=\"element-invisible\"> Apply Department of Labor and Employment filter </span></a></div></li>\n",
       "<li class=\"leaf\"><div class=\"facetapi-facet facetapi-inactive\"><a class=\"facetapi-inactive\" href=\"/news?f%5B0%5D=field_state_agency%253Aname%3ADepartment%20of%20Public%20Safety\" id=\"facetapi-link--9\" rel=\"nofollow\">Department of Public Safety (43)<span class=\"element-invisible\"> Apply Department of Public Safety filter </span></a></div></li>\n",
       "<li class=\"leaf\"><div class=\"facetapi-facet facetapi-inactive\"><a class=\"facetapi-inactive\" href=\"/news?f%5B0%5D=field_state_agency%253Aname%3ADepartment%20of%20Agriculture\" id=\"facetapi-link--10\" rel=\"nofollow\">Department of Agriculture (41)<span class=\"element-invisible\"> Apply Department of Agriculture filter </span></a></div></li>\n",
       "<li class=\"leaf\"><div class=\"facetapi-facet facetapi-inactive\"><a class=\"facetapi-inactive\" href=\"/news?f%5B0%5D=field_state_agency%253Aname%3ADepartment%20of%20Health%20Care%20Policy%20and%20Financing\" id=\"facetapi-link--11\" rel=\"nofollow\">Department of Health Care Policy and Financing (40)<span class=\"element-invisible\"> Apply Department of Health Care Policy and Financing filter </span></a></div></li>\n",
       "<li class=\"leaf\"><div class=\"facetapi-facet facetapi-inactive\"><a class=\"facetapi-inactive\" href=\"/news?f%5B0%5D=field_state_agency%253Aname%3AColorado%20Energy%20Office\" id=\"facetapi-link--12\" rel=\"nofollow\">Colorado Energy Office (30)<span class=\"element-invisible\"> Apply Colorado Energy Office filter </span></a></div></li>\n",
       "<li class=\"leaf\"><div class=\"facetapi-facet facetapi-inactive\"><a class=\"facetapi-inactive\" href=\"/news?f%5B0%5D=field_state_agency%253Aname%3ADepartment%20of%20Personnel%20and%20Administration\" id=\"facetapi-link--13\" rel=\"nofollow\">Department of Personnel and Administration (19)<span class=\"element-invisible\"> Apply Department of Personnel and Administration filter </span></a></div></li>\n",
       "<li class=\"leaf\"><div class=\"facetapi-facet facetapi-inactive\"><a class=\"facetapi-inactive\" href=\"/news?f%5B0%5D=field_state_agency%253Aname%3AColorado%20Workforce%20Development%20Council\" id=\"facetapi-link--14\" rel=\"nofollow\">Colorado Workforce Development Council (17)<span class=\"element-invisible\"> Apply Colorado Workforce Development Council filter </span></a></div></li>\n",
       "<li class=\"leaf\"><div class=\"facetapi-facet facetapi-inactive\"><a class=\"facetapi-inactive\" href=\"/news?f%5B0%5D=field_state_agency%253Aname%3ADepartment%20of%20Public%20Safety%2C%20School%20Safety%20Resource%20Center\" id=\"facetapi-link--15\" rel=\"nofollow\">Department of Public Safety, School Safety Resource Center (12)<span class=\"element-invisible\"> Apply Department of Public Safety, School Safety Resource Center filter </span></a></div></li>\n",
       "<li class=\"leaf\"><div class=\"facetapi-facet facetapi-inactive\"><a class=\"facetapi-inactive\" href=\"/news?f%5B0%5D=field_state_agency%253Aname%3ADepartment%20of%20Agriculture%2C%20Animal%20Health%20Division\" id=\"facetapi-link--16\" rel=\"nofollow\">Department of Agriculture, Animal Health Division (5)<span class=\"element-invisible\"> Apply Department of Agriculture, Animal Health Division filter </span></a></div></li>\n",
       "<li class=\"leaf\"><div class=\"facetapi-facet facetapi-inactive\"><a class=\"facetapi-inactive\" href=\"/news?f%5B0%5D=field_state_agency%253Aname%3ADepartment%20of%20Human%20Services\" id=\"facetapi-link--17\" rel=\"nofollow\">Department of Human Services (1)<span class=\"element-invisible\"> Apply Department of Human Services filter </span></a></div></li>\n",
       "<li class=\"leaf\"><div class=\"facetapi-facet facetapi-inactive\"><a class=\"facetapi-inactive\" href=\"/news?f%5B0%5D=field_state_agency%253Aname%3ADepartment%20of%20Revenue\" id=\"facetapi-link--18\" rel=\"nofollow\">Department of Revenue (1)<span class=\"element-invisible\"> Apply Department of Revenue filter </span></a></div></li>\n",
       "<li class=\"leaf\"><div class=\"facetapi-facet facetapi-inactive\"><a class=\"facetapi-inactive\" href=\"/news?f%5B0%5D=field_state_agency%253Aname%3ADepartment%20of%20Revenue%2C%20Division%20of%20Motor%20Vehicle\" id=\"facetapi-link--19\" rel=\"nofollow\">Department of Revenue, Division of Motor Vehicle (1)<span class=\"element-invisible\"> Apply Department of Revenue, Division of Motor Vehicle filter </span></a></div></li>\n",
       "<li class=\"leaf\"><div class=\"facetapi-facet facetapi-inactive\"><a class=\"facetapi-inactive\" href=\"/news?f%5B0%5D=field_state_agency%253Aname%3ADepartment%20of%20Revenue%2C%20Division%20of%20Taxation\" id=\"facetapi-link--20\" rel=\"nofollow\">Department of Revenue, Division of Taxation (1)<span class=\"element-invisible\"> Apply Department of Revenue, Division of Taxation filter </span></a></div></li>\n",
       "</ul></div> </div>\n",
       "</div>\n",
       "</aside>\n",
       "</aside>\n",
       "</div>\n",
       "<!-- Search Overlay -->\n",
       "<div class=\"overlay\" id=\"search-overlay\">\n",
       "<div class=\"grid--row grey padded-x-2\">\n",
       "<!-- Close Button -->\n",
       "<div class=\"close-overlay-btn\">\n",
       "</div>\n",
       "<div class=\"grid--1-3 type-to-search\">\n",
       "<h3 aria-labelledby=\"ID\" class=\"overlay-header green\" id=\"search\">Search</h3>\n",
       "</div>\n",
       "<!-- end grid 1-3 -->\n",
       "<div class=\"grid--2-3 popular-search align-right padded-r-x\">\n",
       "<span>Popular Search Terms:</span>\n",
       "<!-- The following three lines of code are used to dynamically pull in and populate search terms from Google.\n",
       "\t\t\t\tWe have had some issues with https and have decided to leave out for now, with every intention of coming back and fixing. -->\n",
       "<div id=\"queries\"></div>\n",
       "<script src=\"https://cse.google.com/query_renderer.js\"></script>\n",
       "<script src=\"https://cse.google.com/api/005331801672446424340/cse/vmhybt5tx_s/queries/js?view=month&amp;callback=(new+PopularQueryRenderer(document.getElementById(%22queries%22))).render\"></script>\n",
       "</div>\n",
       "<!-- end grid 2-3 -->\n",
       "</div>\n",
       "<!-- end row -->\n",
       "<!-- Large Search Input -->\n",
       "<div class=\"grid--row\">\n",
       "<div class=\"grid--1 padded-x-2\">\n",
       "<p aria-hidden=\"true\" hidden=\"\" id=\"access-popular-search-terms\">Press shift tab to access popular search terms</p>\n",
       "<gcse:searchbox-only queryparametername=\"tid\" resultsurl=\"/search\"></gcse:searchbox-only>\n",
       "</div>\n",
       "</div>\n",
       "<!-- end row -->\n",
       "<div class=\"grid--row\">\n",
       "<div class=\"grid--1 padded-x-2\">\n",
       "</div>\n",
       "</div>\n",
       "<!-- end row -->\n",
       "</div>\n",
       "<!-- end overlay -->\n",
       "<!-- Contact Overlay -->\n",
       "<div class=\"overlay is-overlay-not-visible\" id=\"contact-overlay\">\n",
       "<div class=\"grid--row grey padded-x-2\">\n",
       "<!-- Close Button -->\n",
       "<div class=\"close-overlay-btn\">\n",
       "</div>\n",
       "<div class=\"grid--1\">\n",
       "<h3 class=\"overlay-header green\">Contact Us</h3>\n",
       "</div>\n",
       "</div>\n",
       "<!-- end row -->\n",
       "<div class=\"grid--row padded-x-2\">\n",
       "<form id=\"contact-us-form\">\n",
       "<input aria-describedby=\"contact-us-supporting-text\" class=\"large-search-input\" id=\"contact-us-input\" placeholder=\"Agency Lookup by Keywords\" type=\"text\"/>\n",
       "<button aria-label=\"search contacts\" class=\"search-submit-btn\"></button>\n",
       "</form>\n",
       "<!-- end form -->\n",
       "<div class=\"supporting-text\">\n",
       "<p id=\"contact-us-supporting-text\">\n",
       "\t\t\t\tSearch results contain all keywords. Press 'esc' to close overlay.<br/>\n",
       "</p>\n",
       "<p>\n",
       "\t\t\t\tExample: \"Motor Vehicle\" will only present results for \"Motor Vehicle\" not \"Motor\" or \"Vehicle\".\n",
       "\t\t\t</p>\n",
       "</div>\n",
       "<svg height=\"0px\" version=\"1.1\" xmlns=\"http://www.w3.org/2000/svg\">\n",
       "<defs>\n",
       "<filter id=\"goo\">\n",
       "<fegaussianblur in=\"SourceGraphic\" result=\"blur\" stddeviation=\"10\"></fegaussianblur>\n",
       "<fecolormatrix in=\"blur\" mode=\"matrix\" result=\"goo\" values=\"1 0 0 0 0  0 1 0 0 0  0 0 1 0 0  0 0 0 19 -9\"></fecolormatrix>\n",
       "<fecomposite in=\"SourceGraphic\" in2=\"goo\" operator=\"atop\"></fecomposite>\n",
       "</filter>\n",
       "</defs>\n",
       "</svg>\n",
       "<!-- Departments -->\n",
       "<div id=\"contact-us-response-area\">\n",
       "</div>\n",
       "<!-- Cards -->\n",
       "<div class=\"equal-height-card card grey margin-y\">\n",
       "<div class=\"card-title\">\n",
       "\t\t\t\tGet In Touch\n",
       "\t\t\t</div>\n",
       "<div class=\"content\">\n",
       "<p class=\"no-margin\">\n",
       "<a href=\"/submit-case\">\n",
       "\t\t\t\t\t\tEmail\n",
       "\t\t\t\t\t</a><br/>\n",
       "<a href=\"/submit-case\">\n",
       "\t\t\t\t\t\tReport a Problem or Ask a Question\n",
       "\t\t\t\t\t</a><br/>\n",
       "\t\t\t\t\tFor technical support on online services <br/>\n",
       "\t\t\t\t\tcall 303-534-3468 X 0<br/>\n",
       "\t\t\t\t\tPlease note that we are not a state agency\n",
       "\t\t\t\t</p>\n",
       "<a class=\"card-btn\" href=\"javascript://Chat\" id=\"liveagent_button_online_573400000008OR4\" onclick=\"liveagent.startChat('573400000008OR4')\" style=\"display: none;\">\n",
       "<img alt=\"Live Chat is online\" src=\"sites/all/themes/colorado_gov/images/icons/live_chat_online_blue.svg\"/>\n",
       "</a>\n",
       "<a class=\"card-btn\" href=\"javascript://Chat\" id=\"liveagent_button_offline_573400000008OR4\" onclick=\"liveagent.startChat('573400000008OR4')\" style=\"display: none;\">\n",
       "<img alt=\"Live chat is offline\" src=\"sites/all/themes/colorado_gov/images/icons/live_chat_offline_gray.svg\"/>\n",
       "</a>\n",
       "</div>\n",
       "</div>\n",
       "<div class=\"equal-height-card card grey margin-y\">\n",
       "<div class=\"card-title\">\n",
       "\t\t\t\tGovernment Directories\n",
       "\t\t\t</div>\n",
       "<div class=\"content\">\n",
       "<p class=\"no-margin\">\n",
       "<a href=\"http://www.colorado.gov/apps/oit/directory/start.jsf\">\n",
       "\t\t\t\t\tState Employee Directory\n",
       "\t\t\t\t</a><br/>\n",
       "<a href=\"/state-agencies\">\n",
       "\t\t\t\t\tState Agency Directory\n",
       "\t\t\t\t</a><br/>\n",
       "<a href=\"https://dola.colorado.gov/lgis/\">\n",
       "\t\t\t\t\tLocal Government Directory\n",
       "\t\t\t\t</a>\n",
       "</p>\n",
       "<a class=\"card-btn\" href=\"https://sipacoloradogov.maps.arcgis.com/apps/webappviewer/index.html?id=4a33a01e6a3d4530adb9f98c5d5455f5\">\n",
       "<img alt=\"Find government services near you\" src=\"sites/all/themes/colorado_gov/images/icons/gov_services_blue.svg\"/>\n",
       "</a>\n",
       "</div>\n",
       "</div>\n",
       "<div class=\"equal-height-card card grey margin-y\">\n",
       "<div class=\"card-title\">\n",
       "\t\t\t\tCitizens Assistance\n",
       "\t\t\t</div>\n",
       "<div class=\"content\">\n",
       "<p class=\"no-margin\">\n",
       "<a href=\"/gethelp\">Explore this interactive service</a> designed to help citizens with common questions.\n",
       "\t\t\t\t</p>\n",
       "<a class=\"card-btn\" href=\"/apps/feedback/servlet/begin?application=colorado-cms-website\">\n",
       "<img alt=\"Leave feedback\" src=\"sites/all/themes/colorado_gov/images/icons/feedback_blue.svg\"/>\n",
       "</a>\n",
       "</div>\n",
       "</div>\n",
       "</div>\n",
       "</div>\n",
       "<!-- end overlay -->\n",
       "<!-- Footer -->\n",
       "<!-- Live Chat -->\n",
       "<script type=\"text/javascript\">\n",
       "  if (!window._laq) { \n",
       "  \twindow._laq = []; \n",
       "  }\n",
       "\n",
       "  window._laq.push( function() {\n",
       "  \tliveagent.showWhenOnline(\n",
       "  \t\t'573400000008OR4', \n",
       "  \t\tdocument.getElementById('liveagent_button_online_573400000008OR4')\n",
       "  \t);\n",
       "  \tliveagent.showWhenOffline(\n",
       "  \t\t'573400000008OR4', \n",
       "  \t\tdocument.getElementById('liveagent_button_offline_573400000008OR4')\n",
       "  \t);\n",
       "  });\n",
       "</script>\n",
       "<script src=\"https://c.la2c1.salesforceliveagent.com/content/g/deployment.js\" type=\"text/javascript\"></script>\n",
       "<script type=\"text/javascript\">\n",
       "\tliveagent.init('https://d.la2c1.salesforceliveagent.com/chat', '572400000008OQu', '00D40000000MqIX');\n",
       "</script>\n",
       "<footer class=\"internal\" id=\"main-footer\">\n",
       "<!-- Main content | Menus and Online Chat -->\n",
       "<div class=\"footer--main-content padded-x-2 padded-b\">\n",
       "<!-- Online -->\n",
       "<!--  <a class=\"support-box\" id=\"liveagent_button_online_573400000008OR4\" style=\"display: none;\" href=\"javascript://Chat\" onclick=\"liveagent.startChat('573400000008OR4')\">\n",
       "\t    </a> -->\n",
       "<!-- Offline -->\n",
       "<!--  <div class=\"support-box\" id=\"liveagent_button_offline_573400000008OR4\" style=\"display: none;\">\n",
       "\t    </div> -->\n",
       "<div class=\"container footer-menus max-width padded-x-2\">\n",
       "<div class=\"l-region l-region--footer\">\n",
       "<div class=\"block block--block colorblock block--block-1\" id=\"block-block-1\">\n",
       "<h2 class=\"block__title\">Gov. Jared Polis</h2>\n",
       "<div class=\"block__content\">\n",
       "<p><img alt=\"\" class=\"media-image\" height=\"384\" src=\"https://www.colorado.gov/sites/default/files/styles/large/public/governor_polis_img_footer.jpg?itok=AYvATqab\" style=\"width: 110px; height: 88px;\" typeof=\"foaf:Image\" width=\"480\"/> <a href=\"/governor\">Homepage</a></p>\n",
       "<p> <a href=\"/governor/contact-us\">Contact</a></p>\n",
       "<div class=\"gov-social-links\">\n",
       "<p><a href=\"https://www.facebook.com/jaredpolis\"><img alt=\"\" class=\"media-image\" height=\"58\" src=\"https://www.colorado.gov/sites/default/files/facebook-icon.png\" style=\"width: 20px; height: 20px;\" typeof=\"foaf:Image\" width=\"57\"/></a><a href=\"https://twitter.com/GovofCO\"><img alt=\"\" class=\"media-image\" height=\"47\" src=\"https://www.colorado.gov/sites/default/files/twitter-icon.png\" style=\"width: 24px; height: 20px;\" typeof=\"foaf:Image\" width=\"57\"/></a><a href=\"https://www.instagram.com/govofco/\"><img alt=\"\" class=\"media-image\" height=\"30\" src=\"https://www.colorado.gov/sites/default/files/instgram-icon.png\" style=\"width: 20px; height: 20px;\" typeof=\"foaf:Image\" width=\"30\"/></a></p>\n",
       "</div>\n",
       "</div>\n",
       "</div>\n",
       "<nav class=\"block block--menu block--menu-menu-alerts\" id=\"block-menu-menu-alerts\" role=\"navigation\">\n",
       "<h2 class=\"block__title\">Alerts</h2>\n",
       "<ul class=\"menu\"><li class=\"first leaf\"><a href=\"https://www.colorado.gov/sites/default/files/ERG_Master_PageView_01.03.19.pdf\" title=\"\">Emergency Response Guide</a></li>\n",
       "<li class=\"leaf\"><a href=\"http://www.dhsem.state.co.us/emergency-management/emergency-management\" title=\"\">Emergency Management</a></li>\n",
       "<li class=\"leaf\"><a href=\"https://www.readycolorado.com/\" title=\"\">Community Preparedness</a></li>\n",
       "<li class=\"leaf\"><a href=\"http://www.dhsem.state.co.us/home\" title=\"\">Homeland Security</a></li>\n",
       "<li class=\"leaf\"><a href=\"http://www.cotrip.org/travelAlerts.htm\" title=\"\">Travel Alerts</a></li>\n",
       "<li class=\"leaf\"><a href=\"http://www.cotrip.org/roadConditions.htm\" title=\"\">Road Conditions</a></li>\n",
       "<li class=\"last leaf\"><a href=\"http://www.oit.state.co.us/ois\" title=\"\">Cyber Security</a></li>\n",
       "</ul></nav>\n",
       "<nav class=\"block block--menu accordionclear block--menu-menu-help-center\" id=\"block-menu-menu-help-center\" role=\"navigation\">\n",
       "<h2 class=\"block__title\">Help Center</h2>\n",
       "<ul class=\"menu\"><li class=\"first leaf\"><a href=\"/state-agencies\" title=\"\">State Agencies</a></li>\n",
       "<li class=\"leaf\"><a href=\"http://www.colorado.gov/apps/oit/directory/start.jsf\" title=\"\">State Employee Directory</a></li>\n",
       "<li class=\"leaf\"><a href=\"https://www.colorado.gov/apps/oit/transparency/index.html\" title=\"\">Transparency Online Project (TOPS)</a></li>\n",
       "<li class=\"leaf\"><a href=\"/registered-services\" title=\"\">Registered Services</a></li>\n",
       "<li class=\"leaf\"><a href=\"http://www.colorado.gov/apps/feedback/servlet/begin?application=colorado-cms-website\" title=\"\">Feedback</a></li>\n",
       "<li class=\"leaf\"><a href=\"https://211colorado.communityos.org/cms/home\" title=\"\">211 Health</a></li>\n",
       "<li class=\"leaf\"><a href=\"http://www.wc211.org/\" title=\"\">211 Health Western Colorado</a></li>\n",
       "<li class=\"leaf\"><a href=\"http://www.cotrip.org/home.htm\" title=\"\">511 Traffic</a></li>\n",
       "<li class=\"last leaf\"><a href=\"http://call811.com/\" title=\"\">811 Dig</a></li>\n",
       "</ul></nav>\n",
       "<nav class=\"block block--menu block--menu-menu-policies\" id=\"block-menu-menu-policies\" role=\"navigation\">\n",
       "<h2 class=\"block__title\">Policies</h2>\n",
       "<ul class=\"menu\"><li class=\"first leaf\"><a href=\"/accessibility-standards\" title=\"\">Accessibility</a></li>\n",
       "<li class=\"leaf\"><a href=\"/legal-notices\" title=\"\">Legal Notices</a></li>\n",
       "<li class=\"leaf\"><a href=\"/linking-policy\" title=\"\">Linking Policy</a></li>\n",
       "<li class=\"leaf\"><a href=\"/privacy-statement\" title=\"\">Privacy Statement</a></li>\n",
       "<li class=\"leaf\"><a href=\"/security-statement\" title=\"\">Security Statement</a></li>\n",
       "<li class=\"last leaf\"><a href=\"/supported-browsers\" title=\"\">Supported Browsers</a></li>\n",
       "</ul></nav>\n",
       "</div>\n",
       "</div>\n",
       "</div>\n",
       "<!-- Copyright and Social -->\n",
       "<div class=\"footer--bottom-content padded-x-2\">\n",
       "<div class=\"container max-width padded-x\">\n",
       "<div class=\"copyright grid--2-3\">\n",
       "\t\t\t\t© 2019 State of Colorado\n",
       "\t\t\t</div>\n",
       "<div class=\"social-icons grid--1-3\">\n",
       "<a class=\"facebook-icon\" href=\"https://www.facebook.com/Colorado.gov/timeline\" title=\"Visit our Facebook Page\"></a>\n",
       "<a class=\"twitter-icon\" href=\"https://twitter.com/coloradogov\" title=\"Visit our Twitter Feed\"></a>\n",
       "</div>\n",
       "</div>\n",
       "</div>\n",
       "</footer> </div>\n",
       "<!-- end main content -->\n",
       "<!-- Navigation -->\n",
       "<div class=\"l-nav is-nav-collapsed\">\n",
       "<div class=\"l-region l-region--navigation\">\n",
       "<nav class=\"block block--system block--menu block--system-main-menu\" id=\"block-system-main-menu\" role=\"navigation\">\n",
       "<ul class=\"menu\"><li class=\"first leaf\"><a href=\"http://www.colorado.gov/governor\" title=\"\">Governor</a></li>\n",
       "<li class=\"expanded\"><span class=\"nolink\" title=\"\">Government</span><ul class=\"menu\"><li class=\"first leaf\"><a href=\"/state-agencies\" title=\"\">State Agencies</a></li>\n",
       "<li class=\"leaf\"><a href=\"/government-branches\">Branches of Government</a></li>\n",
       "<li class=\"last leaf\"><a href=\"/local-government\" title=\"\">Local Government</a></li>\n",
       "</ul></li>\n",
       "<li class=\"expanded\"><span class=\"nolink\" title=\"\">Business</span><ul class=\"menu\"><li class=\"first leaf\"><a href=\"/businesses-employers\" title=\"\">Businesses &amp; Employers</a></li>\n",
       "<li class=\"last leaf\"><a href=\"/business-resources\" title=\"\">Resources</a></li>\n",
       "</ul></li>\n",
       "<li class=\"expanded\"><span class=\"nolink\" title=\"\">Employment</span><ul class=\"menu\"><li class=\"first leaf\"><a href=\"/jobs-training\" title=\"\">Jobs &amp; Training</a></li>\n",
       "<li class=\"leaf\"><a href=\"/unemployment\">Unemployment</a></li>\n",
       "<li class=\"last leaf\"><a href=\"/professional-licenses\">Professional Licenses</a></li>\n",
       "</ul></li>\n",
       "<li class=\"expanded\"><span class=\"nolink\" title=\"\">Education</span><ul class=\"menu\"><li class=\"first leaf\"><a href=\"/k-12-education\" title=\"\">K - 12 Education</a></li>\n",
       "<li class=\"last leaf\"><a href=\"/higher-education\" title=\"\">Higher Education</a></li>\n",
       "</ul></li>\n",
       "<li class=\"expanded\"><span class=\"nolink\" title=\"\">Residents</span><ul class=\"menu\"><li class=\"first leaf\"><a href=\"/family-resources\">Family Resources</a></li>\n",
       "<li class=\"last leaf\"><a href=\"/civic-resources\">Civic Resources</a></li>\n",
       "</ul></li>\n",
       "<li class=\"expanded\"><span class=\"nolink\" title=\"\">Visitors</span><ul class=\"menu\"><li class=\"first leaf\"><a href=\"/outdoor-activities\">Outdoor Activities</a></li>\n",
       "<li class=\"last leaf\"><a href=\"/leisure-activities\">Leisure Activities</a></li>\n",
       "</ul></li>\n",
       "<li class=\"expanded\"><span class=\"nolink\" title=\"\">About Colorado</span><ul class=\"menu\"><li class=\"first leaf\"><a href=\"/colorado-history\" title=\"\">Colorado's History</a></li>\n",
       "<li class=\"last leaf\"><a href=\"/state-information\">State Information</a></li>\n",
       "</ul></li>\n",
       "<li class=\"last leaf\"><a href=\"/online-services\" title=\"\">Online Services</a></li>\n",
       "</ul></nav>\n",
       "</div>\n",
       "</div>\n",
       "<div class=\"is-hidden\" id=\"nav-info\">\n",
       "\tpress enter to expand a category\n",
       "</div>\n",
       "<!-- end nav -->\n",
       "</div>\n",
       "<!-- end content-container -->\n",
       "</body>\n",
       "</html>"
      ]
     },
     "execution_count": 12,
     "metadata": {},
     "output_type": "execute_result"
    }
   ],
   "source": [
    "soup"
   ]
  },
  {
   "cell_type": "code",
   "execution_count": 13,
   "metadata": {},
   "outputs": [],
   "source": [
    "# if you want to see what the scraped html looks like, you can save it like this, then open the file in a browser\n",
    "with open('test.html', 'wb') as f:\n",
    "    f.write(res.content)"
   ]
  },
  {
   "cell_type": "markdown",
   "metadata": {},
   "source": [
    "# Prototype getting the date, title, link, and 'from' fields here"
   ]
  },
  {
   "cell_type": "code",
   "execution_count": 15,
   "metadata": {},
   "outputs": [
    {
     "data": {
      "text/plain": [
       "<div class=\"view-page-item\">\n",
       "<div class=\"date margin-b\">\n",
       "<span class=\"field-content\"><span class=\"date-display-single\" content=\"2019-05-29T13:04:17-06:00\" datatype=\"xsd:dateTime\" property=\"dc:date\">Wednesday, May 29, 2019</span></span></div>\n",
       "<h3 class=\"no-padding x-small lighter-text\"><span class=\"field-content\"><a href=\"https://www.colorado.gov/pacific/hcpf/news/governor-signs-nursing-home-penalty-cash-fund-bill\">Governor Signs Nursing Home Penalty Cash Fund Bill</a></span></h3>\n",
       "<div class=\"margin-b lighter-text smaller-text-views\">\n",
       "<span class=\"field-content\">From Department of Health Care Policy and Financing  </span></div>\n",
       "</div>"
      ]
     },
     "execution_count": 15,
     "metadata": {},
     "output_type": "execute_result"
    }
   ],
   "source": [
    "divs[0]"
   ]
  },
  {
   "cell_type": "code",
   "execution_count": 16,
   "metadata": {},
   "outputs": [],
   "source": [
    "import pandas as pd"
   ]
  },
  {
   "cell_type": "code",
   "execution_count": 18,
   "metadata": {},
   "outputs": [
    {
     "data": {
      "text/plain": [
       "'Wednesday, May 29, 2019'"
      ]
     },
     "execution_count": 18,
     "metadata": {},
     "output_type": "execute_result"
    }
   ],
   "source": [
    "divs[0].find('span', {'class': 'date-display-single'}).text"
   ]
  },
  {
   "cell_type": "code",
   "execution_count": 17,
   "metadata": {},
   "outputs": [
    {
     "data": {
      "text/plain": [
       "Timestamp('2019-05-29 00:00:00')"
      ]
     },
     "execution_count": 17,
     "metadata": {},
     "output_type": "execute_result"
    }
   ],
   "source": [
    "pd.to_datetime(divs[0].find('span', {'class': 'date-display-single'}).text)"
   ]
  },
  {
   "cell_type": "code",
   "execution_count": 19,
   "metadata": {},
   "outputs": [
    {
     "data": {
      "text/plain": [
       "<a href=\"https://www.colorado.gov/pacific/hcpf/news/governor-signs-nursing-home-penalty-cash-fund-bill\">Governor Signs Nursing Home Penalty Cash Fund Bill</a>"
      ]
     },
     "execution_count": 19,
     "metadata": {},
     "output_type": "execute_result"
    }
   ],
   "source": [
    "divs[0].find('a')"
   ]
  },
  {
   "cell_type": "code",
   "execution_count": 20,
   "metadata": {},
   "outputs": [
    {
     "data": {
      "text/plain": [
       "'Governor Signs Nursing Home Penalty Cash Fund Bill'"
      ]
     },
     "execution_count": 20,
     "metadata": {},
     "output_type": "execute_result"
    }
   ],
   "source": [
    "divs[0].find('a').text"
   ]
  },
  {
   "cell_type": "code",
   "execution_count": 21,
   "metadata": {},
   "outputs": [
    {
     "data": {
      "text/plain": [
       "'https://www.colorado.gov/pacific/hcpf/news/governor-signs-nursing-home-penalty-cash-fund-bill'"
      ]
     },
     "execution_count": 21,
     "metadata": {},
     "output_type": "execute_result"
    }
   ],
   "source": [
    "divs[0].find('a').get('href')"
   ]
  },
  {
   "cell_type": "code",
   "execution_count": 22,
   "metadata": {},
   "outputs": [
    {
     "data": {
      "text/plain": [
       "'From Department of Health Care Policy and Financing'"
      ]
     },
     "execution_count": 22,
     "metadata": {},
     "output_type": "execute_result"
    }
   ],
   "source": [
    "divs[0].find('div', {'class': 'smaller-text-views'}).text.strip()"
   ]
  },
  {
   "cell_type": "code",
   "execution_count": 23,
   "metadata": {},
   "outputs": [],
   "source": [
    "PAGE_URL = 'https://www.colorado.gov/news?page={}'"
   ]
  },
  {
   "cell_type": "code",
   "execution_count": 25,
   "metadata": {},
   "outputs": [
    {
     "data": {
      "application/vnd.jupyter.widget-view+json": {
       "model_id": "4028e13537714ba1842161e6cec061e7",
       "version_major": 2,
       "version_minor": 0
      },
      "text/html": [
       "<p>Failed to display Jupyter Widget of type <code>HBox</code>.</p>\n",
       "<p>\n",
       "  If you're reading this message in Jupyter Notebook or JupyterLab, it may mean\n",
       "  that the widgets JavaScript is still loading. If this message persists, it\n",
       "  likely means that the widgets JavaScript library is either not installed or\n",
       "  not enabled. See the <a href=\"https://ipywidgets.readthedocs.io/en/stable/user_install.html\">Jupyter\n",
       "  Widgets Documentation</a> for setup instructions.\n",
       "</p>\n",
       "<p>\n",
       "  If you're reading this message in another notebook frontend (for example, a static\n",
       "  rendering on GitHub or <a href=\"https://nbviewer.jupyter.org/\">NBViewer</a>),\n",
       "  it may mean that your frontend doesn't currently support widgets.\n",
       "</p>\n"
      ],
      "text/plain": [
       "HBox(children=(IntProgress(value=0, max=66), HTML(value='')))"
      ]
     },
     "metadata": {},
     "output_type": "display_data"
    },
    {
     "name": "stdout",
     "output_type": "stream",
     "text": [
      "\n",
      "\n"
     ]
    }
   ],
   "source": [
    "import pandas as pd\n",
    "from tqdm import tqdm_notebook\n",
    "from pymongo import MongoClient\n",
    "\n",
    "client = MongoClient()\n",
    "db = client['news']\n",
    "coll = db['colorado']\n",
    "\n",
    "for page in tqdm_notebook(range(0, 66)):\n",
    "#     for testing, we can stop it after a few iterations\n",
    "#     if page == 3:\n",
    "#         break      \n",
    "    res = req.get(PAGE_URL.format(page))\n",
    "    soup = bs(res.content, 'lxml')\n",
    "    divs = soup.find_all('div', {'class': 'views-row'})\n",
    "    for d in divs:\n",
    "        date = pd.to_datetime(d.find('span', {'class': 'date-display-single'}).text)\n",
    "        link = divs[0].find('a')\n",
    "        title = link.text\n",
    "        href = link.get('href')\n",
    "        subtitle = d.find('div', {'class': 'smaller-text-views'}).text.strip()\n",
    "        \n",
    "        coll.insert_one({'date': date,\n",
    "                         'title': title,\n",
    "                         'link': href,\n",
    "                         'subtitle': subtitle})\n",
    "\n",
    "client.close()"
   ]
  },
  {
   "cell_type": "code",
   "execution_count": 26,
   "metadata": {},
   "outputs": [
    {
     "name": "stdout",
     "output_type": "stream",
     "text": [
      "{'_id': ObjectId('5cf81135ac76bc173d4b5710'),\n",
      " 'date': datetime.datetime(2019, 5, 29, 0, 0),\n",
      " 'link': 'https://www.colorado.gov/pacific/hcpf/news/governor-signs-nursing-home-penalty-cash-fund-bill',\n",
      " 'subtitle': 'From Department of Health Care Policy and Financing',\n",
      " 'title': 'Governor Signs Nursing Home Penalty Cash Fund Bill'}\n"
     ]
    }
   ],
   "source": [
    "from pprint import pprint\n",
    "\n",
    "client = MongoClient()\n",
    "db = client['news']\n",
    "coll = db['colorado']\n",
    "\n",
    "pprint(coll.find_one())\n",
    "\n",
    "client.close()"
   ]
  }
 ],
 "metadata": {
  "kernelspec": {
   "display_name": "Python 3",
   "language": "python",
   "name": "python3"
  },
  "language_info": {
   "codemirror_mode": {
    "name": "ipython",
    "version": 3
   },
   "file_extension": ".py",
   "mimetype": "text/x-python",
   "name": "python",
   "nbconvert_exporter": "python",
   "pygments_lexer": "ipython3",
   "version": "3.5.2"
  }
 },
 "nbformat": 4,
 "nbformat_minor": 2
}

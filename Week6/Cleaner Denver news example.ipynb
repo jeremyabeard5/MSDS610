{
 "cells": [
  {
   "cell_type": "markdown",
   "metadata": {},
   "source": [
    "This is roughly the same as the video walkthrough, but slightly cleaned up."
   ]
  },
  {
   "cell_type": "code",
   "execution_count": 1,
   "metadata": {},
   "outputs": [],
   "source": [
    "import requests as req"
   ]
  },
  {
   "cell_type": "markdown",
   "metadata": {},
   "source": [
    "First, fetch the webpage using the requests library."
   ]
  },
  {
   "cell_type": "code",
   "execution_count": 2,
   "metadata": {},
   "outputs": [],
   "source": [
    "res = req.get('https://www.denvergov.org/content/denvergov/en/city-of-denver-home/news.html')"
   ]
  },
  {
   "cell_type": "markdown",
   "metadata": {},
   "source": [
    "BeautifulSoup is a library that can parse HTML pages.  We'll use it here to get each 'div' element in the page with the news stories."
   ]
  },
  {
   "cell_type": "code",
   "execution_count": 3,
   "metadata": {},
   "outputs": [],
   "source": [
    "from bs4 import BeautifulSoup as bs"
   ]
  },
  {
   "cell_type": "code",
   "execution_count": 4,
   "metadata": {},
   "outputs": [],
   "source": [
    "soup = bs(res.content, 'lxml')"
   ]
  },
  {
   "cell_type": "code",
   "execution_count": 5,
   "metadata": {},
   "outputs": [],
   "source": [
    "news_items = soup.find_all('div', {'class': 'denver-news-list-item'})"
   ]
  },
  {
   "cell_type": "code",
   "execution_count": 6,
   "metadata": {},
   "outputs": [
    {
     "data": {
      "text/plain": [
       "6"
      ]
     },
     "execution_count": 6,
     "metadata": {},
     "output_type": "execute_result"
    }
   ],
   "source": [
    "len(news_items)"
   ]
  },
  {
   "cell_type": "code",
   "execution_count": 7,
   "metadata": {},
   "outputs": [
    {
     "data": {
      "text/plain": [
       "<div class=\"denver-news-list-item\">\n",
       "<p class=\"denver-news-list-date\">Dec 2, 2019</p>\n",
       "<h3><a href=\"/content/denvergov/en/environmental-health/about-us/news-room/newsroom_2019/fifth-annual-sustainable-denver-summit.html\">City to Host Fifth Annual Sustainable Denver Summit</a></h3>\n",
       "<p>Mayor Michael B. Hancock and Denver’s Office of Sustainability host the fifth annual Sustainable Denver Summit on Thursday, Dec. 5, at the Colorado Convention Center. The Summit is the community’s premier gathering of industry leaders and professionals working on today’s most important sustainability solutions. Their work will help Denver achieve its ambitious 2020 Sustainability Goals and other efforts to improve sustainability and climate action.</p>\n",
       "<div style=\"clear:both;\"></div>\n",
       "</div>"
      ]
     },
     "execution_count": 7,
     "metadata": {},
     "output_type": "execute_result"
    }
   ],
   "source": [
    "news_items[0]"
   ]
  },
  {
   "cell_type": "code",
   "execution_count": 8,
   "metadata": {},
   "outputs": [
    {
     "data": {
      "text/plain": [
       "'Dec 2, 2019'"
      ]
     },
     "execution_count": 8,
     "metadata": {},
     "output_type": "execute_result"
    }
   ],
   "source": [
    "# get date and title\n",
    "news_items[0].find('p', {'class': 'denver-news-list-date'}).text"
   ]
  },
  {
   "cell_type": "markdown",
   "metadata": {},
   "source": [
    "This gets the text from the link in the first news item."
   ]
  },
  {
   "cell_type": "code",
   "execution_count": 9,
   "metadata": {},
   "outputs": [
    {
     "data": {
      "text/plain": [
       "'City to Host Fifth Annual Sustainable Denver Summit'"
      ]
     },
     "execution_count": 9,
     "metadata": {},
     "output_type": "execute_result"
    }
   ],
   "source": [
    "news_items[0].find('a').text"
   ]
  },
  {
   "cell_type": "code",
   "execution_count": 10,
   "metadata": {},
   "outputs": [],
   "source": [
    "link = news_items[0].find('a')"
   ]
  },
  {
   "cell_type": "code",
   "execution_count": 11,
   "metadata": {},
   "outputs": [
    {
     "data": {
      "text/plain": [
       "<a href=\"/content/denvergov/en/environmental-health/about-us/news-room/newsroom_2019/fifth-annual-sustainable-denver-summit.html\">City to Host Fifth Annual Sustainable Denver Summit</a>"
      ]
     },
     "execution_count": 11,
     "metadata": {},
     "output_type": "execute_result"
    }
   ],
   "source": [
    "link"
   ]
  },
  {
   "cell_type": "code",
   "execution_count": 12,
   "metadata": {},
   "outputs": [
    {
     "data": {
      "text/plain": [
       "'/content/denvergov/en/environmental-health/about-us/news-room/newsroom_2019/fifth-annual-sustainable-denver-summit.html'"
      ]
     },
     "execution_count": 12,
     "metadata": {},
     "output_type": "execute_result"
    }
   ],
   "source": [
    "link.get('href')"
   ]
  },
  {
   "cell_type": "code",
   "execution_count": 13,
   "metadata": {},
   "outputs": [
    {
     "data": {
      "text/plain": [
       "'City to Host Fifth Annual Sustainable Denver Summit'"
      ]
     },
     "execution_count": 13,
     "metadata": {},
     "output_type": "execute_result"
    }
   ],
   "source": [
    "link.text"
   ]
  },
  {
   "cell_type": "markdown",
   "metadata": {},
   "source": [
    "Often 'permanent' variables in Python are set in all caps like this.  We aren't going to change the base URL or the page URL, so we use all caps for the variable names."
   ]
  },
  {
   "cell_type": "code",
   "execution_count": 14,
   "metadata": {},
   "outputs": [],
   "source": [
    "BASE_URL = 'https://www.denvergov.org'\n",
    "PAGE_URL = 'https://www.denvergov.org/content/denvergov/en/city-of-denver-home/news.html?page={}'"
   ]
  },
  {
   "cell_type": "markdown",
   "metadata": {},
   "source": [
    "This is a clean loop we can use to get each page of news, then get each news item in the page, and write it to our MongoDB datastore.  It also uses the tqdm library to print out progress as it runs."
   ]
  },
  {
   "cell_type": "code",
   "execution_count": 15,
   "metadata": {},
   "outputs": [
    {
     "data": {
      "application/vnd.jupyter.widget-view+json": {
       "model_id": "3fc9e81bdbf14fd6963ba547c380bdb1",
       "version_major": 2,
       "version_minor": 0
      },
      "text/plain": [
       "HBox(children=(IntProgress(value=0, max=70), HTML(value='')))"
      ]
     },
     "metadata": {},
     "output_type": "display_data"
    },
    {
     "name": "stdout",
     "output_type": "stream",
     "text": [
      "\n"
     ]
    }
   ],
   "source": [
    "import pandas as pd  # for conversion of datetimes\n",
    "from tqdm import tqdm_notebook\n",
    "from pymongo import MongoClient\n",
    "\n",
    "client = MongoClient()\n",
    "db = client['news']\n",
    "coll = db['denver']\n",
    "\n",
    "for page_number in tqdm_notebook(range(1, 71)):\n",
    "    res = req.get(PAGE_URL.format(page_number))\n",
    "    soup = bs(res.content, 'lxml')\n",
    "    news_items = soup.find_all('div', {'class': 'denver-news-list-item'})\n",
    "    for item in news_items:\n",
    "        date = item.find('p', {'class': 'denver-news-list-date'}).text\n",
    "        link = link = item.find('a')\n",
    "        title = link.text\n",
    "        href = link.get('href')\n",
    "        coll.insert_one({'date': pd.to_datetime(date),\n",
    "                    'title': title,\n",
    "                    'link': BASE_URL + href})\n",
    "\n",
    "client.close()"
   ]
  },
  {
   "cell_type": "markdown",
   "metadata": {},
   "source": [
    "Finally, we just check that our data was actually written to MongoDB."
   ]
  },
  {
   "cell_type": "code",
   "execution_count": 16,
   "metadata": {},
   "outputs": [
    {
     "name": "stdout",
     "output_type": "stream",
     "text": [
      "{'_id': ObjectId('5de581023ae5ef8671ee264a'),\n",
      " 'date': datetime.datetime(2019, 12, 2, 0, 0),\n",
      " 'link': 'https://www.denvergov.org/content/denvergov/en/environmental-health/about-us/news-room/newsroom_2019/fifth-annual-sustainable-denver-summit.html',\n",
      " 'title': 'City to Host Fifth Annual Sustainable Denver Summit'}\n"
     ]
    }
   ],
   "source": [
    "from pprint import pprint\n",
    "\n",
    "client = MongoClient()\n",
    "db = client['news']\n",
    "coll = db['denver']\n",
    "\n",
    "pprint(coll.find_one())\n",
    "\n",
    "client.close()"
   ]
  }
 ],
 "metadata": {
  "kernelspec": {
   "display_name": "Python 3",
   "language": "python",
   "name": "python3"
  },
  "language_info": {
   "codemirror_mode": {
    "name": "ipython",
    "version": 3
   },
   "file_extension": ".py",
   "mimetype": "text/x-python",
   "name": "python",
   "nbconvert_exporter": "python",
   "pygments_lexer": "ipython3",
   "version": "3.7.3"
  }
 },
 "nbformat": 4,
 "nbformat_minor": 2
}

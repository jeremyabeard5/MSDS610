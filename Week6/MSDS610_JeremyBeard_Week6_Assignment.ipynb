{
 "cells": [
  {
   "cell_type": "markdown",
   "id": "2db15bc9",
   "metadata": {},
   "source": [
    "* 20220612\n",
    "\n",
    "* MSDS 610\n",
    "\n",
    "* Jeremy Beard\n",
    "\n",
    "* Week 6\n",
    "\n",
    "* Assignment - Web Scraping"
   ]
  },
  {
   "cell_type": "markdown",
   "id": "a5fb61a0",
   "metadata": {},
   "source": [
    "## Week 6 Lab - DenverGov.org Scraping"
   ]
  },
  {
   "cell_type": "markdown",
   "id": "7385de25",
   "metadata": {},
   "source": [
    "This section of the Jupyter Notebook is not necessary to view for the purposes of grading the Week 6 Assignment and is merely provided here for completeness. The section below is the Lab which follows the youtube video (https://www.youtube.com/watch?v=TsX9lpTnWIU)\n",
    "\n",
    "Please scroll down and see the section which is titled \"Week 6 Assignment\""
   ]
  },
  {
   "cell_type": "code",
   "execution_count": 1,
   "id": "09bb39de",
   "metadata": {},
   "outputs": [],
   "source": [
    "#scraping from https://www.denvergov.org/content/denvergov/en/city-of-denver-home/news.html\n",
    "import requests as req"
   ]
  },
  {
   "cell_type": "code",
   "execution_count": 2,
   "id": "e4bb4659",
   "metadata": {},
   "outputs": [],
   "source": [
    "res = req.get('https://www.denvergov.org/content/denvergov/en/city-of-denver-home/news.html')"
   ]
  },
  {
   "cell_type": "code",
   "execution_count": 3,
   "id": "95cb17db",
   "metadata": {},
   "outputs": [
    {
     "data": {
      "text/plain": [
       "b'\\r\\n\\r\\n\\r\\n\\r\\n\\r\\n\\r\\n\\r\\n\\r\\n\\r\\n<!DOCTYPE HTML>\\r\\n<html  lang=\"en\">\\r\\n\\r\\n\\r\\n\\r\\n\\r\\n\\r\\n\\r\\n<head>\\r\\n    <title>News | City and County of Denver</title>\\r\\n    <!-- UpdateFavIcon_v1 -->\\n<link rel=\"apple-touch-icon\" sizes=\"180x180\" href=\"/files/ocfavicon/Public/apple-touch-icon.png?V=637380910420698470\">\\n<link rel=\"icon\" type=\"image/png\" sizes=\"32x32\" href=\"/files/ocfavicon/Public/favicon-32x32.png?V=637380910420698470\">\\n<link rel=\"icon\" type=\"image/png\" sizes=\"16x16\" href=\"/files/ocfavicon/Public/favicon-16x16.png?V=637380910420698470\">\\n<link rel=\"manifest\" href=\"/files/ocfavicon/Public/site.webmanifest?V=637380910420698470\">\\n<link rel=\"shortcut icon\" href=\"/files/ocfavicon/Public/favicon.ico?V=637380910420698470\">\\r\\n    \\r\\n\\r\\n\\r\\n\\r\\n\\r\\n\\r\\n<meta name=\"description\" content=\"Your one-stop-shop for the latest news and announcements from the mayor and agencies across the City and County of Denver.\">\\r\\n<meta name=\"keywords\" content=\"\">\\r\\n<meta name=\"tags\" content=\"\">\\r\\n<meta name=\"modified\" content=\"6 Mar 2020 02:20:43 UTC\">\\r\\n<meta name=\"viewport\" content=\"width=device-width, initial-scale=1\">\\r\\n<meta http-equiv=\"Content-Type\" content=\"text/html; charset=utf-8\">\\r\\n\\r\\n    \\r\\n\\r\\n\\r\\n\\r\\n\\r\\n\\r\\n\\r\\n\\r\\n\\r\\n\\r\\n\\r\\n\\r\\n\\r\\n\\r\\n\\r\\n\\r\\n\\r\\n\\r\\n\\r\\n\\r\\n\\r\\n\\r\\n\\r\\n\\r\\n\\r\\n\\r\\n\\r\\n\\r\\n\\r\\n\\r\\n\\r\\n\\r\\n\\r\\n<!--\\r\\n<link href=\"/content/denvergov/en/city-of-denver-home/news\" />\\r\\n<link href=\"false\" />\\r\\n-->\\r\\n\\r\\n\\r\\n\\r\\n\\r\\n\\r\\n<script>\\r\\n    var digitalData = {\\r\\n    \"pageInstanceID\": \":/content/denvergov/en/city-of-denver-home/news\",\\r\\n    \"attributes\": {\"devopsinfo\": {\\r\\n        \"BuildLabel\": \"\",\\r\\n        \"BuildID\": \"\",\\r\\n        \"TeamProject\": \"\",\\r\\n        \"Environment\": \"\",\\r\\n        \"ReleaseID\": \"\",\\r\\n        \"ReleaseLabel\": \"\",\\r\\n        \"AppName\": \"\"\\r\\n    }},\\r\\n    \"page\": {\"pageInfo\": {\\r\\n        \"author\": \"Karen Pellegrin\",\\r\\n        \"channel\": \"Direct\",\\r\\n        \"publisher\": \"City & County of Denver\",\\r\\n        \"language\": \"en\",\\r\\n        \"pageID\": \"city-of-denver-home|news\",\\r\\n        \"issueDate\": \"2020-03-05T21:20:43.614-05:00\",\\r\\n        \"industryCodes\": \"91990404\",\\r\\n        \"pageName\": \"News\"\\r\\n    }},\\r\\n    \"category\": {\\r\\n        \"subCategory\": \"Content\",\\r\\n        \"pageType\": \"/apps/denvergov/templates/master\",\\r\\n        \"primaryCategory\": \"DenverGov\"\\r\\n    }\\r\\n};\\r\\n</script>\\r\\n\\r\\n\\r\\n\\r\\n\\r\\n\\r\\n<!--\\r\\n<script src=\"/static/denver-data-layer/R-20160719-005/ddl.js\"></script>\\r\\n-->\\r\\n\\r\\n\\r\\n\\r\\n\\r\\n\\r\\n\\r\\n<script type=\"text/javascript\" src=\"/etc.clientlibs/denvergov/clientlibs/libraries/jquery-1.12.4.min.js\"></script>\\r\\n\\r\\n\\r\\n\\r\\n<script type=\"text/javascript\" src=\"https://www.denvergov.org/denverapps/static/fortawesome/R-20190723-002/js/4d5a8445.js\"></script>\\r\\n\\r\\n<!--\\r\\n<script type=\"text/javascript\" src=\"https://www.denvergov.org/static/typekit/20150630.001/tkloader.js\"></script>\\r\\n-->\\r\\n\\r\\n<script type=\"text/javascript\">\\r\\n    (function(d) {\\r\\n        var config = {\\r\\n            kitId: \\'hrx2fun\\',\\r\\n            scriptTimeout: 3000,\\r\\n            async: true\\r\\n        },\\r\\n        h=d.documentElement,t=setTimeout(function(){h.className=h.className.replace(/\\\\bwf-loading\\\\b/g,\"\")+\" wf-inactive\";},config.scriptTimeout),tk=d.createElement(\"script\"),f=false,s=d.getElementsByTagName(\"script\")[0],a;h.className+=\" wf-loading\";tk.src=\\'https://use.typekit.net/\\'+config.kitId+\\'.js\\';tk.async=true;tk.onload=tk.onreadystatechange=function(){a=this.readyState;if(f||a&&a!=\"complete\"&&a!=\"loaded\")return;f=true;clearTimeout(t);try{Typekit.load(config)}catch(e){}};s.parentNode.insertBefore(tk,s)\\r\\n    })(document);\\r\\n</script>\\r\\n\\r\\n\\r\\n<!-- RemoveAdobeAnalytics_v1 -->\\n\\r\\n\\r\\n<!--siteimprove script-->\\r\\n<script type=\"text/javascript\">\\r\\n    /*<![CDATA[*/\\r\\n    (function() {\\r\\n    var sz = document.createElement(\\'script\\'); sz.type = \\'text/javascript\\'; sz.async = true;\\r\\n    sz.src = \\'//siteimproveanalytics.com/js/siteanalyze_1302574.js\\';\\r\\n    var s = document.getElementsByTagName(\\'script\\')[0]; s.parentNode.insertBefore(sz, s);\\r\\n    })();\\r\\n    /*]]>*/\\r\\n    </script>\\r\\n    \\r\\n\\r\\n<!--end siteimprove script-->\\r\\n<!--crazyegg script/-->\\r\\n<script type=\"text/javascript\" src=\"//script.crazyegg.com/pages/scripts/0090/5225.js\" async=\"async\"></script>\\r\\n    \\r\\n\\r\\n\\r\\n\\r\\n\\r\\n\\r\\n<link href=\"//maxcdn.bootstrapcdn.com/font-awesome/4.1.0/css/font-awesome.min.css\" rel=\"stylesheet\">\\r\\n\\r\\n<link rel=\"stylesheet\" href=\"/etc.clientlibs/denvergov/clientlibs/page.min.css\" type=\"text/css\">\\r\\n<link rel=\"stylesheet\" href=\"/etc.clientlibs/denvergov/clientlibs/components.min.css\" type=\"text/css\">\\r\\n<!-- UpdateTopNavStyling_v1 -->\\n<link rel=\"stylesheet\" href=\"/etc.clientlibs/denvergov/clientlibs/design-fixes.min.css\" type=\"text/css\">\\n<link rel=\"stylesheet\" href=\"/content/denvergov/archive-styles.css\" type=\"text/css\">\\r\\n\\r\\n\\r\\n\\r\\n    \\r\\n    \\r\\n\\r\\n\\r\\n\\r\\n    \\r\\n\\r\\n<!-- UpdateNavBarStyling_v2 -->\\n</head>\\r\\n\\r\\n\\r\\n\\r\\n\\r\\n\\r\\n\\r\\n\\r\\n<body>\\r\\n\\r\\n\\r\\n\\r\\n\\r\\n\\r\\n\\r\\n\\r\\n<a href=\"#skip_to_content\" class=\"skip-navigation\" title=\"Skip Navigation\">Skip navigation</a>\\r\\n\\r\\n<header class=\"denver-header denver-no-subnav noindex\">\\r\\n\\r\\n    <div id=\"global-header\">\\r\\n        <nav class=\"denver-global-nav navbar navbar-inverse\" role=\"navigation\" id=\"nav\">\\r\\n            <div class=\"container\">\\r\\n\\r\\n                <div class=\"denver-global-nav-controls navbar-right navbar-toggle with-search\">\\r\\n\\r\\n                    <form action=\"https://www.denvergov.org/Apps4/Identity/Login.aspx?REF=https://www.denvergov.org\" method=\"get\">\\r\\n                        <button type=\"submit\" class=\"denver-profile-icon navbar-toggle\" title=\"Sign in or Sign up\">\\r\\n                            <span class=\"sr-only\">Sign in or Sign up</span>\\r\\n                            <i class=\"fa fa-user fa-2x\"></i>\\r\\n                        </button>\\r\\n                    </form>\\r\\n                    <label for=\"searchForm\" class=\"hidden\">Search</label>\\r\\n                    \\r\\n\\r\\n                    <!-- SEARCH COMPONENT START - 1 of 4 places -->\\r\\n                    <form onsubmit=\"return searchResult(\\'/content/denvergov/en/city-of-denver-home/search-results.html\\',$(this));\" class=\"denver-nav-search hidden-lg hidden-md hidden-sm hidden-xs\">\\r\\n                        \\r\\n                        \\r\\n\\r\\n\\r\\n\\r\\n     \\r\\n<input type=\"text\" name=\"q\" value=\"\" placeholder=\"Search\" id=\"searchForm\" >\\r\\n\\r\\n                        \\r\\n                            <i class=\"fa fa-search\" onclick=\"searchResult(\\'/content/denvergov/en/city-of-denver-home/search-results.html\\',$(this).parent());\"></i>\\r\\n                        \\r\\n                    </form>\\r\\n                    <!-- SEARCH COMPONENT END -->\\r\\n\\r\\n                    <button type=\"button\" class=\"denver-nav-icon navbar-toggle\" title=\"Toggle navigation\" data-toggle=\"collapse\" data-target=\".dropdown-nav\">\\r\\n                        <span class=\"sr-only\">Toggle navigation</span>\\r\\n                        <i class=\"fa fa-navicon fa-2x\"></i>\\r\\n                    </button>\\r\\n\\r\\n                    <!-- SEARCH COMPONENT START - 2 of 4 -->\\r\\n                    <button type=\"button\" class=\"denver-search-icon hidden-xl navbar-toggle\" data-toggle=\"collapse\" data-target=\".denver-body-search\">\\r\\n                            <span class=\"hidden\">Search</span>  <i class=\"fa fa-search fa-2x\"></i>\\r\\n                    </button>\\r\\n                    <!-- SEARCH COMPONENT END -->\\r\\n\\r\\n                    <div class=\"menu-verbiage\" data-toggle=\"collapse\" data-target=\".dropdown-nav\">Menu</div>\\r\\n                </div>\\r\\n\\r\\n                <!-- Denver navbar logo-->\\r\\n                <div class=\"navbar-header\">\\r\\n                    <div class=\"navbar-brand denver-navbar-brand\">\\r\\n                        <div class=\"logo\"><!-- UpdateHomePageLink_v1 -->\\n<a href=\"/Home\">\\r\\n            <img id=\"denverlogo\" alt=\"City and County of Denver\" title=\"City and County of Denver\" src=\"/etc.clientlibs/denvergov/clientlibs/components/resources/images/denverlogo.png\"/>\\r\\n        </a>\\r\\n</div>\\r\\n\\r\\n                    </div>\\r\\n                </div>\\r\\n\\r\\n                <!-- Collect the nav links, forms, and other content for toggling -->\\r\\n                <div class=\"collapse navbar-collapse dropdown-nav\">\\r\\n\\r\\n\\r\\n\\r\\n\\r\\n\\r\\n\\r\\n\\r\\n<ul class=\"nav navbar-nav denver-navbar-nav\">\\r\\n    \\r\\n        \\r\\n            <!-- UpdateTopNavLinks_Neighborhood_v1 -->\\n<li><a href=\"/Neighborhood\">Neighborhood</a></li>\\r\\n        \\r\\n    \\r\\n        \\r\\n            <!-- UpdateTopNavLinks_Business_v1 -->\\n<li><a href=\"/Business\">Business</a></li>\\r\\n        \\r\\n    \\r\\n        \\r\\n            <!-- UpdateTopNavLinks_Visiting_v1 -->\\n\\r\\n        \\r\\n    \\r\\n        \\r\\n            <!-- UpdateTopNavLinks_Government_v1 -->\\n<li><a href=\"/Government\">Government</a></li>\\r\\n        \\r\\n    \\r\\n        \\r\\n            <!-- UpdateTopNavLinks_OnlineServices_v1 -->\\n<li><a href=\"/City-Services\">City Services</a></li>\\r\\n        \\r\\n    \\r\\n        \\r\\n            <!-- UpdateTopNavLinks_Directory_v1 -->\\n<li><a href=\"/Directory\">Directory</a></li>\\r\\n        \\r\\n    \\r\\n        \\r\\n    \\r\\n        \\r\\n    \\r\\n        \\r\\n    \\r\\n        \\r\\n    \\r\\n        \\r\\n    \\r\\n        \\r\\n    \\r\\n</ul></div>\\r\\n\\r\\n            </div>\\r\\n        </nav>\\r\\n\\r\\n        <!-- SEARCH COMPONENT START - 3 of 4 -->\\r\\n        <form onsubmit=\"return searchResult(\\'/content/denvergov/en/city-of-denver-home/search-results.html\\',$(this));\" class=\"collapse denver-body-search hidden-xl\">\\r\\n            \\r\\n            \\r\\n\\r\\n\\r\\n\\r\\n     \\r\\n<input type=\"text\" name=\"q\" value=\"\" placeholder=\"Search\" id=\"searchForm\" >\\r\\n\\r\\n            \\r\\n                <i class=\"fa fa-search fa-2x\" onclick=\"searchResult(\\'/content/denvergov/en/city-of-denver-home/search-results.html\\',$(this).parent());\"></i>\\r\\n            \\r\\n        </form>\\r\\n        <!-- SEARCH COMPONENT END -->\\r\\n\\r\\n    </div>\\r\\n\\r\\n</header>\\r\\n\\r\\n<!-- SPACER FOR AGENCY NAV & SEARCH STARTS HERE - - - - - - - - - - - - - - - - - - - - - - - - - - -  - - - - - - - - -  -->\\r\\n<div class=\"denver-header-spacer noindex\" aria-hidden=\"true\">\\r\\n\\r\\n    <!-- SEARCH COMPONENT START - 4 of 4 -->\\r\\n    <form class=\"collapse denver-body-search hidden-md hidden-lg\">\\r\\n            <label for=\"small-search2\" class=\"hidden\">Search</label>\\r\\n        <input type=\"search\" id=\"small-search2\">\\r\\n    </form>\\r\\n    <!-- SEARCH COMPONENT END -->\\r\\n\\r\\n</div>\\r\\n<!-- SPACER FOR AGENCY NAV & SEARCH  ENDS HERE - - - - - - - - - - - - - - - - - - - - - - - - - - -  - - - - - - - - -  -->\\r\\n\\r\\n<!-- GLOBAL HEADER ENDS HERE - - - - - - - - - - - - - - - - - - - - - - - - - - -  - - - - - - - - -  -->\\r\\n<a name=\"skip_to_content\" id=\"skip_to_content\" tabindex=\"-1\"></a>\\r\\n\\r\\n\\r\\n\\r\\n\\r\\n\\r\\n\\r\\n\\r\\n\\r\\n\\r\\n<section class=\"container denver-content-area-master\">\\r\\n    <div class=\"content parsys\"><div class=\"columnControl parsys 67-33 section\">\\r\\n\\r\\n\\r\\n\\r\\n\\r\\n\\r\\n\\r\\n\\r\\n\\r\\n\\r\\n\\r\\n    <div class=\"2columns-6733-1\">\\r\\n        <div class=\"column parsys right-pad-lrg\"><div class=\"row denver-news-mainrow section\">\\r\\n\\r\\n\\r\\n\\r\\n\\r\\n\\r\\n\\r\\n\\r\\n<div class=\"col-sm-8 denver-news-mainarea\">\\r\\n    \\r\\n       \\r\\n            <p class=\"denver-news-results-count\">Results 1 - 6 of 189</p>\\r\\n             <!-- start article list -->\\r\\n            \\r\\n                <div class=\"denver-news-list-item\">\\r\\n                    <p class=\"denver-news-list-date\">Dec 11, 2020</p>\\r\\n                    <h3><a href=\"/content/denvergov/en/covid-19/coronavirus-news/december-2020/denver-covid-19-status-update.html\">Denver COVID-19 Status Update</a></h3>\\r\\n                    \\r\\n                    \\r\\n                        <p>The City and County of Denver today provided a COVID-19 status update regarding vaccine distribution planning,  community testing sites,  financial relief for business and workers, Denver county\\'s current status, and Denver\\'s COVID-19 response timeline.</p>\\r\\n                    \\r\\n                    <div style=\"clear:both;\"></div>\\r\\n                </div>\\r\\n            \\r\\n                <div class=\"denver-news-list-item\">\\r\\n                    <p class=\"denver-news-list-date\">Dec 10, 2020</p>\\r\\n                    <h3><a href=\"/content/denvergov/en/denver-department-of-finance/newsroom/2020/City_Saves_On_Debt_Refinance_ElevateDenverIssuance.html\">City Saves Over $60 Million from Better Denver Bonds Refunding  and Closes on the Elevate Denver Fourth Issuance</a></h3>\\r\\n                    \\r\\n                    \\r\\n                        <p>\\xe2\\x80\\x93 Denver locked in more than $60 million of net present value savings when it closed on Series 2020A-B General Obligation Bonds, which coupled a strategic refunding to secure a lower interest rate on outstanding Better Denver Bonds with a $170 million fourth issuance of the Elevate Denver Bond Program.</p>\\r\\n                    \\r\\n                    <div style=\"clear:both;\"></div>\\r\\n                </div>\\r\\n            \\r\\n                <div class=\"denver-news-list-item\">\\r\\n                    <p class=\"denver-news-list-date\">Dec 10, 2020</p>\\r\\n                    <h3><a href=\"/content/denvergov/en/denver-department-of-finance/newsroom/2020/City_Deploys_Additional_4MillionDollars_COVID-19_Emergency_Funds.html\">City Deploys Additional $4 Million in COVID-19 Emergency Funds to Support Residents, Workers, Small Businesses</a></h3>\\r\\n                    \\r\\n                    \\r\\n                        <p>The City and County of Denver will release an additional $4 million in COVID-19 emergency funds to support residents, workers, and businesses negatively impacted by COVID-19. The city\\xe2\\x80\\x99s COVID-19 Emergency Special Revenue Fund (SRF) will be the funding source after being reimbursed for eligible expenses covered by federal Coronavirus Relief Fund (CRF) dollars.</p>\\r\\n                    \\r\\n                    <div style=\"clear:both;\"></div>\\r\\n                </div>\\r\\n            \\r\\n                <div class=\"denver-news-list-item\">\\r\\n                    <p class=\"denver-news-list-date\">Dec 10, 2020</p>\\r\\n                    <h3><a href=\"/content/denvergov/en/mayors-office/newsroom/2020/city-deploys-additional--4-million-in-covid-19-emergency-funds-t.html\">City Deploys Additional $4 Million in COVID-19 Emergency Funds to Support Residents, Workers, Small Businesses</a></h3>\\r\\n                    \\r\\n                    \\r\\n                        <p>The City and County of Denver will release an additional $4 million in COVID-19 emergency funds to support residents, workers and businesses negatively impacted by COVID-19. </p>\\r\\n                    \\r\\n                    <div style=\"clear:both;\"></div>\\r\\n                </div>\\r\\n            \\r\\n                <div class=\"denver-news-list-item\">\\r\\n                    <p class=\"denver-news-list-date\">Dec 10, 2020</p>\\r\\n                    <h3><a href=\"/content/denvergov/en/denver-city-council/news/2020/week-of-december-14--2020-meeting-schedule-and-agendas.html\">Week of December 14, 2020 Meeting Schedule and Agendas</a></h3>\\r\\n                    \\r\\n                    \\r\\n                    <div style=\"clear:both;\"></div>\\r\\n                </div>\\r\\n            \\r\\n                <div class=\"denver-news-list-item\">\\r\\n                    <p class=\"denver-news-list-date\">Dec 10, 2020</p>\\r\\n                    <h3><a href=\"/content/denvergov/en/elevate-denver/News/2020/city-saves-over--60-million-from-better-denver-bonds-refunding-a.html\">City Saves Over $60 Million from Better Denver Bonds Refunding and Closes on the Elevate Denver Fourth Issuance</a></h3>\\r\\n                    \\r\\n                    \\r\\n                        <p>Denver locked in more than $60 million of net present value savings when it closed on Series 2020A-B General Obligation Bonds, which coupled a strategic refunding to secure a lower interest rate on outstanding Better Denver Bonds with a $170 million fourth issuance of the Elevate Denver Bond Program.</p>\\r\\n                    \\r\\n                    <div style=\"clear:both;\"></div>\\r\\n                </div>\\r\\n            \\r\\n        \\r\\n        \\r\\n    \\r\\n    <!-- end article list, start pagination links -->\\r\\n    \\r\\n    <div class=\"denver-news-pagination\">\\r\\n        <ul class=\"pagination pagination-lg\">\\r\\n\\r\\n            <li class=\"disabled\">\\r\\n                <a href=\"/content/denvergov/en/city-of-denver-home/news.html.html\">&laquo;</a>\\r\\n            </li>\\r\\n            \\r\\n                \\r\\n                   \\r\\n                     \\r\\n                        <li class=\"active\"><a href=\"/content/denvergov/en/city-of-denver-home/news.html@page=1.html\">1</a></li>\\r\\n                     \\r\\n                     \\r\\n                   \\r\\n                \\r\\n                   \\r\\n                     \\r\\n                     \\r\\n                        <li><a href=\"/content/denvergov/en/city-of-denver-home/news.html@page=2.html\">2</a></li>\\r\\n                     \\r\\n                   \\r\\n                \\r\\n                   \\r\\n                     \\r\\n                     \\r\\n                        <li><a href=\"/content/denvergov/en/city-of-denver-home/news.html@page=3.html\">3</a></li>\\r\\n                     \\r\\n                   \\r\\n                \\r\\n                   \\r\\n                     \\r\\n                     \\r\\n                        <li><a href=\"/content/denvergov/en/city-of-denver-home/news.html@page=4.html\">4</a></li>\\r\\n                     \\r\\n                   \\r\\n                \\r\\n                   \\r\\n                     \\r\\n                     \\r\\n                        <li><a href=\"/content/denvergov/en/city-of-denver-home/news.html@page=5.html\">5</a></li>\\r\\n                     \\r\\n                   \\r\\n                \\r\\n                   \\r\\n                     \\r\\n                     \\r\\n                        <li><a href=\"/content/denvergov/en/city-of-denver-home/news.html@page=6.html\">6</a></li>\\r\\n                     \\r\\n                   \\r\\n                \\r\\n                   \\r\\n                     \\r\\n                     \\r\\n                        <li><a href=\"/content/denvergov/en/city-of-denver-home/news.html@page=7.html\">7</a></li>\\r\\n                     \\r\\n                   \\r\\n                \\r\\n                   \\r\\n                     \\r\\n                     \\r\\n                        <li><a href=\"/content/denvergov/en/city-of-denver-home/news.html@page=8.html\">8</a></li>\\r\\n                     \\r\\n                   \\r\\n                \\r\\n                   \\r\\n                     \\r\\n                     \\r\\n                        <li><a href=\"/content/denvergov/en/city-of-denver-home/news.html@page=9.html\">9</a></li>\\r\\n                     \\r\\n                   \\r\\n                \\r\\n                   \\r\\n                     \\r\\n                     \\r\\n                        <li><a href=\"/content/denvergov/en/city-of-denver-home/news.html@page=1.html\">10</a></li>\\r\\n                     \\r\\n                   \\r\\n                \\r\\n             \\r\\n            <li class=\"\">\\r\\n                \\r\\n                    \\r\\n                    \\r\\n                        <a href=\"/content/denvergov/en/city-of-denver-home/news.html@page=2.html\">&raquo;</a>\\r\\n                    \\r\\n                \\r\\n            </li>\\r\\n\\r\\n        </ul>\\r\\n    </div>\\r\\n    \\r\\n</div>\\r\\n<div class=\"col-sm-4 denver-news-sidebar\">\\r\\n    <div class=\"denver-news-archive-area\">\\r\\n        \\r\\n        <p class=\"denver-news-archive-links\">\\r\\n            \\r\\n        </p>\\r\\n    </div>\\r\\n</div>\\r\\n</div>\\r\\n\\r\\n</div>\\r\\n\\r\\n        \\r\\n     &nbsp;</div>\\r\\n\\r\\n    <div class=\"2columns-6733-2\">\\r\\n        <div class=\"column parsys\"><div class=\"rawtext section\">\\r\\n\\r\\n    \\r\\n\\t\\t<p></p><div class=\"google-translate\">\\r\\n <div class=\"translate-text\">\\r\\n  <strong>Translate This Page</strong>\\r\\n </div>\\r\\n <div id=\"google_translate_element\"></div>\\r\\n <p></p>\\r\\n</div><style>\\r\\n.google-translate {clear:both;overflow:hidden;margin-bottom:20px;}\\r\\n.goog-te-gadget {position:relative;top:-4px;}\\r\\n.goog-te-gadget select {margin-left: 6px!important;}\\r\\n.goog-te-gadget > div {display:block!important;}\\r\\n.goog-te-gadget span a {font-size:0!important;}\\r\\n.goog-te-gadget img {width: auto; display: inherit;position: relative;top: -2px;}\\r\\n\\r\\n#google_translate_element {float:left;}\\r\\n.translate-text {float:left;margin-right:8px;position:relative;}\\r\\n\\r\\n</style>\\r\\n        \\r\\n        \\t<script type=\"text/javascript\">\\r\\nfunction googleTranslateElementInit() {\\r\\n  new google.translate.TranslateElement({pageLanguage: \\'en\\', layout: google.translate.TranslateElement.FloatPosition.TOP_LEFT}, \\'google_translate_element\\');\\r\\n}\\r\\n\\r\\n\\r\\n</script>\\r\\n<script type=\"text/javascript\" src=\"//translate.google.com/translate_a/element.js?cb=googleTranslateElementInit\"></script>\\r\\n        \\r\\n    \\r\\n    \\r\\n\\r\\n\\r\\n    \\r\\n</div>\\r\\n<div class=\"rawtext section\">\\r\\n\\r\\n    \\r\\n    \\r\\n\\t\\t<p></p><div id=\"fb-root\"></div>\\r\\n<script>(function(d, s, id) {\\r\\n  var js, fjs = d.getElementsByTagName(s)[0];\\r\\n  if (d.getElementById(id)) return;\\r\\n  js = d.createElement(s); js.id = id;\\r\\n  js.src = \"//connect.facebook.net/en_US/sdk.js#xfbml=1&version=v2.4\";\\r\\n  fjs.parentNode.insertBefore(js, fjs);\\r\\n}(document, \\'script\\', \\'facebook-jssdk\\'));</script>\\r\\n<p></p><p></p><div class=\"fb-page\" data-href=\"https://www.facebook.com/CityandCountyofDenver\" data-tabs=\"timeline\" data-height=\"1000\" data-small-header=\"false\" data-adapt-container-width=\"true\" data-hide-cover=\"false\" data-show-facepile=\"false\"><div class=\"fb-xfbml-parse-ignore\"><blockquote cite=\"https://www.facebook.com/CityandCountyofDenver\"><a href=\"https://www.facebook.com/CityandCountyofDenver\">City and County of Denver</a></blockquote></div></div>\\r\\n    \\r\\n\\r\\n\\r\\n    \\r\\n</div>\\r\\n\\r\\n</div>\\r\\n\\r\\n        \\r\\n     &nbsp;</div>\\r\\n\\r\\n<div style=\"clear: both;\"></div>\\r\\n</div>\\r\\n\\r\\n</div>\\r\\n\\r\\n</section>\\r\\n\\r\\n\\r\\n\\r\\n\\r\\n\\r\\n\\r\\n\\r\\n<footer class=\"denver-footer noindex\" role=\"contentinfo\">\\r\\n    <div class=\"footer parbase\">\\r\\n\\r\\n\\r\\n\\r\\n\\r\\n\\r\\n\\r\\n\\r\\n\\r\\n<div class=\"container social-bar\">\\r\\n    <div class=\"col-xs-6 col-sm-9 social-bar\">\\r\\n        <ul class=\"social-icons center-block\">\\r\\n            \\r\\n                \\r\\n                    <li>\\r\\n                        <a class=\"facebook\" href=\"http://www.facebook.com/CityandCountyofDenver\" target=\"_blank\" alt=\"Facebook\" title=\"Facebook\" aria-label=\"Facebook\">\\r\\n                       \\r\\n                            <i class=\"fa fa-facebook\" aria-hidden=\"true\">\\r\\n                                 \\r\\n                            </i>\\r\\n                            <span class=\"hidden\">Facebook</span>\\r\\n                        </a>\\r\\n                    </li>\\r\\n                \\r\\n            \\r\\n                \\r\\n                    <li>\\r\\n                        <a class=\"youtube\" href=\"https://www.youtube.com/user/CityandCountyDenver\" target=\"_blank\" alt=\"Youtube\" title=\"Youtube\" aria-label=\"Youtube\">\\r\\n                       \\r\\n                            <i class=\"fa fa-youtube\" aria-hidden=\"true\">\\r\\n                                 \\r\\n                            </i>\\r\\n                            <span class=\"hidden\">Youtube</span>\\r\\n                        </a>\\r\\n                    </li>\\r\\n                \\r\\n            \\r\\n                \\r\\n                    <li>\\r\\n                        <a class=\"flickr\" href=\"https://www.flickr.com/photos/80202894@N07/\" target=\"_blank\" alt=\"Flickr\" title=\"Flickr\" aria-label=\"Flickr\">\\r\\n                       \\r\\n                            <i class=\"fa fa-flickr\" aria-hidden=\"true\">\\r\\n                                 \\r\\n                            </i>\\r\\n                            <span class=\"hidden\">Flickr</span>\\r\\n                        </a>\\r\\n                    </li>\\r\\n                \\r\\n            \\r\\n                \\r\\n                    <li>\\r\\n                        <a class=\"twitter\" href=\"https://twitter.com/cityofdenver\" target=\"_blank\" alt=\"Twitter\" title=\"Twitter\" aria-label=\"Twitter\">\\r\\n                       \\r\\n                            <i class=\"fa fa-twitter\" aria-hidden=\"true\">\\r\\n                                 \\r\\n                            </i>\\r\\n                            <span class=\"hidden\">Twitter</span>\\r\\n                        </a>\\r\\n                    </li>\\r\\n                \\r\\n            \\r\\n                \\r\\n                    <li>\\r\\n                        <a class=\"instagram\" href=\"https://www.instagram.com/therealcityofdenver/\" target=\"_blank\" alt=\"Instagram\" title=\"Instagram\" aria-label=\"Instagram\">\\r\\n                       \\r\\n                            <i class=\"fa fa-instagram\" aria-hidden=\"true\">\\r\\n                                 \\r\\n                            </i>\\r\\n                            <span class=\"hidden\">Instagram</span>\\r\\n                        </a>\\r\\n                    </li>\\r\\n                \\r\\n            \\r\\n            \\r\\n        </ul>\\r\\n    </div>\\r\\n    <div class=\"col-xs-6 col-sm-3 text-center pocketgov\">\\r\\n        <a href=\"https://www.denvergov.org/pocketgov\">\\r\\n            <span class=\"pocketgov-logo center-block\">\\r\\n                <span class=\"pocketgov-name\">\\r\\n                    pocketgov \\r\\n                </span>\\r\\n                <span class=\"pocketgov-denver\">\\r\\n                    denver\\r\\n                </span>\\r\\n            </span>\\r\\n        </a>\\r\\n    </div>\\r\\n</div>\\r\\n<div class=\"footer-copy text-center\">\\r\\n    <div class=\"container\">\\r\\n        <div class=\"row\">\\r\\n            \\r\\n                \\r\\n                    <article class=\"col-xs-4 col-sm-4 col-md-4 text-center footer-content\">\\r\\n                        <a href=\"/content/denvergov/en/city-of-denver-home/online-services-center.html\" title=\"ONLINE SERVICES\">\\r\\n                            <h5><img class=\"appImgIcon\" src=\"/content/dam/denvergov/Portals/footer/apps.png\" alt=\"ONLINE SERVICES\"/>ONLINE SERVICES</h5>\\r\\n                        </a>\\r\\n                    </article>\\r\\n                \\r\\n            \\r\\n                \\r\\n                    <article class=\"col-xs-4 col-sm-4 col-md-4 text-center footer-content\">\\r\\n                        <a href=\"https://www.denvergov.org/opendata\" title=\"OPEN DATA\">\\r\\n                            <h5><img class=\"appImgIcon\" src=\"/content/dam/denvergov/Portals/footer/database.png\" alt=\"OPEN DATA\"/>OPEN DATA</h5>\\r\\n                        </a>\\r\\n                    </article>\\r\\n                \\r\\n            \\r\\n                \\r\\n                    <article class=\"col-xs-4 col-sm-4 col-md-4 text-center footer-content\">\\r\\n                        <a href=\"/content/denvergov/en/city-of-denver-home/a-to-z-departments-and-services.html\" title=\"A - Z SERVICES\">\\r\\n                            <h5><img class=\"appImgIcon\" src=\"/content/dam/denvergov/Portals/footer/atoz.png\" alt=\"A - Z SERVICES\"/>A - Z SERVICES</h5>\\r\\n                        </a>\\r\\n                    </article>\\r\\n                \\r\\n            \\r\\n            \\r\\n        </div>\\r\\n        <div class=\"row\">\\r\\n            <div class=\"footer-copyright\">\\r\\n                <p>\\r\\n                    &#169; Copyright 2020 City and County of Denver\\r\\n                    \\r\\n                        \\r\\n                            | <a href=\"https://www.denvergov.org/jobs\">Jobs</a>\\r\\n                        \\r\\n                    \\r\\n                        \\r\\n                            | <a href=\"/content/denvergov/en/city-of-denver-home/terms-of-use.html\">Terms of Use</a>\\r\\n                        \\r\\n                    \\r\\n                        \\r\\n                            | <a href=\"/content/denvergov/en/city-of-denver-home/privacy-policy.html\">Privacy & Security Policy</a>\\r\\n                        \\r\\n                    \\r\\n                        \\r\\n                            | <a href=\"/content/denvergov/en/city-of-denver-home/cora.html\">Open Records Policy (CORA)</a>\\r\\n                        \\r\\n                    \\r\\n                        \\r\\n                            | <a href=\"/content/denvergov/en/city-of-denver-home/accessibility.html\">Accessibility</a>\\r\\n                        \\r\\n                    \\r\\n                </p>\\r\\n            </div>\\r\\n        </div>\\r\\n    </div>\\r\\n</div>\\r\\n</div>\\r\\n\\r\\n</footer>\\r\\n\\r\\n\\r\\n\\r\\n\\r\\n\\r\\n\\r\\n\\r\\n<script type=\"text/javascript\" src=\"/etc.clientlibs/clientlibs/granite/jquery-ui.min.js\"></script>\\r\\n<script type=\"text/javascript\" src=\"/etc.clientlibs/denvergov/clientlibs/libraries.min.js\"></script>\\r\\n<script type=\"text/javascript\" src=\"/etc.clientlibs/denvergov/clientlibs/components.min.js\"></script>\\r\\n\\r\\n\\r\\n\\r\\n    \\r\\n    \\r\\n\\r\\n\\r\\n<!-- search Form -->\\r\\n<script>\\r\\n    function searchResult(searchURL, obj){\\r\\n        window.location.href = searchURL + \"?\" + $.param({ q : obj.find(\\'input\\').val() });\\r\\n        return false;\\r\\n    }\\r\\n\\r\\n    $(document).ready(function() {\\r\\n       $(\\'input[type=search], input[type=text]\\').placeholder();\\r\\n    });\\r\\n</script>\\r\\n\\r\\n<!-- Analytics -->\\r\\n<script type=\"text/javascript\">_satellite.pageBottom();</script>\\r\\n<div class=\"cloudservices servicecomponents\"><div class=\"cloudservice generictracker\">\\r\\n    <script type=\"text/javascript\">\\r\\n    (function(i,s,o,g,r,a,m){i[\\'GoogleAnalyticsObject\\']=r;i[r]=i[r]||function(){\\r\\n  (i[r].q=i[r].q||[]).push(arguments)},i[r].l=1*new Date();a=s.createElement(o),\\r\\n  m=s.getElementsByTagName(o)[0];a.async=1;a.src=g;m.parentNode.insertBefore(a,m)\\r\\n  })(window,document,\\'script\\',\\'//www.google-analytics.com/analytics.js\\',\\'ga\\');\\r\\n\\r\\n  ga(\\'create\\', \\'UA-1920922-11\\', \\'auto\\');\\r\\n  ga(\\'send\\', \\'pageview\\');\\r\\n    </script>\\r\\n</div>\\r\\n\\r\\n</div>\\r\\n\\r\\n</body>\\r\\n\\r\\n</html>\\r\\n\\r\\n'"
      ]
     },
     "execution_count": 3,
     "metadata": {},
     "output_type": "execute_result"
    }
   ],
   "source": [
    "res.content"
   ]
  },
  {
   "cell_type": "code",
   "execution_count": 4,
   "id": "feef12a0",
   "metadata": {},
   "outputs": [],
   "source": [
    "from bs4 import BeautifulSoup as bs"
   ]
  },
  {
   "cell_type": "code",
   "execution_count": 5,
   "id": "3afedaeb",
   "metadata": {},
   "outputs": [],
   "source": [
    "soup = bs(res.content)"
   ]
  },
  {
   "cell_type": "code",
   "execution_count": 6,
   "id": "63ef2afc",
   "metadata": {},
   "outputs": [
    {
     "data": {
      "text/plain": [
       "\n",
       "<!DOCTYPE HTML>\n",
       "\n",
       "<html lang=\"en\">\n",
       "<head>\n",
       "<title>News | City and County of Denver</title>\n",
       "<!-- UpdateFavIcon_v1 -->\n",
       "<link href=\"/files/ocfavicon/Public/apple-touch-icon.png?V=637380910420698470\" rel=\"apple-touch-icon\" sizes=\"180x180\"/>\n",
       "<link href=\"/files/ocfavicon/Public/favicon-32x32.png?V=637380910420698470\" rel=\"icon\" sizes=\"32x32\" type=\"image/png\"/>\n",
       "<link href=\"/files/ocfavicon/Public/favicon-16x16.png?V=637380910420698470\" rel=\"icon\" sizes=\"16x16\" type=\"image/png\"/>\n",
       "<link href=\"/files/ocfavicon/Public/site.webmanifest?V=637380910420698470\" rel=\"manifest\"/>\n",
       "<link href=\"/files/ocfavicon/Public/favicon.ico?V=637380910420698470\" rel=\"shortcut icon\"/>\n",
       "<meta content=\"Your one-stop-shop for the latest news and announcements from the mayor and agencies across the City and County of Denver.\" name=\"description\"/>\n",
       "<meta content=\"\" name=\"keywords\"/>\n",
       "<meta content=\"\" name=\"tags\"/>\n",
       "<meta content=\"6 Mar 2020 02:20:43 UTC\" name=\"modified\"/>\n",
       "<meta content=\"width=device-width, initial-scale=1\" name=\"viewport\"/>\n",
       "<meta content=\"text/html; charset=utf-8\" http-equiv=\"Content-Type\"/>\n",
       "<!--\n",
       "<link href=\"/content/denvergov/en/city-of-denver-home/news\" />\n",
       "<link href=\"false\" />\n",
       "-->\n",
       "<script>\n",
       "    var digitalData = {\n",
       "    \"pageInstanceID\": \":/content/denvergov/en/city-of-denver-home/news\",\n",
       "    \"attributes\": {\"devopsinfo\": {\n",
       "        \"BuildLabel\": \"\",\n",
       "        \"BuildID\": \"\",\n",
       "        \"TeamProject\": \"\",\n",
       "        \"Environment\": \"\",\n",
       "        \"ReleaseID\": \"\",\n",
       "        \"ReleaseLabel\": \"\",\n",
       "        \"AppName\": \"\"\n",
       "    }},\n",
       "    \"page\": {\"pageInfo\": {\n",
       "        \"author\": \"Karen Pellegrin\",\n",
       "        \"channel\": \"Direct\",\n",
       "        \"publisher\": \"City & County of Denver\",\n",
       "        \"language\": \"en\",\n",
       "        \"pageID\": \"city-of-denver-home|news\",\n",
       "        \"issueDate\": \"2020-03-05T21:20:43.614-05:00\",\n",
       "        \"industryCodes\": \"91990404\",\n",
       "        \"pageName\": \"News\"\n",
       "    }},\n",
       "    \"category\": {\n",
       "        \"subCategory\": \"Content\",\n",
       "        \"pageType\": \"/apps/denvergov/templates/master\",\n",
       "        \"primaryCategory\": \"DenverGov\"\n",
       "    }\n",
       "};\n",
       "</script>\n",
       "<!--\n",
       "<script src=\"/static/denver-data-layer/R-20160719-005/ddl.js\"></script>\n",
       "-->\n",
       "<script src=\"/etc.clientlibs/denvergov/clientlibs/libraries/jquery-1.12.4.min.js\" type=\"text/javascript\"></script>\n",
       "<script src=\"https://www.denvergov.org/denverapps/static/fortawesome/R-20190723-002/js/4d5a8445.js\" type=\"text/javascript\"></script>\n",
       "<!--\n",
       "<script type=\"text/javascript\" src=\"https://www.denvergov.org/static/typekit/20150630.001/tkloader.js\"></script>\n",
       "-->\n",
       "<script type=\"text/javascript\">\n",
       "    (function(d) {\n",
       "        var config = {\n",
       "            kitId: 'hrx2fun',\n",
       "            scriptTimeout: 3000,\n",
       "            async: true\n",
       "        },\n",
       "        h=d.documentElement,t=setTimeout(function(){h.className=h.className.replace(/\\bwf-loading\\b/g,\"\")+\" wf-inactive\";},config.scriptTimeout),tk=d.createElement(\"script\"),f=false,s=d.getElementsByTagName(\"script\")[0],a;h.className+=\" wf-loading\";tk.src='https://use.typekit.net/'+config.kitId+'.js';tk.async=true;tk.onload=tk.onreadystatechange=function(){a=this.readyState;if(f||a&&a!=\"complete\"&&a!=\"loaded\")return;f=true;clearTimeout(t);try{Typekit.load(config)}catch(e){}};s.parentNode.insertBefore(tk,s)\n",
       "    })(document);\n",
       "</script>\n",
       "<!-- RemoveAdobeAnalytics_v1 -->\n",
       "<!--siteimprove script-->\n",
       "<script type=\"text/javascript\">\n",
       "    /*<![CDATA[*/\n",
       "    (function() {\n",
       "    var sz = document.createElement('script'); sz.type = 'text/javascript'; sz.async = true;\n",
       "    sz.src = '//siteimproveanalytics.com/js/siteanalyze_1302574.js';\n",
       "    var s = document.getElementsByTagName('script')[0]; s.parentNode.insertBefore(sz, s);\n",
       "    })();\n",
       "    /*]]>*/\n",
       "    </script>\n",
       "<!--end siteimprove script-->\n",
       "<!--crazyegg script/-->\n",
       "<script async=\"async\" src=\"//script.crazyegg.com/pages/scripts/0090/5225.js\" type=\"text/javascript\"></script>\n",
       "<link href=\"//maxcdn.bootstrapcdn.com/font-awesome/4.1.0/css/font-awesome.min.css\" rel=\"stylesheet\"/>\n",
       "<link href=\"/etc.clientlibs/denvergov/clientlibs/page.min.css\" rel=\"stylesheet\" type=\"text/css\"/>\n",
       "<link href=\"/etc.clientlibs/denvergov/clientlibs/components.min.css\" rel=\"stylesheet\" type=\"text/css\"/>\n",
       "<!-- UpdateTopNavStyling_v1 -->\n",
       "<link href=\"/etc.clientlibs/denvergov/clientlibs/design-fixes.min.css\" rel=\"stylesheet\" type=\"text/css\"/>\n",
       "<link href=\"/content/denvergov/archive-styles.css\" rel=\"stylesheet\" type=\"text/css\"/>\n",
       "<!-- UpdateNavBarStyling_v2 -->\n",
       "</head>\n",
       "<body>\n",
       "<a class=\"skip-navigation\" href=\"#skip_to_content\" title=\"Skip Navigation\">Skip navigation</a>\n",
       "<header class=\"denver-header denver-no-subnav noindex\">\n",
       "<div id=\"global-header\">\n",
       "<nav class=\"denver-global-nav navbar navbar-inverse\" id=\"nav\" role=\"navigation\">\n",
       "<div class=\"container\">\n",
       "<div class=\"denver-global-nav-controls navbar-right navbar-toggle with-search\">\n",
       "<form action=\"https://www.denvergov.org/Apps4/Identity/Login.aspx?REF=https://www.denvergov.org\" method=\"get\">\n",
       "<button class=\"denver-profile-icon navbar-toggle\" title=\"Sign in or Sign up\" type=\"submit\">\n",
       "<span class=\"sr-only\">Sign in or Sign up</span>\n",
       "<i class=\"fa fa-user fa-2x\"></i>\n",
       "</button>\n",
       "</form>\n",
       "<label class=\"hidden\" for=\"searchForm\">Search</label>\n",
       "<!-- SEARCH COMPONENT START - 1 of 4 places -->\n",
       "<form class=\"denver-nav-search hidden-lg hidden-md hidden-sm hidden-xs\" onsubmit=\"return searchResult('/content/denvergov/en/city-of-denver-home/search-results.html',$(this));\">\n",
       "<input id=\"searchForm\" name=\"q\" placeholder=\"Search\" type=\"text\" value=\"\"/>\n",
       "<i class=\"fa fa-search\" onclick=\"searchResult('/content/denvergov/en/city-of-denver-home/search-results.html',$(this).parent());\"></i>\n",
       "</form>\n",
       "<!-- SEARCH COMPONENT END -->\n",
       "<button class=\"denver-nav-icon navbar-toggle\" data-target=\".dropdown-nav\" data-toggle=\"collapse\" title=\"Toggle navigation\" type=\"button\">\n",
       "<span class=\"sr-only\">Toggle navigation</span>\n",
       "<i class=\"fa fa-navicon fa-2x\"></i>\n",
       "</button>\n",
       "<!-- SEARCH COMPONENT START - 2 of 4 -->\n",
       "<button class=\"denver-search-icon hidden-xl navbar-toggle\" data-target=\".denver-body-search\" data-toggle=\"collapse\" type=\"button\">\n",
       "<span class=\"hidden\">Search</span> <i class=\"fa fa-search fa-2x\"></i>\n",
       "</button>\n",
       "<!-- SEARCH COMPONENT END -->\n",
       "<div class=\"menu-verbiage\" data-target=\".dropdown-nav\" data-toggle=\"collapse\">Menu</div>\n",
       "</div>\n",
       "<!-- Denver navbar logo-->\n",
       "<div class=\"navbar-header\">\n",
       "<div class=\"navbar-brand denver-navbar-brand\">\n",
       "<div class=\"logo\"><!-- UpdateHomePageLink_v1 -->\n",
       "<a href=\"/Home\">\n",
       "<img alt=\"City and County of Denver\" id=\"denverlogo\" src=\"/etc.clientlibs/denvergov/clientlibs/components/resources/images/denverlogo.png\" title=\"City and County of Denver\"/>\n",
       "</a>\n",
       "</div>\n",
       "</div>\n",
       "</div>\n",
       "<!-- Collect the nav links, forms, and other content for toggling -->\n",
       "<div class=\"collapse navbar-collapse dropdown-nav\">\n",
       "<ul class=\"nav navbar-nav denver-navbar-nav\">\n",
       "<!-- UpdateTopNavLinks_Neighborhood_v1 -->\n",
       "<li><a href=\"/Neighborhood\">Neighborhood</a></li>\n",
       "<!-- UpdateTopNavLinks_Business_v1 -->\n",
       "<li><a href=\"/Business\">Business</a></li>\n",
       "<!-- UpdateTopNavLinks_Visiting_v1 -->\n",
       "<!-- UpdateTopNavLinks_Government_v1 -->\n",
       "<li><a href=\"/Government\">Government</a></li>\n",
       "<!-- UpdateTopNavLinks_OnlineServices_v1 -->\n",
       "<li><a href=\"/City-Services\">City Services</a></li>\n",
       "<!-- UpdateTopNavLinks_Directory_v1 -->\n",
       "<li><a href=\"/Directory\">Directory</a></li>\n",
       "</ul></div>\n",
       "</div>\n",
       "</nav>\n",
       "<!-- SEARCH COMPONENT START - 3 of 4 -->\n",
       "<form class=\"collapse denver-body-search hidden-xl\" onsubmit=\"return searchResult('/content/denvergov/en/city-of-denver-home/search-results.html',$(this));\">\n",
       "<input id=\"searchForm\" name=\"q\" placeholder=\"Search\" type=\"text\" value=\"\"/>\n",
       "<i class=\"fa fa-search fa-2x\" onclick=\"searchResult('/content/denvergov/en/city-of-denver-home/search-results.html',$(this).parent());\"></i>\n",
       "</form>\n",
       "<!-- SEARCH COMPONENT END -->\n",
       "</div>\n",
       "</header>\n",
       "<!-- SPACER FOR AGENCY NAV & SEARCH STARTS HERE - - - - - - - - - - - - - - - - - - - - - - - - - - -  - - - - - - - - -  -->\n",
       "<div aria-hidden=\"true\" class=\"denver-header-spacer noindex\">\n",
       "<!-- SEARCH COMPONENT START - 4 of 4 -->\n",
       "<form class=\"collapse denver-body-search hidden-md hidden-lg\">\n",
       "<label class=\"hidden\" for=\"small-search2\">Search</label>\n",
       "<input id=\"small-search2\" type=\"search\"/>\n",
       "</form>\n",
       "<!-- SEARCH COMPONENT END -->\n",
       "</div>\n",
       "<!-- SPACER FOR AGENCY NAV & SEARCH  ENDS HERE - - - - - - - - - - - - - - - - - - - - - - - - - - -  - - - - - - - - -  -->\n",
       "<!-- GLOBAL HEADER ENDS HERE - - - - - - - - - - - - - - - - - - - - - - - - - - -  - - - - - - - - -  -->\n",
       "<a id=\"skip_to_content\" name=\"skip_to_content\" tabindex=\"-1\"></a>\n",
       "<section class=\"container denver-content-area-master\">\n",
       "<div class=\"content parsys\"><div class=\"columnControl parsys 67-33 section\">\n",
       "<div class=\"2columns-6733-1\">\n",
       "<div class=\"column parsys right-pad-lrg\"><div class=\"row denver-news-mainrow section\">\n",
       "<div class=\"col-sm-8 denver-news-mainarea\">\n",
       "<p class=\"denver-news-results-count\">Results 1 - 6 of 189</p>\n",
       "<!-- start article list -->\n",
       "<div class=\"denver-news-list-item\">\n",
       "<p class=\"denver-news-list-date\">Dec 11, 2020</p>\n",
       "<h3><a href=\"/content/denvergov/en/covid-19/coronavirus-news/december-2020/denver-covid-19-status-update.html\">Denver COVID-19 Status Update</a></h3>\n",
       "<p>The City and County of Denver today provided a COVID-19 status update regarding vaccine distribution planning,  community testing sites,  financial relief for business and workers, Denver county's current status, and Denver's COVID-19 response timeline.</p>\n",
       "<div style=\"clear:both;\"></div>\n",
       "</div>\n",
       "<div class=\"denver-news-list-item\">\n",
       "<p class=\"denver-news-list-date\">Dec 10, 2020</p>\n",
       "<h3><a href=\"/content/denvergov/en/denver-department-of-finance/newsroom/2020/City_Saves_On_Debt_Refinance_ElevateDenverIssuance.html\">City Saves Over $60 Million from Better Denver Bonds Refunding  and Closes on the Elevate Denver Fourth Issuance</a></h3>\n",
       "<p>– Denver locked in more than $60 million of net present value savings when it closed on Series 2020A-B General Obligation Bonds, which coupled a strategic refunding to secure a lower interest rate on outstanding Better Denver Bonds with a $170 million fourth issuance of the Elevate Denver Bond Program.</p>\n",
       "<div style=\"clear:both;\"></div>\n",
       "</div>\n",
       "<div class=\"denver-news-list-item\">\n",
       "<p class=\"denver-news-list-date\">Dec 10, 2020</p>\n",
       "<h3><a href=\"/content/denvergov/en/denver-department-of-finance/newsroom/2020/City_Deploys_Additional_4MillionDollars_COVID-19_Emergency_Funds.html\">City Deploys Additional $4 Million in COVID-19 Emergency Funds to Support Residents, Workers, Small Businesses</a></h3>\n",
       "<p>The City and County of Denver will release an additional $4 million in COVID-19 emergency funds to support residents, workers, and businesses negatively impacted by COVID-19. The city’s COVID-19 Emergency Special Revenue Fund (SRF) will be the funding source after being reimbursed for eligible expenses covered by federal Coronavirus Relief Fund (CRF) dollars.</p>\n",
       "<div style=\"clear:both;\"></div>\n",
       "</div>\n",
       "<div class=\"denver-news-list-item\">\n",
       "<p class=\"denver-news-list-date\">Dec 10, 2020</p>\n",
       "<h3><a href=\"/content/denvergov/en/mayors-office/newsroom/2020/city-deploys-additional--4-million-in-covid-19-emergency-funds-t.html\">City Deploys Additional $4 Million in COVID-19 Emergency Funds to Support Residents, Workers, Small Businesses</a></h3>\n",
       "<p>The City and County of Denver will release an additional $4 million in COVID-19 emergency funds to support residents, workers and businesses negatively impacted by COVID-19. </p>\n",
       "<div style=\"clear:both;\"></div>\n",
       "</div>\n",
       "<div class=\"denver-news-list-item\">\n",
       "<p class=\"denver-news-list-date\">Dec 10, 2020</p>\n",
       "<h3><a href=\"/content/denvergov/en/denver-city-council/news/2020/week-of-december-14--2020-meeting-schedule-and-agendas.html\">Week of December 14, 2020 Meeting Schedule and Agendas</a></h3>\n",
       "<div style=\"clear:both;\"></div>\n",
       "</div>\n",
       "<div class=\"denver-news-list-item\">\n",
       "<p class=\"denver-news-list-date\">Dec 10, 2020</p>\n",
       "<h3><a href=\"/content/denvergov/en/elevate-denver/News/2020/city-saves-over--60-million-from-better-denver-bonds-refunding-a.html\">City Saves Over $60 Million from Better Denver Bonds Refunding and Closes on the Elevate Denver Fourth Issuance</a></h3>\n",
       "<p>Denver locked in more than $60 million of net present value savings when it closed on Series 2020A-B General Obligation Bonds, which coupled a strategic refunding to secure a lower interest rate on outstanding Better Denver Bonds with a $170 million fourth issuance of the Elevate Denver Bond Program.</p>\n",
       "<div style=\"clear:both;\"></div>\n",
       "</div>\n",
       "<!-- end article list, start pagination links -->\n",
       "<div class=\"denver-news-pagination\">\n",
       "<ul class=\"pagination pagination-lg\">\n",
       "<li class=\"disabled\">\n",
       "<a href=\"/content/denvergov/en/city-of-denver-home/news.html.html\">«</a>\n",
       "</li>\n",
       "<li class=\"active\"><a href=\"/content/denvergov/en/city-of-denver-home/news.html@page=1.html\">1</a></li>\n",
       "<li><a href=\"/content/denvergov/en/city-of-denver-home/news.html@page=2.html\">2</a></li>\n",
       "<li><a href=\"/content/denvergov/en/city-of-denver-home/news.html@page=3.html\">3</a></li>\n",
       "<li><a href=\"/content/denvergov/en/city-of-denver-home/news.html@page=4.html\">4</a></li>\n",
       "<li><a href=\"/content/denvergov/en/city-of-denver-home/news.html@page=5.html\">5</a></li>\n",
       "<li><a href=\"/content/denvergov/en/city-of-denver-home/news.html@page=6.html\">6</a></li>\n",
       "<li><a href=\"/content/denvergov/en/city-of-denver-home/news.html@page=7.html\">7</a></li>\n",
       "<li><a href=\"/content/denvergov/en/city-of-denver-home/news.html@page=8.html\">8</a></li>\n",
       "<li><a href=\"/content/denvergov/en/city-of-denver-home/news.html@page=9.html\">9</a></li>\n",
       "<li><a href=\"/content/denvergov/en/city-of-denver-home/news.html@page=1.html\">10</a></li>\n",
       "<li class=\"\">\n",
       "<a href=\"/content/denvergov/en/city-of-denver-home/news.html@page=2.html\">»</a>\n",
       "</li>\n",
       "</ul>\n",
       "</div>\n",
       "</div>\n",
       "<div class=\"col-sm-4 denver-news-sidebar\">\n",
       "<div class=\"denver-news-archive-area\">\n",
       "<p class=\"denver-news-archive-links\">\n",
       "</p>\n",
       "</div>\n",
       "</div>\n",
       "</div>\n",
       "</div>\n",
       "\n",
       "        \n",
       "      </div>\n",
       "<div class=\"2columns-6733-2\">\n",
       "<div class=\"column parsys\"><div class=\"rawtext section\">\n",
       "<p></p><div class=\"google-translate\">\n",
       "<div class=\"translate-text\">\n",
       "<strong>Translate This Page</strong>\n",
       "</div>\n",
       "<div id=\"google_translate_element\"></div>\n",
       "<p></p>\n",
       "</div><style>\n",
       ".google-translate {clear:both;overflow:hidden;margin-bottom:20px;}\n",
       ".goog-te-gadget {position:relative;top:-4px;}\n",
       ".goog-te-gadget select {margin-left: 6px!important;}\n",
       ".goog-te-gadget > div {display:block!important;}\n",
       ".goog-te-gadget span a {font-size:0!important;}\n",
       ".goog-te-gadget img {width: auto; display: inherit;position: relative;top: -2px;}\n",
       "\n",
       "#google_translate_element {float:left;}\n",
       ".translate-text {float:left;margin-right:8px;position:relative;}\n",
       "\n",
       "</style>\n",
       "<script type=\"text/javascript\">\n",
       "function googleTranslateElementInit() {\n",
       "  new google.translate.TranslateElement({pageLanguage: 'en', layout: google.translate.TranslateElement.FloatPosition.TOP_LEFT}, 'google_translate_element');\n",
       "}\n",
       "\n",
       "\n",
       "</script>\n",
       "<script src=\"//translate.google.com/translate_a/element.js?cb=googleTranslateElementInit\" type=\"text/javascript\"></script>\n",
       "</div>\n",
       "<div class=\"rawtext section\">\n",
       "<p></p><div id=\"fb-root\"></div>\n",
       "<script>(function(d, s, id) {\n",
       "  var js, fjs = d.getElementsByTagName(s)[0];\n",
       "  if (d.getElementById(id)) return;\n",
       "  js = d.createElement(s); js.id = id;\n",
       "  js.src = \"//connect.facebook.net/en_US/sdk.js#xfbml=1&version=v2.4\";\n",
       "  fjs.parentNode.insertBefore(js, fjs);\n",
       "}(document, 'script', 'facebook-jssdk'));</script>\n",
       "<p></p><p></p><div class=\"fb-page\" data-adapt-container-width=\"true\" data-height=\"1000\" data-hide-cover=\"false\" data-href=\"https://www.facebook.com/CityandCountyofDenver\" data-show-facepile=\"false\" data-small-header=\"false\" data-tabs=\"timeline\"><div class=\"fb-xfbml-parse-ignore\"><blockquote cite=\"https://www.facebook.com/CityandCountyofDenver\"><a href=\"https://www.facebook.com/CityandCountyofDenver\">City and County of Denver</a></blockquote></div></div>\n",
       "</div>\n",
       "</div>\n",
       "\n",
       "        \n",
       "      </div>\n",
       "<div style=\"clear: both;\"></div>\n",
       "</div>\n",
       "</div>\n",
       "</section>\n",
       "<footer class=\"denver-footer noindex\" role=\"contentinfo\">\n",
       "<div class=\"footer parbase\">\n",
       "<div class=\"container social-bar\">\n",
       "<div class=\"col-xs-6 col-sm-9 social-bar\">\n",
       "<ul class=\"social-icons center-block\">\n",
       "<li>\n",
       "<a alt=\"Facebook\" aria-label=\"Facebook\" class=\"facebook\" href=\"http://www.facebook.com/CityandCountyofDenver\" target=\"_blank\" title=\"Facebook\">\n",
       "<i aria-hidden=\"true\" class=\"fa fa-facebook\">\n",
       "</i>\n",
       "<span class=\"hidden\">Facebook</span>\n",
       "</a>\n",
       "</li>\n",
       "<li>\n",
       "<a alt=\"Youtube\" aria-label=\"Youtube\" class=\"youtube\" href=\"https://www.youtube.com/user/CityandCountyDenver\" target=\"_blank\" title=\"Youtube\">\n",
       "<i aria-hidden=\"true\" class=\"fa fa-youtube\">\n",
       "</i>\n",
       "<span class=\"hidden\">Youtube</span>\n",
       "</a>\n",
       "</li>\n",
       "<li>\n",
       "<a alt=\"Flickr\" aria-label=\"Flickr\" class=\"flickr\" href=\"https://www.flickr.com/photos/80202894@N07/\" target=\"_blank\" title=\"Flickr\">\n",
       "<i aria-hidden=\"true\" class=\"fa fa-flickr\">\n",
       "</i>\n",
       "<span class=\"hidden\">Flickr</span>\n",
       "</a>\n",
       "</li>\n",
       "<li>\n",
       "<a alt=\"Twitter\" aria-label=\"Twitter\" class=\"twitter\" href=\"https://twitter.com/cityofdenver\" target=\"_blank\" title=\"Twitter\">\n",
       "<i aria-hidden=\"true\" class=\"fa fa-twitter\">\n",
       "</i>\n",
       "<span class=\"hidden\">Twitter</span>\n",
       "</a>\n",
       "</li>\n",
       "<li>\n",
       "<a alt=\"Instagram\" aria-label=\"Instagram\" class=\"instagram\" href=\"https://www.instagram.com/therealcityofdenver/\" target=\"_blank\" title=\"Instagram\">\n",
       "<i aria-hidden=\"true\" class=\"fa fa-instagram\">\n",
       "</i>\n",
       "<span class=\"hidden\">Instagram</span>\n",
       "</a>\n",
       "</li>\n",
       "</ul>\n",
       "</div>\n",
       "<div class=\"col-xs-6 col-sm-3 text-center pocketgov\">\n",
       "<a href=\"https://www.denvergov.org/pocketgov\">\n",
       "<span class=\"pocketgov-logo center-block\">\n",
       "<span class=\"pocketgov-name\">\n",
       "                    pocketgov \n",
       "                </span>\n",
       "<span class=\"pocketgov-denver\">\n",
       "                    denver\n",
       "                </span>\n",
       "</span>\n",
       "</a>\n",
       "</div>\n",
       "</div>\n",
       "<div class=\"footer-copy text-center\">\n",
       "<div class=\"container\">\n",
       "<div class=\"row\">\n",
       "<article class=\"col-xs-4 col-sm-4 col-md-4 text-center footer-content\">\n",
       "<a href=\"/content/denvergov/en/city-of-denver-home/online-services-center.html\" title=\"ONLINE SERVICES\">\n",
       "<h5><img alt=\"ONLINE SERVICES\" class=\"appImgIcon\" src=\"/content/dam/denvergov/Portals/footer/apps.png\"/>ONLINE SERVICES</h5>\n",
       "</a>\n",
       "</article>\n",
       "<article class=\"col-xs-4 col-sm-4 col-md-4 text-center footer-content\">\n",
       "<a href=\"https://www.denvergov.org/opendata\" title=\"OPEN DATA\">\n",
       "<h5><img alt=\"OPEN DATA\" class=\"appImgIcon\" src=\"/content/dam/denvergov/Portals/footer/database.png\"/>OPEN DATA</h5>\n",
       "</a>\n",
       "</article>\n",
       "<article class=\"col-xs-4 col-sm-4 col-md-4 text-center footer-content\">\n",
       "<a href=\"/content/denvergov/en/city-of-denver-home/a-to-z-departments-and-services.html\" title=\"A - Z SERVICES\">\n",
       "<h5><img alt=\"A - Z SERVICES\" class=\"appImgIcon\" src=\"/content/dam/denvergov/Portals/footer/atoz.png\"/>A - Z SERVICES</h5>\n",
       "</a>\n",
       "</article>\n",
       "</div>\n",
       "<div class=\"row\">\n",
       "<div class=\"footer-copyright\">\n",
       "<p>\n",
       "                    © Copyright 2020 City and County of Denver\n",
       "                    \n",
       "                        \n",
       "                            | <a href=\"https://www.denvergov.org/jobs\">Jobs</a>\n",
       "                        \n",
       "                    \n",
       "                        \n",
       "                            | <a href=\"/content/denvergov/en/city-of-denver-home/terms-of-use.html\">Terms of Use</a>\n",
       "                        \n",
       "                    \n",
       "                        \n",
       "                            | <a href=\"/content/denvergov/en/city-of-denver-home/privacy-policy.html\">Privacy &amp; Security Policy</a>\n",
       "                        \n",
       "                    \n",
       "                        \n",
       "                            | <a href=\"/content/denvergov/en/city-of-denver-home/cora.html\">Open Records Policy (CORA)</a>\n",
       "                        \n",
       "                    \n",
       "                        \n",
       "                            | <a href=\"/content/denvergov/en/city-of-denver-home/accessibility.html\">Accessibility</a>\n",
       "</p>\n",
       "</div>\n",
       "</div>\n",
       "</div>\n",
       "</div>\n",
       "</div>\n",
       "</footer>\n",
       "<script src=\"/etc.clientlibs/clientlibs/granite/jquery-ui.min.js\" type=\"text/javascript\"></script>\n",
       "<script src=\"/etc.clientlibs/denvergov/clientlibs/libraries.min.js\" type=\"text/javascript\"></script>\n",
       "<script src=\"/etc.clientlibs/denvergov/clientlibs/components.min.js\" type=\"text/javascript\"></script>\n",
       "<!-- search Form -->\n",
       "<script>\n",
       "    function searchResult(searchURL, obj){\n",
       "        window.location.href = searchURL + \"?\" + $.param({ q : obj.find('input').val() });\n",
       "        return false;\n",
       "    }\n",
       "\n",
       "    $(document).ready(function() {\n",
       "       $('input[type=search], input[type=text]').placeholder();\n",
       "    });\n",
       "</script>\n",
       "<!-- Analytics -->\n",
       "<script type=\"text/javascript\">_satellite.pageBottom();</script>\n",
       "<div class=\"cloudservices servicecomponents\"><div class=\"cloudservice generictracker\">\n",
       "<script type=\"text/javascript\">\n",
       "    (function(i,s,o,g,r,a,m){i['GoogleAnalyticsObject']=r;i[r]=i[r]||function(){\n",
       "  (i[r].q=i[r].q||[]).push(arguments)},i[r].l=1*new Date();a=s.createElement(o),\n",
       "  m=s.getElementsByTagName(o)[0];a.async=1;a.src=g;m.parentNode.insertBefore(a,m)\n",
       "  })(window,document,'script','//www.google-analytics.com/analytics.js','ga');\n",
       "\n",
       "  ga('create', 'UA-1920922-11', 'auto');\n",
       "  ga('send', 'pageview');\n",
       "    </script>\n",
       "</div>\n",
       "</div>\n",
       "</body>\n",
       "</html>"
      ]
     },
     "execution_count": 6,
     "metadata": {},
     "output_type": "execute_result"
    }
   ],
   "source": [
    "soup"
   ]
  },
  {
   "cell_type": "code",
   "execution_count": 7,
   "id": "fc809291",
   "metadata": {},
   "outputs": [],
   "source": [
    "# we want the <div class=\"denver-news-list-item\"> line\n",
    "divs = soup.find_all('div', {'class': 'denver-news-list-item'})"
   ]
  },
  {
   "cell_type": "code",
   "execution_count": 8,
   "id": "82fc78c0",
   "metadata": {},
   "outputs": [
    {
     "data": {
      "text/plain": [
       "<div class=\"denver-news-list-item\">\n",
       "<p class=\"denver-news-list-date\">Dec 11, 2020</p>\n",
       "<h3><a href=\"/content/denvergov/en/covid-19/coronavirus-news/december-2020/denver-covid-19-status-update.html\">Denver COVID-19 Status Update</a></h3>\n",
       "<p>The City and County of Denver today provided a COVID-19 status update regarding vaccine distribution planning,  community testing sites,  financial relief for business and workers, Denver county's current status, and Denver's COVID-19 response timeline.</p>\n",
       "<div style=\"clear:both;\"></div>\n",
       "</div>"
      ]
     },
     "execution_count": 8,
     "metadata": {},
     "output_type": "execute_result"
    }
   ],
   "source": [
    "divs[0]"
   ]
  },
  {
   "cell_type": "code",
   "execution_count": 9,
   "id": "3d797f1b",
   "metadata": {},
   "outputs": [
    {
     "data": {
      "text/plain": [
       "6"
      ]
     },
     "execution_count": 9,
     "metadata": {},
     "output_type": "execute_result"
    }
   ],
   "source": [
    "len(divs)"
   ]
  },
  {
   "cell_type": "code",
   "execution_count": 10,
   "id": "efa43dd2",
   "metadata": {},
   "outputs": [
    {
     "data": {
      "text/plain": [
       "'\\nDec 10, 2020\\nCity Saves Over $60 Million from Better Denver Bonds Refunding  and Closes on the Elevate Denver Fourth Issuance\\n– Denver locked in more than $60 million of net present value savings when it closed on Series 2020A-B General Obligation Bonds, which coupled a strategic refunding to secure a lower interest rate on outstanding Better Denver Bonds with a $170 million fourth issuance of the Elevate Denver Bond Program.\\n\\n'"
      ]
     },
     "execution_count": 10,
     "metadata": {},
     "output_type": "execute_result"
    }
   ],
   "source": [
    "divs[1].text"
   ]
  },
  {
   "cell_type": "code",
   "execution_count": 11,
   "id": "a3d5aeb8",
   "metadata": {},
   "outputs": [
    {
     "data": {
      "text/plain": [
       "<p class=\"denver-news-list-date\">Dec 10, 2020</p>"
      ]
     },
     "execution_count": 11,
     "metadata": {},
     "output_type": "execute_result"
    }
   ],
   "source": [
    "divs[2].find('p', {'class': 'denver-news-list-date'})"
   ]
  },
  {
   "cell_type": "code",
   "execution_count": 12,
   "id": "d275dcd6",
   "metadata": {},
   "outputs": [
    {
     "data": {
      "text/plain": [
       "'Dec 10, 2020'"
      ]
     },
     "execution_count": 12,
     "metadata": {},
     "output_type": "execute_result"
    }
   ],
   "source": [
    "divs[2].find('p', {'class': 'denver-news-list-date'}).text"
   ]
  },
  {
   "cell_type": "code",
   "execution_count": 13,
   "id": "f6ee67a3",
   "metadata": {},
   "outputs": [],
   "source": [
    "import pandas as pd"
   ]
  },
  {
   "cell_type": "code",
   "execution_count": 14,
   "id": "bc8afebb",
   "metadata": {},
   "outputs": [
    {
     "data": {
      "text/plain": [
       "Timestamp('2020-12-10 00:00:00')"
      ]
     },
     "execution_count": 14,
     "metadata": {},
     "output_type": "execute_result"
    }
   ],
   "source": [
    "pd.to_datetime(divs[2].find('p', {'class': 'denver-news-list-date'}).text)"
   ]
  },
  {
   "cell_type": "code",
   "execution_count": 15,
   "id": "a92788c9",
   "metadata": {},
   "outputs": [
    {
     "data": {
      "text/plain": [
       "12"
      ]
     },
     "execution_count": 15,
     "metadata": {},
     "output_type": "execute_result"
    }
   ],
   "source": [
    "pd.to_datetime(divs[2].find('p', {'class': 'denver-news-list-date'}).text).month"
   ]
  },
  {
   "cell_type": "code",
   "execution_count": 16,
   "id": "a8e89a1f",
   "metadata": {},
   "outputs": [
    {
     "data": {
      "text/plain": [
       "10"
      ]
     },
     "execution_count": 16,
     "metadata": {},
     "output_type": "execute_result"
    }
   ],
   "source": [
    "pd.to_datetime(divs[2].find('p', {'class': 'denver-news-list-date'}).text).day"
   ]
  },
  {
   "cell_type": "code",
   "execution_count": 17,
   "id": "679a2c3c",
   "metadata": {},
   "outputs": [
    {
     "data": {
      "text/plain": [
       "2020"
      ]
     },
     "execution_count": 17,
     "metadata": {},
     "output_type": "execute_result"
    }
   ],
   "source": [
    "pd.to_datetime(divs[2].find('p', {'class': 'denver-news-list-date'}).text).year"
   ]
  },
  {
   "cell_type": "code",
   "execution_count": 18,
   "id": "e7a22626",
   "metadata": {},
   "outputs": [],
   "source": [
    "# next we want the link and the title\n",
    "BASE_URL = 'https://denvergov.org'"
   ]
  },
  {
   "cell_type": "code",
   "execution_count": 19,
   "id": "ee3d68ed",
   "metadata": {},
   "outputs": [
    {
     "data": {
      "text/plain": [
       "<a href=\"/content/denvergov/en/covid-19/coronavirus-news/december-2020/denver-covid-19-status-update.html\">Denver COVID-19 Status Update</a>"
      ]
     },
     "execution_count": 19,
     "metadata": {},
     "output_type": "execute_result"
    }
   ],
   "source": [
    "divs[0].find('a')"
   ]
  },
  {
   "cell_type": "code",
   "execution_count": 20,
   "id": "53e53e4f",
   "metadata": {},
   "outputs": [
    {
     "data": {
      "text/plain": [
       "'Denver COVID-19 Status Update'"
      ]
     },
     "execution_count": 20,
     "metadata": {},
     "output_type": "execute_result"
    }
   ],
   "source": [
    "divs[0].find('a').text"
   ]
  },
  {
   "cell_type": "code",
   "execution_count": 21,
   "id": "a0db423a",
   "metadata": {},
   "outputs": [
    {
     "data": {
      "text/plain": [
       "'/content/denvergov/en/covid-19/coronavirus-news/december-2020/denver-covid-19-status-update.html'"
      ]
     },
     "execution_count": 21,
     "metadata": {},
     "output_type": "execute_result"
    }
   ],
   "source": [
    "divs[0].find('a').get('href')"
   ]
  },
  {
   "cell_type": "code",
   "execution_count": 22,
   "id": "5bd53c76",
   "metadata": {},
   "outputs": [
    {
     "name": "stdout",
     "output_type": "stream",
     "text": [
      "https://denvergov.org/content/denvergov/en/covid-19/coronavirus-news/december-2020/denver-covid-19-status-update.html\n"
     ]
    }
   ],
   "source": [
    "url = BASE_URL + divs[0].find('a').get('href')\n",
    "print(url)"
   ]
  },
  {
   "cell_type": "code",
   "execution_count": 23,
   "id": "f2b03056",
   "metadata": {},
   "outputs": [],
   "source": [
    "for d in divs:\n",
    "    date = pd.to_datetime(d.find('p', {'class': 'denver-news-list-date'}).text)\n",
    "    link = d.find('a')\n",
    "    href = link.get('href')\n",
    "    title = link.text\n",
    "    url = BASE_URL + href"
   ]
  },
  {
   "cell_type": "code",
   "execution_count": 24,
   "id": "6306fef6",
   "metadata": {},
   "outputs": [
    {
     "name": "stdout",
     "output_type": "stream",
     "text": [
      "Title: City Saves Over $60 Million from Better Denver Bonds Refunding and Closes on the Elevate Denver Fourth Issuance \n",
      "Date: 2020-12-10 00:00:00 \n",
      "url: https://denvergov.org/content/denvergov/en/elevate-denver/News/2020/city-saves-over--60-million-from-better-denver-bonds-refunding-a.html\n"
     ]
    }
   ],
   "source": [
    "print(f'Title: {title} \\nDate: {date} \\nurl: {url}')"
   ]
  },
  {
   "cell_type": "code",
   "execution_count": 25,
   "id": "d887e6e4",
   "metadata": {},
   "outputs": [
    {
     "name": "stdout",
     "output_type": "stream",
     "text": [
      "https://www.denvergov.org/content/denvergov/en/city-of-denver-home/news.html@page=1.html\n",
      "https://www.denvergov.org/content/denvergov/en/city-of-denver-home/news.html@page=2.html\n",
      "https://www.denvergov.org/content/denvergov/en/city-of-denver-home/news.html@page=3.html\n",
      "https://www.denvergov.org/content/denvergov/en/city-of-denver-home/news.html@page=4.html\n",
      "https://www.denvergov.org/content/denvergov/en/city-of-denver-home/news.html@page=5.html\n",
      "https://www.denvergov.org/content/denvergov/en/city-of-denver-home/news.html@page=6.html\n",
      "https://www.denvergov.org/content/denvergov/en/city-of-denver-home/news.html@page=7.html\n",
      "https://www.denvergov.org/content/denvergov/en/city-of-denver-home/news.html@page=8.html\n",
      "https://www.denvergov.org/content/denvergov/en/city-of-denver-home/news.html@page=9.html\n",
      "https://www.denvergov.org/content/denvergov/en/city-of-denver-home/news.html@page=10.html\n",
      "https://www.denvergov.org/content/denvergov/en/city-of-denver-home/news.html@page=11.html\n",
      "https://www.denvergov.org/content/denvergov/en/city-of-denver-home/news.html@page=12.html\n",
      "https://www.denvergov.org/content/denvergov/en/city-of-denver-home/news.html@page=13.html\n",
      "https://www.denvergov.org/content/denvergov/en/city-of-denver-home/news.html@page=14.html\n",
      "https://www.denvergov.org/content/denvergov/en/city-of-denver-home/news.html@page=15.html\n",
      "https://www.denvergov.org/content/denvergov/en/city-of-denver-home/news.html@page=16.html\n",
      "https://www.denvergov.org/content/denvergov/en/city-of-denver-home/news.html@page=17.html\n",
      "https://www.denvergov.org/content/denvergov/en/city-of-denver-home/news.html@page=18.html\n",
      "https://www.denvergov.org/content/denvergov/en/city-of-denver-home/news.html@page=19.html\n",
      "https://www.denvergov.org/content/denvergov/en/city-of-denver-home/news.html@page=20.html\n",
      "https://www.denvergov.org/content/denvergov/en/city-of-denver-home/news.html@page=21.html\n",
      "https://www.denvergov.org/content/denvergov/en/city-of-denver-home/news.html@page=22.html\n",
      "https://www.denvergov.org/content/denvergov/en/city-of-denver-home/news.html@page=23.html\n",
      "https://www.denvergov.org/content/denvergov/en/city-of-denver-home/news.html@page=24.html\n",
      "https://www.denvergov.org/content/denvergov/en/city-of-denver-home/news.html@page=25.html\n",
      "https://www.denvergov.org/content/denvergov/en/city-of-denver-home/news.html@page=26.html\n",
      "https://www.denvergov.org/content/denvergov/en/city-of-denver-home/news.html@page=27.html\n",
      "https://www.denvergov.org/content/denvergov/en/city-of-denver-home/news.html@page=28.html\n",
      "https://www.denvergov.org/content/denvergov/en/city-of-denver-home/news.html@page=29.html\n",
      "https://www.denvergov.org/content/denvergov/en/city-of-denver-home/news.html@page=30.html\n"
     ]
    }
   ],
   "source": [
    "# to see other pages, add '?page=2', for page 2 for example\n",
    "for i in range(1,31):\n",
    "    #print('https://www.denvergov.org/content/denvergov/en/city-of-denver-home/news.html?page={}'.format(i))\n",
    "    print('https://www.denvergov.org/content/denvergov/en/city-of-denver-home/news.html@page={}.html'.format(i))"
   ]
  },
  {
   "cell_type": "code",
   "execution_count": 26,
   "id": "84bf8897",
   "metadata": {},
   "outputs": [],
   "source": [
    "from pymongo import MongoClient\n",
    "from tqdm import tqdm_notebook\n",
    "import tqdm"
   ]
  },
  {
   "cell_type": "code",
   "execution_count": 27,
   "id": "c24ee967",
   "metadata": {},
   "outputs": [
    {
     "name": "stderr",
     "output_type": "stream",
     "text": [
      "C:\\Users\\jerem\\AppData\\Local\\Temp\\ipykernel_14180\\1572958945.py:6: TqdmDeprecationWarning: This function will be removed in tqdm==5.0.0\n",
      "Please use `tqdm.notebook.tqdm` instead of `tqdm.tqdm_notebook`\n",
      "  for i in tqdm_notebook(range(1, 31)):\n"
     ]
    },
    {
     "data": {
      "application/vnd.jupyter.widget-view+json": {
       "model_id": "185cb8fe8c1641cc970acc4613124d6d",
       "version_major": 2,
       "version_minor": 0
      },
      "text/plain": [
       "  0%|          | 0/30 [00:00<?, ?it/s]"
      ]
     },
     "metadata": {},
     "output_type": "display_data"
    }
   ],
   "source": [
    "client = MongoClient()\n",
    "db = client['news']\n",
    "coll = db['denver']\n",
    "\n",
    "\n",
    "for i in tqdm_notebook(range(1, 31)):\n",
    "    #if (i == 3):\n",
    "    #    break\n",
    "    \n",
    "    lync = 'https://www.denvergov.org/content/denvergov/en/city-of-denver-home/news.html@page={}.html'.format(i)\n",
    "    res = req.get(lync)\n",
    "    soup = bs(res.content)\n",
    "    divs = soup.find_all('div', {'class': 'denver-news-list-item'})\n",
    "    \n",
    "    for d in divs:\n",
    "        date = pd.to_datetime(d.find('p', {'class': 'denver-news-list-date'}).text)\n",
    "        link = d.find('a')\n",
    "        href = link.get('href')\n",
    "        title = link.text\n",
    "        url = BASE_URL + href\n",
    "        \n",
    "        coll.insert_one({'date': date,\n",
    "                        'link': url,\n",
    "                        'title': title})\n",
    "        \n",
    "client.close()"
   ]
  },
  {
   "cell_type": "code",
   "execution_count": 28,
   "id": "64fb4688",
   "metadata": {},
   "outputs": [
    {
     "name": "stdout",
     "output_type": "stream",
     "text": [
      "{'_id': ObjectId('62a8293b98386ecfd4059eab'),\n",
      " 'date': datetime.datetime(2020, 12, 11, 0, 0),\n",
      " 'link': 'https://denvergov.org/content/denvergov/en/covid-19/coronavirus-news/december-2020/denver-covid-19-status-update.html',\n",
      " 'title': 'Denver COVID-19 Status Update'}\n"
     ]
    }
   ],
   "source": [
    "from pprint import pprint\n",
    "\n",
    "client = MongoClient()\n",
    "db = client['news']\n",
    "coll = db['denver']\n",
    "\n",
    "pprint(coll.find_one())"
   ]
  },
  {
   "cell_type": "code",
   "execution_count": null,
   "id": "20eeb000",
   "metadata": {},
   "outputs": [],
   "source": []
  },
  {
   "cell_type": "code",
   "execution_count": null,
   "id": "cd47b386",
   "metadata": {},
   "outputs": [],
   "source": []
  },
  {
   "cell_type": "markdown",
   "id": "84428637",
   "metadata": {},
   "source": [
    "## Week 6 Assignment - Scraping From Colorado Department of Public Health and Environment"
   ]
  },
  {
   "cell_type": "markdown",
   "id": "48537943",
   "metadata": {},
   "source": [
    "Now we will start the assignment after successfully completing the lab! For this assignment, I chose to scrape data from the CDPHE website, or Colorado Department of Public Health and Environment. It has a lot of articles related to COVID, and a similar structure as the lab, so it seemed like it could be a good candidate for web scraping. I will choose to scrape the title of the article and the link of the article, for all ~22 pages of the Press Release section of the website."
   ]
  },
  {
   "cell_type": "code",
   "execution_count": 29,
   "id": "870cfc9b",
   "metadata": {},
   "outputs": [],
   "source": [
    "#first, test some formatting\n",
    "res = req.get('https://cdphe.colorado.gov/category/press-release')"
   ]
  },
  {
   "cell_type": "code",
   "execution_count": 30,
   "id": "7f18eaa7",
   "metadata": {},
   "outputs": [
    {
     "data": {
      "text/plain": [
       "<!DOCTYPE html>\n",
       "\n",
       "<html dir=\"ltr\" lang=\"en\" prefix=\"content: http://purl.org/rss/1.0/modules/content/  dc: http://purl.org/dc/terms/  foaf: http://xmlns.com/foaf/0.1/  og: http://ogp.me/ns#  rdfs: http://www.w3.org/2000/01/rdf-schema#  schema: http://schema.org/  sioc: http://rdfs.org/sioc/ns#  sioct: http://rdfs.org/sioc/types#  skos: http://www.w3.org/2004/02/skos/core#  xsd: http://www.w3.org/2001/XMLSchema# \">\n",
       "<head>\n",
       "<script src=\"https://use.typekit.net/vvp7pty.js\"></script>\n",
       "<script>try{Typekit.load({ async: true });}catch(e){}</script>\n",
       "<meta charset=\"utf-8\"/><script type=\"text/javascript\">(window.NREUM||(NREUM={})).init={privacy:{cookies_enabled:false},ajax:{deny_list:[\"gov-bam.nr-data.net\"]}};(window.NREUM||(NREUM={})).loader_config={xpid:\"VQABUVRSDBAFUVVVBwMPUA==\",licenseKey:\"6ac1f040bb\",applicationID:\"55470286\"};window.NREUM||(NREUM={}),__nr_require=function(t,e,n){function r(n){if(!e[n]){var i=e[n]={exports:{}};t[n][0].call(i.exports,function(e){var i=t[n][1][e];return r(i||e)},i,i.exports)}return e[n].exports}if(\"function\"==typeof __nr_require)return __nr_require;for(var i=0;i<n.length;i++)r(n[i]);return r}({1:[function(t,e,n){function r(t){try{s.console&&console.log(t)}catch(e){}}var i,o=t(\"ee\"),a=t(27),s={};try{i=localStorage.getItem(\"__nr_flags\").split(\",\"),console&&\"function\"==typeof console.log&&(s.console=!0,i.indexOf(\"dev\")!==-1&&(s.dev=!0),i.indexOf(\"nr_dev\")!==-1&&(s.nrDev=!0))}catch(c){}s.nrDev&&o.on(\"internal-error\",function(t){r(t.stack)}),s.dev&&o.on(\"fn-err\",function(t,e,n){r(n.stack)}),s.dev&&(r(\"NR AGENT IN DEVELOPMENT MODE\"),r(\"flags: \"+a(s,function(t,e){return t}).join(\", \")))},{}],2:[function(t,e,n){function r(t,e,n,r,s){try{p?p-=1:i(s||new UncaughtException(t,e,n),!0)}catch(f){try{o(\"ierr\",[f,c.now(),!0])}catch(d){}}return\"function\"==typeof u&&u.apply(this,a(arguments))}function UncaughtException(t,e,n){this.message=t||\"Uncaught error with no additional information\",this.sourceURL=e,this.line=n}function i(t,e){var n=e?null:c.now();o(\"err\",[t,n])}var o=t(\"handle\"),a=t(28),s=t(\"ee\"),c=t(\"loader\"),f=t(\"gos\"),u=window.onerror,d=!1,l=\"nr@seenError\";if(!c.disabled){var p=0;c.features.err=!0,t(1),window.onerror=r;try{throw new Error}catch(h){\"stack\"in h&&(t(10),t(9),\"addEventListener\"in window&&t(6),c.xhrWrappable&&t(11),d=!0)}s.on(\"fn-start\",function(t,e,n){d&&(p+=1)}),s.on(\"fn-err\",function(t,e,n){d&&!n[l]&&(f(n,l,function(){return!0}),this.thrown=!0,i(n))}),s.on(\"fn-end\",function(){d&&!this.thrown&&p>0&&(p-=1)}),s.on(\"internal-error\",function(t){o(\"ierr\",[t,c.now(),!0])})}},{}],3:[function(t,e,n){var r=t(\"loader\");r.disabled||(r.features.ins=!0)},{}],4:[function(t,e,n){function r(){var t=new PerformanceObserver(function(t,e){var n=t.getEntries();s(v,[n])});try{t.observe({entryTypes:[\"resource\"]})}catch(e){}}function i(t){if(s(v,[window.performance.getEntriesByType(w)]),window.performance[\"c\"+l])try{window.performance[h](m,i,!1)}catch(t){}else try{window.performance[h](\"webkit\"+m,i,!1)}catch(t){}}function o(t){}if(window.performance&&window.performance.timing&&window.performance.getEntriesByType){var a=t(\"ee\"),s=t(\"handle\"),c=t(10),f=t(9),u=t(5),d=t(19),l=\"learResourceTimings\",p=\"addEventListener\",h=\"removeEventListener\",m=\"resourcetimingbufferfull\",v=\"bstResource\",w=\"resource\",g=\"-start\",y=\"-end\",x=\"fn\"+g,b=\"fn\"+y,E=\"bstTimer\",R=\"pushState\",S=t(\"loader\");if(!S.disabled){S.features.stn=!0,t(8),\"addEventListener\"in window&&t(6);var O=NREUM.o.EV;a.on(x,function(t,e){var n=t[0];n instanceof O&&(this.bstStart=S.now())}),a.on(b,function(t,e){var n=t[0];n instanceof O&&s(\"bst\",[n,e,this.bstStart,S.now()])}),c.on(x,function(t,e,n){this.bstStart=S.now(),this.bstType=n}),c.on(b,function(t,e){s(E,[e,this.bstStart,S.now(),this.bstType])}),f.on(x,function(){this.bstStart=S.now()}),f.on(b,function(t,e){s(E,[e,this.bstStart,S.now(),\"requestAnimationFrame\"])}),a.on(R+g,function(t){this.time=S.now(),this.startPath=location.pathname+location.hash}),a.on(R+y,function(t){s(\"bstHist\",[location.pathname+location.hash,this.startPath,this.time])}),u()?(s(v,[window.performance.getEntriesByType(\"resource\")]),r()):p in window.performance&&(window.performance[\"c\"+l]?window.performance[p](m,i,d(!1)):window.performance[p](\"webkit\"+m,i,d(!1))),document[p](\"scroll\",o,d(!1)),document[p](\"keypress\",o,d(!1)),document[p](\"click\",o,d(!1))}}},{}],5:[function(t,e,n){e.exports=function(){return\"PerformanceObserver\"in window&&\"function\"==typeof window.PerformanceObserver}},{}],6:[function(t,e,n){function r(t){for(var e=t;e&&!e.hasOwnProperty(u);)e=Object.getPrototypeOf(e);e&&i(e)}function i(t){s.inPlace(t,[u,d],\"-\",o)}function o(t,e){return t[1]}var a=t(\"ee\").get(\"events\"),s=t(\"wrap-function\")(a,!0),c=t(\"gos\"),f=XMLHttpRequest,u=\"addEventListener\",d=\"removeEventListener\";e.exports=a,\"getPrototypeOf\"in Object?(r(document),r(window),r(f.prototype)):f.prototype.hasOwnProperty(u)&&(i(window),i(f.prototype)),a.on(u+\"-start\",function(t,e){var n=t[1];if(null!==n&&(\"function\"==typeof n||\"object\"==typeof n)){var r=c(n,\"nr@wrapped\",function(){function t(){if(\"function\"==typeof n.handleEvent)return n.handleEvent.apply(n,arguments)}var e={object:t,\"function\":n}[typeof n];return e?s(e,\"fn-\",null,e.name||\"anonymous\"):n});this.wrapped=t[1]=r}}),a.on(d+\"-start\",function(t){t[1]=this.wrapped||t[1]})},{}],7:[function(t,e,n){function r(t,e,n){var r=t[e];\"function\"==typeof r&&(t[e]=function(){var t=o(arguments),e={};i.emit(n+\"before-start\",[t],e);var a;e[m]&&e[m].dt&&(a=e[m].dt);var s=r.apply(this,t);return i.emit(n+\"start\",[t,a],s),s.then(function(t){return i.emit(n+\"end\",[null,t],s),t},function(t){throw i.emit(n+\"end\",[t],s),t})})}var i=t(\"ee\").get(\"fetch\"),o=t(28),a=t(27);e.exports=i;var s=window,c=\"fetch-\",f=c+\"body-\",u=[\"arrayBuffer\",\"blob\",\"json\",\"text\",\"formData\"],d=s.Request,l=s.Response,p=s.fetch,h=\"prototype\",m=\"nr@context\";d&&l&&p&&(a(u,function(t,e){r(d[h],e,f),r(l[h],e,f)}),r(s,\"fetch\",c),i.on(c+\"end\",function(t,e){var n=this;if(e){var r=e.headers.get(\"content-length\");null!==r&&(n.rxSize=r),i.emit(c+\"done\",[null,e],n)}else i.emit(c+\"done\",[t],n)}))},{}],8:[function(t,e,n){var r=t(\"ee\").get(\"history\"),i=t(\"wrap-function\")(r);e.exports=r;var o=window.history&&window.history.constructor&&window.history.constructor.prototype,a=window.history;o&&o.pushState&&o.replaceState&&(a=o),i.inPlace(a,[\"pushState\",\"replaceState\"],\"-\")},{}],9:[function(t,e,n){var r=t(\"ee\").get(\"raf\"),i=t(\"wrap-function\")(r),o=\"equestAnimationFrame\";e.exports=r,i.inPlace(window,[\"r\"+o,\"mozR\"+o,\"webkitR\"+o,\"msR\"+o],\"raf-\"),r.on(\"raf-start\",function(t){t[0]=i(t[0],\"fn-\")})},{}],10:[function(t,e,n){function r(t,e,n){t[0]=a(t[0],\"fn-\",null,n)}function i(t,e,n){this.method=n,this.timerDuration=isNaN(t[1])?0:+t[1],t[0]=a(t[0],\"fn-\",this,n)}var o=t(\"ee\").get(\"timer\"),a=t(\"wrap-function\")(o),s=\"setTimeout\",c=\"setInterval\",f=\"clearTimeout\",u=\"-start\",d=\"-\";e.exports=o,a.inPlace(window,[s,\"setImmediate\"],s+d),a.inPlace(window,[c],c+d),a.inPlace(window,[f,\"clearImmediate\"],f+d),o.on(c+u,r),o.on(s+u,i)},{}],11:[function(t,e,n){function r(t,e){d.inPlace(e,[\"onreadystatechange\"],\"fn-\",s)}function i(){var t=this,e=u.context(t);t.readyState>3&&!e.resolved&&(e.resolved=!0,u.emit(\"xhr-resolved\",[],t)),d.inPlace(t,y,\"fn-\",s)}function o(t){x.push(t),m&&(E?E.then(a):w?w(a):(R=-R,S.data=R))}function a(){for(var t=0;t<x.length;t++)r([],x[t]);x.length&&(x=[])}function s(t,e){return e}function c(t,e){for(var n in t)e[n]=t[n];return e}t(6);var f=t(\"ee\"),u=f.get(\"xhr\"),d=t(\"wrap-function\")(u),l=t(19),p=NREUM.o,h=p.XHR,m=p.MO,v=p.PR,w=p.SI,g=\"readystatechange\",y=[\"onload\",\"onerror\",\"onabort\",\"onloadstart\",\"onloadend\",\"onprogress\",\"ontimeout\"],x=[];e.exports=u;var b=window.XMLHttpRequest=function(t){var e=new h(t);try{u.emit(\"new-xhr\",[e],e),e.addEventListener(g,i,l(!1))}catch(n){try{u.emit(\"internal-error\",[n])}catch(r){}}return e};if(c(h,b),b.prototype=h.prototype,d.inPlace(b.prototype,[\"open\",\"send\"],\"-xhr-\",s),u.on(\"send-xhr-start\",function(t,e){r(t,e),o(e)}),u.on(\"open-xhr-start\",r),m){var E=v&&v.resolve();if(!w&&!v){var R=1,S=document.createTextNode(R);new m(a).observe(S,{characterData:!0})}}else f.on(\"fn-end\",function(t){t[0]&&t[0].type===g||a()})},{}],12:[function(t,e,n){function r(t){if(!s(t))return null;var e=window.NREUM;if(!e.loader_config)return null;var n=(e.loader_config.accountID||\"\").toString()||null,r=(e.loader_config.agentID||\"\").toString()||null,f=(e.loader_config.trustKey||\"\").toString()||null;if(!n||!r)return null;var h=p.generateSpanId(),m=p.generateTraceId(),v=Date.now(),w={spanId:h,traceId:m,timestamp:v};return(t.sameOrigin||c(t)&&l())&&(w.traceContextParentHeader=i(h,m),w.traceContextStateHeader=o(h,v,n,r,f)),(t.sameOrigin&&!u()||!t.sameOrigin&&c(t)&&d())&&(w.newrelicHeader=a(h,m,v,n,r,f)),w}function i(t,e){return\"00-\"+e+\"-\"+t+\"-01\"}function o(t,e,n,r,i){var o=0,a=\"\",s=1,c=\"\",f=\"\";return i+\"@nr=\"+o+\"-\"+s+\"-\"+n+\"-\"+r+\"-\"+t+\"-\"+a+\"-\"+c+\"-\"+f+\"-\"+e}function a(t,e,n,r,i,o){var a=\"btoa\"in window&&\"function\"==typeof window.btoa;if(!a)return null;var s={v:[0,1],d:{ty:\"Browser\",ac:r,ap:i,id:t,tr:e,ti:n}};return o&&r!==o&&(s.d.tk=o),btoa(JSON.stringify(s))}function s(t){return f()&&c(t)}function c(t){var e=!1,n={};if(\"init\"in NREUM&&\"distributed_tracing\"in NREUM.init&&(n=NREUM.init.distributed_tracing),t.sameOrigin)e=!0;else if(n.allowed_origins instanceof Array)for(var r=0;r<n.allowed_origins.length;r++){var i=h(n.allowed_origins[r]);if(t.hostname===i.hostname&&t.protocol===i.protocol&&t.port===i.port){e=!0;break}}return e}function f(){return\"init\"in NREUM&&\"distributed_tracing\"in NREUM.init&&!!NREUM.init.distributed_tracing.enabled}function u(){return\"init\"in NREUM&&\"distributed_tracing\"in NREUM.init&&!!NREUM.init.distributed_tracing.exclude_newrelic_header}function d(){return\"init\"in NREUM&&\"distributed_tracing\"in NREUM.init&&NREUM.init.distributed_tracing.cors_use_newrelic_header!==!1}function l(){return\"init\"in NREUM&&\"distributed_tracing\"in NREUM.init&&!!NREUM.init.distributed_tracing.cors_use_tracecontext_headers}var p=t(24),h=t(14);e.exports={generateTracePayload:r,shouldGenerateTrace:s}},{}],13:[function(t,e,n){function r(t){var e=this.params,n=this.metrics;if(!this.ended){this.ended=!0;for(var r=0;r<l;r++)t.removeEventListener(d[r],this.listener,!1);return e.protocol&&\"data\"===e.protocol?void g(\"Ajax/DataUrl/Excluded\"):void(e.aborted||(n.duration=a.now()-this.startTime,this.loadCaptureCalled||4!==t.readyState?null==e.status&&(e.status=0):o(this,t),n.cbTime=this.cbTime,s(\"xhr\",[e,n,this.startTime,this.endTime,\"xhr\"],this)))}}function i(t,e){var n=c(e),r=t.params;r.hostname=n.hostname,r.port=n.port,r.protocol=n.protocol,r.host=n.hostname+\":\"+n.port,r.pathname=n.pathname,t.parsedOrigin=n,t.sameOrigin=n.sameOrigin}function o(t,e){t.params.status=e.status;var n=v(e,t.lastSize);if(n&&(t.metrics.rxSize=n),t.sameOrigin){var r=e.getResponseHeader(\"X-NewRelic-App-Data\");r&&(t.params.cat=r.split(\", \").pop())}t.loadCaptureCalled=!0}var a=t(\"loader\");if(a.xhrWrappable&&!a.disabled){var s=t(\"handle\"),c=t(14),f=t(12).generateTracePayload,u=t(\"ee\"),d=[\"load\",\"error\",\"abort\",\"timeout\"],l=d.length,p=t(\"id\"),h=t(20),m=t(18),v=t(15),w=t(19),g=t(21).recordSupportability,y=NREUM.o.REQ,x=window.XMLHttpRequest;a.features.xhr=!0,t(11),t(7),u.on(\"new-xhr\",function(t){var e=this;e.totalCbs=0,e.called=0,e.cbTime=0,e.end=r,e.ended=!1,e.xhrGuids={},e.lastSize=null,e.loadCaptureCalled=!1,e.params=this.params||{},e.metrics=this.metrics||{},t.addEventListener(\"load\",function(n){o(e,t)},w(!1)),h&&(h>34||h<10)||t.addEventListener(\"progress\",function(t){e.lastSize=t.loaded},w(!1))}),u.on(\"open-xhr-start\",function(t){this.params={method:t[0]},i(this,t[1]),this.metrics={}}),u.on(\"open-xhr-end\",function(t,e){\"loader_config\"in NREUM&&\"xpid\"in NREUM.loader_config&&this.sameOrigin&&e.setRequestHeader(\"X-NewRelic-ID\",NREUM.loader_config.xpid);var n=f(this.parsedOrigin);if(n){var r=!1;n.newrelicHeader&&(e.setRequestHeader(\"newrelic\",n.newrelicHeader),r=!0),n.traceContextParentHeader&&(e.setRequestHeader(\"traceparent\",n.traceContextParentHeader),n.traceContextStateHeader&&e.setRequestHeader(\"tracestate\",n.traceContextStateHeader),r=!0),r&&(this.dt=n)}}),u.on(\"send-xhr-start\",function(t,e){var n=this.metrics,r=t[0],i=this;if(n&&r){var o=m(r);o&&(n.txSize=o)}this.startTime=a.now(),this.listener=function(t){try{\"abort\"!==t.type||i.loadCaptureCalled||(i.params.aborted=!0),(\"load\"!==t.type||i.called===i.totalCbs&&(i.onloadCalled||\"function\"!=typeof e.onload))&&i.end(e)}catch(n){try{u.emit(\"internal-error\",[n])}catch(r){}}};for(var s=0;s<l;s++)e.addEventListener(d[s],this.listener,w(!1))}),u.on(\"xhr-cb-time\",function(t,e,n){this.cbTime+=t,e?this.onloadCalled=!0:this.called+=1,this.called!==this.totalCbs||!this.onloadCalled&&\"function\"==typeof n.onload||this.end(n)}),u.on(\"xhr-load-added\",function(t,e){var n=\"\"+p(t)+!!e;this.xhrGuids&&!this.xhrGuids[n]&&(this.xhrGuids[n]=!0,this.totalCbs+=1)}),u.on(\"xhr-load-removed\",function(t,e){var n=\"\"+p(t)+!!e;this.xhrGuids&&this.xhrGuids[n]&&(delete this.xhrGuids[n],this.totalCbs-=1)}),u.on(\"xhr-resolved\",function(){this.endTime=a.now()}),u.on(\"addEventListener-end\",function(t,e){e instanceof x&&\"load\"===t[0]&&u.emit(\"xhr-load-added\",[t[1],t[2]],e)}),u.on(\"removeEventListener-end\",function(t,e){e instanceof x&&\"load\"===t[0]&&u.emit(\"xhr-load-removed\",[t[1],t[2]],e)}),u.on(\"fn-start\",function(t,e,n){e instanceof x&&(\"onload\"===n&&(this.onload=!0),(\"load\"===(t[0]&&t[0].type)||this.onload)&&(this.xhrCbStart=a.now()))}),u.on(\"fn-end\",function(t,e){this.xhrCbStart&&u.emit(\"xhr-cb-time\",[a.now()-this.xhrCbStart,this.onload,e],e)}),u.on(\"fetch-before-start\",function(t){function e(t,e){var n=!1;return e.newrelicHeader&&(t.set(\"newrelic\",e.newrelicHeader),n=!0),e.traceContextParentHeader&&(t.set(\"traceparent\",e.traceContextParentHeader),e.traceContextStateHeader&&t.set(\"tracestate\",e.traceContextStateHeader),n=!0),n}var n,r=t[1]||{};\"string\"==typeof t[0]?n=t[0]:t[0]&&t[0].url?n=t[0].url:window.URL&&t[0]&&t[0]instanceof URL&&(n=t[0].href),n&&(this.parsedOrigin=c(n),this.sameOrigin=this.parsedOrigin.sameOrigin);var i=f(this.parsedOrigin);if(i&&(i.newrelicHeader||i.traceContextParentHeader))if(\"string\"==typeof t[0]||window.URL&&t[0]&&t[0]instanceof URL){var o={};for(var a in r)o[a]=r[a];o.headers=new Headers(r.headers||{}),e(o.headers,i)&&(this.dt=i),t.length>1?t[1]=o:t.push(o)}else t[0]&&t[0].headers&&e(t[0].headers,i)&&(this.dt=i)}),u.on(\"fetch-start\",function(t,e){this.params={},this.metrics={},this.startTime=a.now(),this.dt=e,t.length>=1&&(this.target=t[0]),t.length>=2&&(this.opts=t[1]);var n,r=this.opts||{},o=this.target;if(\"string\"==typeof o?n=o:\"object\"==typeof o&&o instanceof y?n=o.url:window.URL&&\"object\"==typeof o&&o instanceof URL&&(n=o.href),i(this,n),\"data\"!==this.params.protocol){var s=(\"\"+(o&&o instanceof y&&o.method||r.method||\"GET\")).toUpperCase();this.params.method=s,this.txSize=m(r.body)||0}}),u.on(\"fetch-done\",function(t,e){if(this.endTime=a.now(),this.params||(this.params={}),\"data\"===this.params.protocol)return void g(\"Ajax/DataUrl/Excluded\");this.params.status=e?e.status:0;var n;\"string\"==typeof this.rxSize&&this.rxSize.length>0&&(n=+this.rxSize);var r={txSize:this.txSize,rxSize:n,duration:a.now()-this.startTime};s(\"xhr\",[this.params,r,this.startTime,this.endTime,\"fetch\"],this)})}},{}],14:[function(t,e,n){var r={};e.exports=function(t){if(t in r)return r[t];if(0===(t||\"\").indexOf(\"data:\"))return{protocol:\"data\"};var e=document.createElement(\"a\"),n=window.location,i={};e.href=t,i.port=e.port;var o=e.href.split(\"://\");!i.port&&o[1]&&(i.port=o[1].split(\"/\")[0].split(\"@\").pop().split(\":\")[1]),i.port&&\"0\"!==i.port||(i.port=\"https\"===o[0]?\"443\":\"80\"),i.hostname=e.hostname||n.hostname,i.pathname=e.pathname,i.protocol=o[0],\"/\"!==i.pathname.charAt(0)&&(i.pathname=\"/\"+i.pathname);var a=!e.protocol||\":\"===e.protocol||e.protocol===n.protocol,s=e.hostname===document.domain&&e.port===n.port;return i.sameOrigin=a&&(!e.hostname||s),\"/\"===i.pathname&&(r[t]=i),i}},{}],15:[function(t,e,n){function r(t,e){var n=t.responseType;return\"json\"===n&&null!==e?e:\"arraybuffer\"===n||\"blob\"===n||\"json\"===n?i(t.response):\"text\"===n||\"\"===n||void 0===n?i(t.responseText):void 0}var i=t(18);e.exports=r},{}],16:[function(t,e,n){function r(){}function i(t,e,n,r){return function(){return u.recordSupportability(\"API/\"+e+\"/called\"),o(t+e,[f.now()].concat(s(arguments)),n?null:this,r),n?void 0:this}}var o=t(\"handle\"),a=t(27),s=t(28),c=t(\"ee\").get(\"tracer\"),f=t(\"loader\"),u=t(21),d=NREUM;\"undefined\"==typeof window.newrelic&&(newrelic=d);var l=[\"setPageViewName\",\"setCustomAttribute\",\"setErrorHandler\",\"finished\",\"addToTrace\",\"inlineHit\",\"addRelease\"],p=\"api-\",h=p+\"ixn-\";a(l,function(t,e){d[e]=i(p,e,!0,\"api\")}),d.addPageAction=i(p,\"addPageAction\",!0),d.setCurrentRouteName=i(p,\"routeName\",!0),e.exports=newrelic,d.interaction=function(){return(new r).get()};var m=r.prototype={createTracer:function(t,e){var n={},r=this,i=\"function\"==typeof e;return o(h+\"tracer\",[f.now(),t,n],r),function(){if(c.emit((i?\"\":\"no-\")+\"fn-start\",[f.now(),r,i],n),i)try{return e.apply(this,arguments)}catch(t){throw c.emit(\"fn-err\",[arguments,this,t],n),t}finally{c.emit(\"fn-end\",[f.now()],n)}}}};a(\"actionText,setName,setAttribute,save,ignore,onEnd,getContext,end,get\".split(\",\"),function(t,e){m[e]=i(h,e)}),newrelic.noticeError=function(t,e){\"string\"==typeof t&&(t=new Error(t)),u.recordSupportability(\"API/noticeError/called\"),o(\"err\",[t,f.now(),!1,e])}},{}],17:[function(t,e,n){function r(t){if(NREUM.init){for(var e=NREUM.init,n=t.split(\".\"),r=0;r<n.length-1;r++)if(e=e[n[r]],\"object\"!=typeof e)return;return e=e[n[n.length-1]]}}e.exports={getConfiguration:r}},{}],18:[function(t,e,n){e.exports=function(t){if(\"string\"==typeof t&&t.length)return t.length;if(\"object\"==typeof t){if(\"undefined\"!=typeof ArrayBuffer&&t instanceof ArrayBuffer&&t.byteLength)return t.byteLength;if(\"undefined\"!=typeof Blob&&t instanceof Blob&&t.size)return t.size;if(!(\"undefined\"!=typeof FormData&&t instanceof FormData))try{return JSON.stringify(t).length}catch(e){return}}}},{}],19:[function(t,e,n){var r=!1;try{var i=Object.defineProperty({},\"passive\",{get:function(){r=!0}});window.addEventListener(\"testPassive\",null,i),window.removeEventListener(\"testPassive\",null,i)}catch(o){}e.exports=function(t){return r?{passive:!0,capture:!!t}:!!t}},{}],20:[function(t,e,n){var r=0,i=navigator.userAgent.match(/Firefox[\\/\\s](\\d+\\.\\d+)/);i&&(r=+i[1]),e.exports=r},{}],21:[function(t,e,n){function r(t,e){var n=[a,t,{name:t},e];return o(\"storeMetric\",n,null,\"api\"),n}function i(t,e){var n=[s,t,{name:t},e];return o(\"storeEventMetrics\",n,null,\"api\"),n}var o=t(\"handle\"),a=\"sm\",s=\"cm\";e.exports={constants:{SUPPORTABILITY_METRIC:a,CUSTOM_METRIC:s},recordSupportability:r,recordCustom:i}},{}],22:[function(t,e,n){function r(){return s.exists&&performance.now?Math.round(performance.now()):(o=Math.max((new Date).getTime(),o))-a}function i(){return o}var o=(new Date).getTime(),a=o,s=t(29);e.exports=r,e.exports.offset=a,e.exports.getLastTimestamp=i},{}],23:[function(t,e,n){function r(t,e){var n=t.getEntries();n.forEach(function(t){\"first-paint\"===t.name?p(\"timing\",[\"fp\",Math.floor(t.startTime)]):\"first-contentful-paint\"===t.name&&p(\"timing\",[\"fcp\",Math.floor(t.startTime)])})}function i(t,e){var n=t.getEntries();if(n.length>0){var r=n[n.length-1];if(f&&f<r.startTime)return;var i=[r],o=a({});o&&i.push(o),p(\"lcp\",i)}}function o(t){t.getEntries().forEach(function(t){t.hadRecentInput||p(\"cls\",[t])})}function a(t){var e=navigator.connection||navigator.mozConnection||navigator.webkitConnection;if(e)return e.type&&(t[\"net-type\"]=e.type),e.effectiveType&&(t[\"net-etype\"]=e.effectiveType),e.rtt&&(t[\"net-rtt\"]=e.rtt),e.downlink&&(t[\"net-dlink\"]=e.downlink),t}function s(t){if(t instanceof w&&!y){var e=Math.round(t.timeStamp),n={type:t.type};a(n),e<=h.now()?n.fid=h.now()-e:e>h.offset&&e<=Date.now()?(e-=h.offset,n.fid=h.now()-e):e=h.now(),y=!0,p(\"timing\",[\"fi\",e,n])}}function c(t){\"hidden\"===t&&(f=h.now(),p(\"pageHide\",[f]))}if(!(\"init\"in NREUM&&\"page_view_timing\"in NREUM.init&&\"enabled\"in NREUM.init.page_view_timing&&NREUM.init.page_view_timing.enabled===!1)){var f,u,d,l,p=t(\"handle\"),h=t(\"loader\"),m=t(26),v=t(19),w=NREUM.o.EV;if(\"PerformanceObserver\"in window&&\"function\"==typeof window.PerformanceObserver){u=new PerformanceObserver(r);try{u.observe({entryTypes:[\"paint\"]})}catch(g){}d=new PerformanceObserver(i);try{d.observe({entryTypes:[\"largest-contentful-paint\"]})}catch(g){}l=new PerformanceObserver(o);try{l.observe({type:\"layout-shift\",buffered:!0})}catch(g){}}if(\"addEventListener\"in document){var y=!1,x=[\"click\",\"keydown\",\"mousedown\",\"pointerdown\",\"touchstart\"];x.forEach(function(t){document.addEventListener(t,s,v(!1))})}m(c)}},{}],24:[function(t,e,n){function r(){function t(){return e?15&e[n++]:16*Math.random()|0}var e=null,n=0,r=window.crypto||window.msCrypto;r&&r.getRandomValues&&(e=r.getRandomValues(new Uint8Array(31)));for(var i,o=\"xxxxxxxx-xxxx-4xxx-yxxx-xxxxxxxxxxxx\",a=\"\",s=0;s<o.length;s++)i=o[s],\"x\"===i?a+=t().toString(16):\"y\"===i?(i=3&t()|8,a+=i.toString(16)):a+=i;return a}function i(){return a(16)}function o(){return a(32)}function a(t){function e(){return n?15&n[r++]:16*Math.random()|0}var n=null,r=0,i=window.crypto||window.msCrypto;i&&i.getRandomValues&&Uint8Array&&(n=i.getRandomValues(new Uint8Array(t)));for(var o=[],a=0;a<t;a++)o.push(e().toString(16));return o.join(\"\")}e.exports={generateUuid:r,generateSpanId:i,generateTraceId:o}},{}],25:[function(t,e,n){function r(t,e){if(!i)return!1;if(t!==i)return!1;if(!e)return!0;if(!o)return!1;for(var n=o.split(\".\"),r=e.split(\".\"),a=0;a<r.length;a++)if(r[a]!==n[a])return!1;return!0}var i=null,o=null,a=/Version\\/(\\S+)\\s+Safari/;if(navigator.userAgent){var s=navigator.userAgent,c=s.match(a);c&&s.indexOf(\"Chrome\")===-1&&s.indexOf(\"Chromium\")===-1&&(i=\"Safari\",o=c[1])}e.exports={agent:i,version:o,match:r}},{}],26:[function(t,e,n){function r(t){function e(){t(s&&document[s]?document[s]:document[o]?\"hidden\":\"visible\")}\"addEventListener\"in document&&a&&document.addEventListener(a,e,i(!1))}var i=t(19);e.exports=r;var o,a,s;\"undefined\"!=typeof document.hidden?(o=\"hidden\",a=\"visibilitychange\",s=\"visibilityState\"):\"undefined\"!=typeof document.msHidden?(o=\"msHidden\",a=\"msvisibilitychange\"):\"undefined\"!=typeof document.webkitHidden&&(o=\"webkitHidden\",a=\"webkitvisibilitychange\",s=\"webkitVisibilityState\")},{}],27:[function(t,e,n){function r(t,e){var n=[],r=\"\",o=0;for(r in t)i.call(t,r)&&(n[o]=e(r,t[r]),o+=1);return n}var i=Object.prototype.hasOwnProperty;e.exports=r},{}],28:[function(t,e,n){function r(t,e,n){e||(e=0),\"undefined\"==typeof n&&(n=t?t.length:0);for(var r=-1,i=n-e||0,o=Array(i<0?0:i);++r<i;)o[r]=t[e+r];return o}e.exports=r},{}],29:[function(t,e,n){e.exports={exists:\"undefined\"!=typeof window.performance&&window.performance.timing&&\"undefined\"!=typeof window.performance.timing.navigationStart}},{}],ee:[function(t,e,n){function r(){}function i(t){function e(t){return t&&t instanceof r?t:t?f(t,c,a):a()}function n(n,r,i,o,a){if(a!==!1&&(a=!0),!p.aborted||o){t&&a&&t(n,r,i);for(var s=e(i),c=m(n),f=c.length,u=0;u<f;u++)c[u].apply(s,r);var l=d[y[n]];return l&&l.push([x,n,r,s]),s}}function o(t,e){g[t]=m(t).concat(e)}function h(t,e){var n=g[t];if(n)for(var r=0;r<n.length;r++)n[r]===e&&n.splice(r,1)}function m(t){return g[t]||[]}function v(t){return l[t]=l[t]||i(n)}function w(t,e){p.aborted||u(t,function(t,n){e=e||\"feature\",y[n]=e,e in d||(d[e]=[])})}var g={},y={},x={on:o,addEventListener:o,removeEventListener:h,emit:n,get:v,listeners:m,context:e,buffer:w,abort:s,aborted:!1};return x}function o(t){return f(t,c,a)}function a(){return new r}function s(){(d.api||d.feature)&&(p.aborted=!0,d=p.backlog={})}var c=\"nr@context\",f=t(\"gos\"),u=t(27),d={},l={},p=e.exports=i();e.exports.getOrSetContext=o,p.backlog=d},{}],gos:[function(t,e,n){function r(t,e,n){if(i.call(t,e))return t[e];var r=n();if(Object.defineProperty&&Object.keys)try{return Object.defineProperty(t,e,{value:r,writable:!0,enumerable:!1}),r}catch(o){}return t[e]=r,r}var i=Object.prototype.hasOwnProperty;e.exports=r},{}],handle:[function(t,e,n){function r(t,e,n,r){i.buffer([t],r),i.emit(t,e,n)}var i=t(\"ee\").get(\"handle\");e.exports=r,r.ee=i},{}],id:[function(t,e,n){function r(t){var e=typeof t;return!t||\"object\"!==e&&\"function\"!==e?-1:t===window?0:a(t,o,function(){return i++})}var i=1,o=\"nr@id\",a=t(\"gos\");e.exports=r},{}],loader:[function(t,e,n){function r(){if(!O++){var t=S.info=NREUM.info,e=m.getElementsByTagName(\"script\")[0];if(setTimeout(f.abort,3e4),!(t&&t.licenseKey&&t.applicationID&&e))return f.abort();c(E,function(e,n){t[e]||(t[e]=n)});var n=a();s(\"mark\",[\"onload\",n+S.offset],null,\"api\"),s(\"timing\",[\"load\",n]);var r=m.createElement(\"script\");0===t.agent.indexOf(\"http://\")||0===t.agent.indexOf(\"https://\")?r.src=t.agent:r.src=p+\"://\"+t.agent,e.parentNode.insertBefore(r,e)}}function i(){\"complete\"===m.readyState&&o()}function o(){s(\"mark\",[\"domContent\",a()+S.offset],null,\"api\")}var a=t(22),s=t(\"handle\"),c=t(27),f=t(\"ee\"),u=t(25),d=t(17),l=t(19),p=d.getConfiguration(\"ssl\")===!1?\"http\":\"https\",h=window,m=h.document,v=\"addEventListener\",w=\"attachEvent\",g=h.XMLHttpRequest,y=g&&g.prototype,x=!1;NREUM.o={ST:setTimeout,SI:h.setImmediate,CT:clearTimeout,XHR:g,REQ:h.Request,EV:h.Event,PR:h.Promise,MO:h.MutationObserver};var b=\"\"+location,E={beacon:\"bam.nr-data.net\",errorBeacon:\"bam.nr-data.net\",agent:\"js-agent.newrelic.com/nr-1216.min.js\"},R=g&&y&&y[v]&&!/CriOS/.test(navigator.userAgent),S=e.exports={offset:a.getLastTimestamp(),now:a,origin:b,features:{},xhrWrappable:R,userAgent:u,disabled:x};if(!x){t(16),t(23),m[v]?(m[v](\"DOMContentLoaded\",o,l(!1)),h[v](\"load\",r,l(!1))):(m[w](\"onreadystatechange\",i),h[w](\"onload\",r)),s(\"mark\",[\"firstbyte\",a.getLastTimestamp()],null,\"api\");var O=0}},{}],\"wrap-function\":[function(t,e,n){function r(t,e){function n(e,n,r,c,f){function nrWrapper(){var o,a,u,l;try{a=this,o=d(arguments),u=\"function\"==typeof r?r(o,a):r||{}}catch(p){i([p,\"\",[o,a,c],u],t)}s(n+\"start\",[o,a,c],u,f);try{return l=e.apply(a,o)}catch(h){throw s(n+\"err\",[o,a,h],u,f),h}finally{s(n+\"end\",[o,a,l],u,f)}}return a(e)?e:(n||(n=\"\"),nrWrapper[l]=e,o(e,nrWrapper,t),nrWrapper)}function r(t,e,r,i,o){r||(r=\"\");var s,c,f,u=\"-\"===r.charAt(0);for(f=0;f<e.length;f++)c=e[f],s=t[c],a(s)||(t[c]=n(s,u?c+r:r,i,c,o))}function s(n,r,o,a){if(!h||e){var s=h;h=!0;try{t.emit(n,r,o,e,a)}catch(c){i([c,n,r,o],t)}h=s}}return t||(t=u),n.inPlace=r,n.flag=l,n}function i(t,e){e||(e=u);try{e.emit(\"internal-error\",t)}catch(n){}}function o(t,e,n){if(Object.defineProperty&&Object.keys)try{var r=Object.keys(t);return r.forEach(function(n){Object.defineProperty(e,n,{get:function(){return t[n]},set:function(e){return t[n]=e,e}})}),e}catch(o){i([o],n)}for(var a in t)p.call(t,a)&&(e[a]=t[a]);return e}function a(t){return!(t&&t instanceof Function&&t.apply&&!t[l])}function s(t,e){var n=e(t);return n[l]=t,o(t,n,u),n}function c(t,e,n){var r=t[e];t[e]=s(r,n)}function f(){for(var t=arguments.length,e=new Array(t),n=0;n<t;++n)e[n]=arguments[n];return e}var u=t(\"ee\"),d=t(28),l=\"nr@original\",p=Object.prototype.hasOwnProperty,h=!1;e.exports=r,e.exports.wrapFunction=s,e.exports.wrapInPlace=c,e.exports.argsToArray=f},{}]},{},[\"loader\",2,13,4,3]);</script>\n",
       "<script async=\"\" src=\"https://www.googletagmanager.com/gtag/js?id=UA-154159004-19\"></script>\n",
       "<script>window.dataLayer = window.dataLayer || [];function gtag(){dataLayer.push(arguments)};gtag(\"js\", new Date());gtag(\"set\", \"developer_id.dMDhkMT\", true);gtag(\"config\", \"UA-154159004-19\", {\"groups\":\"default\",\"anonymize_ip\":true,\"page_placeholder\":\"PLACEHOLDER_page_path\",\"allow_ad_personalization_signals\":false});</script>\n",
       "<link href=\"https://cdphe.colorado.gov/category/press-release\" rel=\"canonical\"/>\n",
       "<link href=\"https://demo.colorado.gov/sites/default/files/fb-shared-profile-image.png\" rel=\"image_src\"/>\n",
       "<meta content=\"Drupal 9 (https://www.drupal.org)\" name=\"Generator\"/>\n",
       "<meta content=\"width\" name=\"MobileOptimized\"/>\n",
       "<meta content=\"true\" name=\"HandheldFriendly\"/>\n",
       "<meta content=\"width=device-width, initial-scale=1.0\" name=\"viewport\"/>\n",
       "<link href=\"/themes/custom/ci_xy/favicon.ico\" rel=\"icon\" type=\"image/vnd.microsoft.icon\"/>\n",
       "<link href=\"https://cdphe.colorado.gov/category/press-release\" hreflang=\"en\" rel=\"alternate\"/>\n",
       "<script defer=\"\" src=\"/sites/cdphe/files/google_tag/cdphe_gtm/google_tag.script.js?rd5dsa\"></script>\n",
       "<title>Press Release | Department of Public Health &amp; Environment</title>\n",
       "<script crossorigin=\"anonymous\" src=\"https://kit.fontawesome.com/29dcdba56a.js\"></script>\n",
       "<link href=\"/sites/cdphe/files/css/css_DksLsYOUpRRUBE0q-Iaxbu-qFqUMRTeL_fxog8rin9E.css\" media=\"all\" rel=\"stylesheet\"/>\n",
       "<link href=\"/sites/cdphe/files/css/css_IeC2eAQfxnJSWhbIPlQOFVzOpMD3MeyOXrCmsKWr1Co.css\" media=\"all\" rel=\"stylesheet\"/>\n",
       "</head>\n",
       "<body class=\"path-taxonomy has-glyphicons\">\n",
       "<div class=\"site-wrapper\">\n",
       "<noscript aria-hidden=\"true\"><iframe height=\"0\" src=\"https://www.googletagmanager.com/ns.html?id=GTM-5XRTMNB\" style=\"display:none;visibility:hidden\" width=\"0\"></iframe></noscript>\n",
       "<div class=\"dialog-off-canvas-main-canvas\" data-off-canvas-main-canvas=\"\">\n",
       "<div class=\"region region-co-branding\">\n",
       "<section class=\"views-element-container block block-views block-views-blockalert-bar-block-1 clearfix\" id=\"block-views-block-alert-bar-block-1\">\n",
       "<div class=\"alert__bar--covid-19\">\n",
       "<p>Visit <a href=\"https://covid19.colorado.gov/for-coloradans/vaccine/where-can-i-get-vaccinated\">\"Where can I get vaccinated\"</a> or call 1-877-COVAXCO (1-877-268-2926) for vaccine information.</p>\n",
       "</div>\n",
       "</section>\n",
       "</div>\n",
       "<header class=\"header\">\n",
       "<a class=\"visually-hidden focusable skip-link\" href=\"#main-content\">\n",
       "    Skip to main content\n",
       "  </a>\n",
       "<div class=\"row\">\n",
       "<div class=\"container\">\n",
       "<div class=\"col-sm-7\">\n",
       "<div class=\"region region-global-header\">\n",
       "<a class=\"header__logo navbar-btn\" href=\"/\" rel=\"home\" title=\"Home\">\n",
       "<img alt=\"Home\" class=\"header__logo--image\" src=\"/sites/cdphe/files/logo.svg\"/>\n",
       "</a>\n",
       "</div>\n",
       "</div>\n",
       "<div class=\"col-sm-5\">\n",
       "<div class=\"header__search\">\n",
       "<form accept-charset=\"UTF-8\" action=\"/search\" class=\"search__form\" id=\"views-exposed-form-acquia-search-fields-search-block\" method=\"get\" role=\"search\">\n",
       "<div class=\"form-group\">\n",
       "<div class=\"input-group\">\n",
       "<label for=\"edit-search\">Search</label>\n",
       "<input class=\"search__form--input\" data-drupal-selector=\"edit-search\" id=\"edit-search\" name=\"search\" type=\"text\"/>\n",
       "<div class=\"input-group-btn\">\n",
       "<button aria-label=\"Search the website\" class=\"search__form--button js-form-submit form-submit icon-before\" data-drupal-selector=\"edit-submit-acquia-search-fields\" id=\"edit-submit-acquia-search-fields\" name=\"\" type=\"submit\" value=\"Search\"><i aria-hidden=\"true\" class=\"fa-solid fa-magnifying-glass\"></i></button>\n",
       "</div>\n",
       "</div>\n",
       "</div>\n",
       "</form>\n",
       "</div>\n",
       "</div>\n",
       "</div>\n",
       "</div>\n",
       "</header>\n",
       "<div id=\"xyBackground\">\n",
       "<div class=\"top-nav color__brand-dark-blue\">\n",
       "<nav class=\"container\">\n",
       "<nav aria-labelledby=\"block-mainnavigation-2-menu\" class=\"top--menu\" id=\"block-mainnavigation-2\">\n",
       "<ul class=\"menu sf-menu sf-main sf-horizontal sf-style-none\" id=\"superfish-main\">\n",
       "<li class=\"color__brand-dark-blue\" id=\"\"><a href=\"/home\" title=\"CDPHE homepage\">Home</a></li><li class=\"color__brand-dark-blue\" id=\"\"><a class=\"menuparent\" href=\"/about\" title=\"About CDPHE\">About CDPHE</a><ul><li class=\"color__brand-dark-blue\" id=\"\"><a href=\"/about-cdphe/leadership\" title=\"CDPHE leadership\">Leadership</a></li><li class=\"color__brand-dark-blue\" id=\"\"><a href=\"/divisions\" title=\"CDPHE divisions and offices\">Divisions</a></li><li class=\"color__brand-dark-blue\" id=\"\"><a href=\"/strategic-plan\" title=\"CDPHE's strategic plan\">Strategic plan</a></li><li class=\"color__brand-dark-blue\" id=\"\"><a href=\"/environmental-justice\">Environmental Justice</a></li><li class=\"color__brand-dark-blue\" id=\"\"><a href=\"/nondiscrimination-policy-and-procedures\">Nondiscrimination policy and procedures</a></li><li class=\"color__brand-dark-blue\" id=\"\"><a href=\"/ohe\" title=\"Office of Health Equity\">Office of Health Equity</a></li><li class=\"color__brand-dark-blue\" id=\"\"><a class=\"sf-external\" href=\"https://www.colorado.gov/cdphe-lpha\">Office of Public Health Practice, Planning, and Local Partnerships</a></li><li class=\"color__brand-dark-blue\" id=\"\"><a href=\"/about-cdphe/office-of-gun-violence-prevention\">Office of Gun Violence Prevention</a></li><li class=\"color__brand-dark-blue\" id=\"\"><a class=\"menuparent\" href=\"/emergency-preparedness-response\" title=\"Emergency preparedness and response division &amp; topics\">Emergency preparedness and response</a><ul><li class=\"color__brand-dark-blue\" id=\"\"><a href=\"/about-cdphe/emergency-preparedness-and-response/hospital-medical-surge\">Hospital medical surge</a></li></ul></li><li class=\"color__brand-dark-blue\" id=\"\"><a href=\"/payinvoice\" title=\"Payment portal\">Payment portal</a></li><li class=\"color__brand-dark-blue\" id=\"\"><a href=\"/about-cdphe/contact-us\" title=\"Contact information for CDPHE divisions &amp; services\">Contact us</a></li></ul></li><li class=\"color__brand-dark-blue\" id=\"\"><a class=\"menuparent\" href=\"/public-information\" title=\"Press releases, public records, and public notices\">Public information</a><ul><li class=\"color__brand-dark-blue\" id=\"\"><a class=\"is-active\" href=\"/category/press-release\" title=\"Press releases \">Press releases</a></li><li class=\"color__brand-dark-blue\" id=\"\"><a href=\"/public-information/public-records\" title=\"Public records and requests\">Public records and requests</a></li><li class=\"color__brand-dark-blue\" id=\"\"><a href=\"/public-notices\" title=\"Public notices\">Public notices</a></li><li class=\"color__brand-dark-blue\" id=\"\"><a href=\"/public-information/find-your-local-public-health-agency\" title=\"Find your local public health agency\">Find your local public health agency</a></li><li class=\"color__brand-dark-blue\" id=\"\"><a class=\"menuparent\" href=\"/public-information/boards-and-commissions\" title=\"Boards and Commissions\">Boards and Commissions</a><ul><li class=\"color__brand-dark-blue\" id=\"\"><a href=\"/public-information/boards-and-commissions/annual-departmental-regulatory-documents\" title=\"Annual departmental regulatory documents\">Regulatory documents</a></li><li class=\"color__brand-dark-blue\" id=\"\"><a href=\"/public-information/boards-and-commissions/all-regulations\" title=\"All regulations\">Regulations</a></li></ul></li></ul></li><li class=\"color__brand-dark-blue\" id=\"\"><a href=\"/center-for-health-and-environmental-data\" title=\"CDPHE data\">Data</a></li><li class=\"color__brand-dark-blue\" id=\"\"><a class=\"menuparent\" href=\"/health\" title=\"Health topics\">Health</a><ul><li class=\"color__brand-dark-blue\" id=\"\"><a href=\"/communicable-diseases/animal-related-diseases\" title=\"Animal-related diseases\">Animal-related diseases</a></li><li class=\"color__brand-dark-blue\" id=\"\"><a href=\"/vital-records\" title=\"Birth, death, and other vital records\">Birth, death, and other vital records</a></li><li class=\"color__brand-dark-blue\" id=\"\"><a href=\"/health/communicable-diseases\">Communicable Diseases</a></li><li class=\"color__brand-dark-blue\" id=\"\"><a href=\"/health/emergency-care\" title=\"Emergency care landing page\">Emergency care</a></li><li class=\"color__brand-dark-blue\" id=\"\"><a href=\"/foodborne-illness-outbreaks\" title=\"Foodborne illness\">Foodborne illness</a></li><li class=\"color__brand-dark-blue\" id=\"\"><a href=\"/health-facilities\" title=\"Health facilities\">Health facilities</a></li><li class=\"color__brand-dark-blue\" id=\"\"><a href=\"/influenza\" title=\"Influenza (flu)\">Influenza (flu)</a></li><li class=\"color__brand-dark-blue\" id=\"\"><a href=\"/lab\" title=\"Laboratory services\">Laboratory services</a></li><li class=\"color__brand-dark-blue\" id=\"\"><a href=\"/medicalmarijuana\" title=\"Medical marijuana\">Medical marijuana</a></li><li class=\"color__brand-dark-blue\" id=\"\"><a href=\"/health/oil-and-gas-and-your-health\" title=\"Oil and gas, and your health\">Oil and gas and your health</a></li><li class=\"color__brand-dark-blue\" id=\"\"><a class=\"menuparent\" href=\"/health/prevention-and-wellness\" title=\"Prevention and wellness\">Prevention and wellness</a><ul><li class=\"color__brand-dark-blue\" id=\"\"><a class=\"menuparent\" href=\"/health/prevention-and-wellness/babies\" title=\"Babies\">Babies</a><ul><li class=\"color__brand-dark-blue\" id=\"\"><a href=\"/infant-formula-supply\">Formula shortage resources</a></li></ul></li><li class=\"color__brand-dark-blue\" id=\"\"><a href=\"/health/prevention-and-wellness/chronic-disease-prevention\" title=\"Chronic diseases\">Chronic diseases</a></li><li class=\"color__brand-dark-blue\" id=\"\"><a href=\"/health-access-branch\">Health access</a></li><li class=\"color__brand-dark-blue\" id=\"\"><a href=\"/health/prevention-and-wellness/healthy-eating-and-active-living\" title=\"Healthy eating and active living\">Healthy eating and active living</a></li><li class=\"color__brand-dark-blue\" id=\"\"><a href=\"/immunization\" title=\"Immunization\">Immunization</a></li><li class=\"color__brand-dark-blue\" id=\"\"><a href=\"/health/prevention-and-wellness/injury-prevention\" title=\"Injury prevention\">Injury prevention</a></li><li class=\"color__brand-dark-blue\" id=\"\"><a href=\"/marijuana\" title=\"Marijuana\">Marijuana</a></li><li class=\"color__brand-dark-blue\" id=\"\"><a href=\"/mchcolorado\" title=\"Maternal and child health\">Maternal and child health</a></li><li class=\"color__brand-dark-blue\" id=\"\"><a href=\"/health/prevention-and-wellness/nurturing-families-and-communities\" title=\"Nurturing families and communities\">Nurturing families and communities</a></li><li class=\"color__brand-dark-blue\" id=\"\"><a href=\"/nutrition-services\" title=\"Nutrition services\">Nutrition services</a></li><li class=\"color__brand-dark-blue\" id=\"\"><a href=\"/obesity\" title=\"Obesity\">Obesity</a></li><li class=\"color__brand-dark-blue\" id=\"\"><a href=\"/health/prevention-and-wellness/oral-health\" title=\"Oral health\">Oral health</a></li><li class=\"color__brand-dark-blue\" id=\"\"><a href=\"/office-of-suicide-prevention\" title=\"Suicide prevention\">Suicide prevention</a></li><li class=\"color__brand-dark-blue\" id=\"\"><a href=\"/health/prevention-and-wellness/smoking-and-tobacco\" title=\"Smoking and tobacco\">Tobacco</a></li><li class=\"color__brand-dark-blue\" id=\"\"><a href=\"/health/prevention-and-wellness/womens-health\" title=\"Women's health\">Women's health</a></li><li class=\"color__brand-dark-blue\" id=\"\"><a href=\"/health/prevention-and-wellness/sexual-health\">Sexual and reproductive health</a></li></ul></li><li class=\"color__brand-dark-blue\" id=\"\"><a href=\"/sti-hiv\" title=\"Sexually transmitted infections and HIV\">Sexually transmitted infections and HIV</a></li><li class=\"color__brand-dark-blue\" id=\"\"><a href=\"/tb\" title=\"Tuberculosis (TB)\">Tuberculosis (TB)</a></li></ul></li><li class=\"color__brand-dark-blue\" id=\"\"><a class=\"menuparent\" href=\"/environment\" title=\"Environment topics\">Environment</a><ul><li class=\"color__brand-dark-blue\" id=\"\"><a href=\"/environment/air-pollution-control\" title=\"Air pollution\">Air pollution</a></li><li class=\"color__brand-dark-blue\" id=\"\"><a href=\"/pfas\" title=\"Chemicals from firefighting foam &amp; other sources\">Chemicals from firefighting foam &amp; other sources</a></li><li class=\"color__brand-dark-blue\" id=\"\"><a href=\"/child-care\" title=\"Child care and school regulations\">Child care and school regulations</a></li><li class=\"color__brand-dark-blue\" id=\"\"><a href=\"/cc-nd\" title=\"Commerce City - North Denver Environmental Information\">Commerce City - North Denver</a></li><li class=\"color__brand-dark-blue\" id=\"\"><a href=\"/environment/environmental-agriculture-program\" title=\"Environmental agriculture\">Environmental agriculture</a></li><li class=\"color__brand-dark-blue\" id=\"\"><a href=\"/dehs\" title=\"Environmental health and sustainability\">Environmental health and sustainability</a></li><li class=\"color__brand-dark-blue\" id=\"\"><a href=\"/environment/food-regulations\" title=\"Food safety and licensing\">Food safety and licensing</a></li><li class=\"color__brand-dark-blue\" id=\"\"><a class=\"menuparent\" href=\"/hm\" title=\"Hazardous materials and waste management\">Hazardous materials and waste management</a><ul><li class=\"color__brand-dark-blue\" id=\"\"><a href=\"/environmental-cleanup\" title=\"Environmental cleanup\">Environmental cleanup</a></li><li class=\"color__brand-dark-blue\" id=\"\"><a href=\"/hm/hazwaste\" title=\"Hazardous waste management\">Hazardous waste management</a></li><li class=\"color__brand-dark-blue\" id=\"\"><a href=\"/radiation-management\" title=\"Radiation management\">Radiation control program</a></li><li class=\"color__brand-dark-blue\" id=\"\"><a href=\"/solidwaste\" title=\"Solid waste management\">Solid waste management</a></li></ul></li><li class=\"color__brand-dark-blue\" id=\"\"><a href=\"/lab\" title=\"Laboratory services\">Laboratory services</a></li><li class=\"color__brand-dark-blue\" id=\"\"><a href=\"/lead\" title=\"Lead safety\">Lead safety</a></li><li class=\"color__brand-dark-blue\" id=\"\"><a href=\"/mercury\">Mercury</a></li><li class=\"color__brand-dark-blue\" id=\"\"><a href=\"/environment/sustainability-programs\" title=\"Sustainability programs\">Sustainability programs</a></li><li class=\"color__brand-dark-blue\" id=\"\"><a class=\"menuparent\" href=\"/environment/toxicology-and-environmental-epidemiology\" title=\"Toxicology and environmental epidemiology\">Toxicology and environmental epidemiology</a><ul><li class=\"color__brand-dark-blue\" id=\"\"><a href=\"/enviroscreen\">Colorado EnviroScreen</a></li></ul></li><li class=\"color__brand-dark-blue\" id=\"\"><a class=\"menuparent\" href=\"/water-quality\" title=\"Water quality\">Water quality</a><ul><li class=\"color__brand-dark-blue\" id=\"\"><a class=\"menuparent\" href=\"/clean-water\" title=\"Clean water\">Clean water</a><ul><li class=\"color__brand-dark-blue\" id=\"\"><a href=\"/water-quality-permits\">Water Quality - Permits</a></li></ul></li><li class=\"color__brand-dark-blue\" id=\"\"><a href=\"/dwinfo\" title=\"Drinking water – consumers\">Drinking water – consumers</a></li><li class=\"color__brand-dark-blue\" id=\"\"><a href=\"/drinking-water\" title=\"Drinking water – public water systems\">Drinking water – public water systems</a></li><li class=\"color__brand-dark-blue\" id=\"\"><a href=\"/water-quality-records-center-and-requests\" title=\"Search records\">Search records</a></li><li class=\"color__brand-dark-blue\" id=\"\"><a href=\"/water-quality-engagement\">Engage with the Water Quality Control Division</a></li><li class=\"color__brand-dark-blue\" id=\"\"><a href=\"/glu\">Funding - Grants and Loans</a></li></ul></li></ul></li><li class=\"color__brand-dark-blue\" id=\"\"><a href=\"/payinvoice\">Payment portal</a></li><li class=\"color__brand-dark-blue\" id=\"\"><a href=\"/report-concern-emergency\" title=\"Report a concern or emergency\">Report a concern or emergency</a></li>\n",
       "</ul>\n",
       "</nav>\n",
       "</nav>\n",
       "</div>\n",
       "<div class=\"main-container container js-quickedit-main-content\" role=\"main\">\n",
       "<div class=\"row\">\n",
       "<div class=\"col-sm-12\">\n",
       "<div class=\"region region-header\">\n",
       "<h1>Press Release</h1>\n",
       "</div>\n",
       "</div>\n",
       "<section class=\"col-sm-12\">\n",
       "<div class=\"highlighted\"> <div class=\"region region-highlighted\">\n",
       "<div class=\"hidden\" data-drupal-messages-fallback=\"\"></div>\n",
       "</div>\n",
       "</div>\n",
       "<a id=\"main-content\"></a>\n",
       "<div class=\"region region-content\">\n",
       "<div class=\"views-element-container form-group\"><div class=\"view view-taxonomy-term view-id-taxonomy_term view-display-id-page_1 js-view-dom-id-50329dd68284894d3b8a2c403a6708a464c5989426224b8ca8b10f44e7563770\">\n",
       "<div class=\"view-header\">\n",
       "<div about=\"/category/press-release\">\n",
       "</div>\n",
       "</div>\n",
       "<div class=\"view-content\">\n",
       "<div class=\"views-row\">\n",
       "<article about=\"/press-release/nextcycle-colorado-to-showcase-nine-business-ideas-to-improve-recycling-in-colorado\" class=\"article teaser clearfix\" role=\"article\">\n",
       "<h2 class=\"text-2xl fw-500\">\n",
       "<a href=\"/press-release/nextcycle-colorado-to-showcase-nine-business-ideas-to-improve-recycling-in-colorado\" rel=\"bookmark\">\n",
       "<span>NextCycle Colorado to showcase nine business ideas to improve recycling in Colorado at the 2022 pitch competition  </span>\n",
       "</a>\n",
       "</h2>\n",
       "<div>\n",
       "<div class=\"field field--name-body field--type-text-with-summary field--label-hidden field--item\"><p dir=\"ltr\">BOULDER, June 9, 2022 – <a data-saferedirecturl=\"https://www.google.com/url?q=https://urldefense.proofpoint.com/v2/url?u%3Dhttps-3A__cdphe.colorado.gov_next-2Dcycle-2Dcolorado%26d%3DDwMFaQ%26c%3DsdnEM9SRGFuMt5z5w3AhsPNahmNicq64TgF1JwNR0cs%26r%3DeIRRRSwvDdZvR_DyaUata0KdQLMOtwgoiVzvOm8zvSg%26m%3Dkz-p_1lo6sPKASUn8YwNr14bfXo9ZFFpRuXkShUu9QEyMeaz18ZPXdSVM8zmDMw6%26s%3D-pl6Da4LEDJZ-FYf-q42Sa3fveFamwQp8cKu0uJ7Vhk%26e%3D&amp;source=gmail&amp;ust=1654874525951000&amp;usg=AOvVaw05iJytWVxd_v9LKVQCrfxs\" href=\"https://urldefense.proofpoint.com/v2/url?u=https-3A__cdphe.colorado.gov_next-2Dcycle&lt;/body&gt;&lt;/html&gt;\"></a></p></div>\n",
       "<ul class=\"links inline list-inline\"><li class=\"node-readmore\"><a href=\"/press-release/nextcycle-colorado-to-showcase-nine-business-ideas-to-improve-recycling-in-colorado\" hreflang=\"en\" rel=\"tag\" title=\"NextCycle Colorado to showcase nine business ideas to improve recycling in Colorado at the 2022 pitch competition  \">Read more<span class=\"visually-hidden\"> about NextCycle Colorado to showcase nine business ideas to improve recycling in Colorado at the 2022 pitch competition  </span></a></li></ul>\n",
       "</div>\n",
       "</article>\n",
       "</div>\n",
       "<div class=\"views-row\">\n",
       "<article about=\"/press-release/cdphe-to-improve-ems-services-statewide-address-disparities-in-access\" class=\"article teaser clearfix\" role=\"article\">\n",
       "<h2 class=\"text-2xl fw-500\">\n",
       "<a href=\"/press-release/cdphe-to-improve-ems-services-statewide-address-disparities-in-access\" rel=\"bookmark\">\n",
       "<span>CDPHE to improve EMS services statewide, address disparities in access</span>\n",
       "</a>\n",
       "</h2>\n",
       "<div>\n",
       "<div class=\"field field--name-body field--type-text-with-summary field--label-hidden field--item\"><p dir=\"ltr\"><strong><em>New task force will evaluate Colorado’s EMS services, financial sustainability     </em></strong></p>\n",
       "<p dir=\"ltr\">DENVER, June 7, 2022 – The Colorado Department of Public Health and Environment will begin work to improve EMS services across Colorado and oversee a task force dedicated to evaluating how to reduce disparities in access to emergency services.  </p></div>\n",
       "<ul class=\"links inline list-inline\"><li class=\"node-readmore\"><a href=\"/press-release/cdphe-to-improve-ems-services-statewide-address-disparities-in-access\" hreflang=\"en\" rel=\"tag\" title=\"CDPHE to improve EMS services statewide, address disparities in access\">Read more<span class=\"visually-hidden\"> about CDPHE to improve EMS services statewide, address disparities in access</span></a></li></ul>\n",
       "</div>\n",
       "</article>\n",
       "</div>\n",
       "<div class=\"views-row\">\n",
       "<article about=\"/press-release/new-law-to-boost-development-of-recycling-markets-in-colorado\" class=\"article teaser clearfix\" role=\"article\">\n",
       "<h2 class=\"text-2xl fw-500\">\n",
       "<a href=\"/press-release/new-law-to-boost-development-of-recycling-markets-in-colorado\" rel=\"bookmark\">\n",
       "<span>New law to boost development of recycling markets in Colorado</span>\n",
       "</a>\n",
       "</h2>\n",
       "<div>\n",
       "<div class=\"field field--name-body field--type-text-with-summary field--label-hidden field--item\"><p dir=\"ltr\">EVERGREEN, June 3, 2022 - Governor Polis today signed a law creating Colorado’s first Circular Economy Development Center, which aims to empower Colorado businesses to create products using materials that Coloradans recycle. The new law will help the Colorado Department of Public Health and Environment achieve its commitment to diverting trash away from landfills, increasing how much residents are recycling across the state. </p></div>\n",
       "<ul class=\"links inline list-inline\"><li class=\"node-readmore\"><a href=\"/press-release/new-law-to-boost-development-of-recycling-markets-in-colorado\" hreflang=\"en\" rel=\"tag\" title=\"New law to boost development of recycling markets in Colorado\">Read more<span class=\"visually-hidden\"> about New law to boost development of recycling markets in Colorado</span></a></li></ul>\n",
       "</div>\n",
       "</article>\n",
       "</div>\n",
       "<div class=\"views-row\">\n",
       "<article about=\"/press-release/state-health-department-regional-air-quality-council-mark-the-start-of-ozone\" class=\"article teaser clearfix\" role=\"article\">\n",
       "<h2 class=\"text-2xl fw-500\">\n",
       "<a href=\"/press-release/state-health-department-regional-air-quality-council-mark-the-start-of-ozone\" rel=\"bookmark\">\n",
       "<span>State health department, Regional Air Quality Council mark the start of ozone pollution season</span>\n",
       "</a>\n",
       "</h2>\n",
       "<div>\n",
       "<div class=\"field field--name-body field--type-text-with-summary field--label-hidden field--item\"><h6 dir=\"ltr\">Meteorologists share advice for ‘Ozone Action Days’</h6>\n",
       "<p dir=\"ltr\">REMOTE (June 1): The Colorado Department of Public Health and Environment is partnering with the Regional Air Quality Council to raise awareness for the 2022 ozone pollution season. During those upcoming weeks, the state health department’s meteorologists will issue daily air quality forecasts indicating if the next day is an Ozone Action Day.</p></div>\n",
       "<ul class=\"links inline list-inline\"><li class=\"node-readmore\"><a href=\"/press-release/state-health-department-regional-air-quality-council-mark-the-start-of-ozone\" hreflang=\"en\" rel=\"tag\" title=\"State health department, Regional Air Quality Council mark the start of ozone pollution season\">Read more<span class=\"visually-hidden\"> about State health department, Regional Air Quality Council mark the start of ozone pollution season</span></a></li></ul>\n",
       "</div>\n",
       "</article>\n",
       "</div>\n",
       "<div class=\"views-row\">\n",
       "<article about=\"/press-release/state-agencies-collaborate-to-help-colorado-families-through-the-infant-formula\" class=\"article teaser clearfix\" role=\"article\">\n",
       "<h2 class=\"text-2xl fw-500\">\n",
       "<a href=\"/press-release/state-agencies-collaborate-to-help-colorado-families-through-the-infant-formula\" rel=\"bookmark\">\n",
       "<span>State agencies collaborate to help Colorado families through the infant formula shortage     </span>\n",
       "</a>\n",
       "</h2>\n",
       "<div>\n",
       "<div class=\"field field--name-body field--type-text-with-summary field--label-hidden field--item\"><p dir=\"ltr\"><strong><em>Corrected version published 6/1/22</em></strong></p>\n",
       "<p dir=\"ltr\"> </p>\n",
       "<p dir=\"ltr\">DENVER, May 31, 2022 – The Colorado Department of Public Health and Environment, the Colorado Department of Human Services, and the Colorado Attorney General’s Office are collaborating to get parents critical information about the infant formula shortage and provide solutions to help families during this time. </p></div>\n",
       "<ul class=\"links inline list-inline\"><li class=\"node-readmore\"><a href=\"/press-release/state-agencies-collaborate-to-help-colorado-families-through-the-infant-formula\" hreflang=\"en\" rel=\"tag\" title=\"State agencies collaborate to help Colorado families through the infant formula shortage     \">Read more<span class=\"visually-hidden\"> about State agencies collaborate to help Colorado families through the infant formula shortage     </span></a></li></ul>\n",
       "</div>\n",
       "</article>\n",
       "</div>\n",
       "<div class=\"views-row\">\n",
       "<article about=\"/press-release/healthy-and-safe-swimming-week-is-may-23-29-2022\" class=\"article teaser clearfix\" role=\"article\">\n",
       "<h2 class=\"text-2xl fw-500\">\n",
       "<a href=\"/press-release/healthy-and-safe-swimming-week-is-may-23-29-2022\" rel=\"bookmark\">\n",
       "<span>Healthy and Safe Swimming Week is May 23-29, 2022</span>\n",
       "</a>\n",
       "</h2>\n",
       "<div>\n",
       "<div class=\"field field--name-body field--type-text-with-summary field--label-hidden field--item\"><p>State health officials share swimming safety information</p></div>\n",
       "<ul class=\"links inline list-inline\"><li class=\"node-readmore\"><a href=\"/press-release/healthy-and-safe-swimming-week-is-may-23-29-2022\" hreflang=\"en\" rel=\"tag\" title=\"Healthy and Safe Swimming Week is May 23-29, 2022\">Read more<span class=\"visually-hidden\"> about Healthy and Safe Swimming Week is May 23-29, 2022</span></a></li></ul>\n",
       "</div>\n",
       "</article>\n",
       "</div>\n",
       "<div class=\"views-row\">\n",
       "<article about=\"/press-release/colorado-department-of-public-health-and-environment-to-receive-2-million-epa-grant\" class=\"article teaser clearfix\" role=\"article\">\n",
       "<h2 class=\"text-2xl fw-500\">\n",
       "<a href=\"/press-release/colorado-department-of-public-health-and-environment-to-receive-2-million-epa-grant\" rel=\"bookmark\">\n",
       "<span>Colorado Department of Public Health and Environment to receive $2 million EPA grant to advance environmental cleanups     </span>\n",
       "</a>\n",
       "</h2>\n",
       "<div>\n",
       "<div class=\"field field--name-body field--type-text-with-summary field--label-hidden field--item\"><p dir=\"ltr\">REMOTE, May 23, 2022 – The Colorado Department of Public Health and Environment will receive a $2 million grant from the Environmental Protection Agency to advance the cleanup and revitalization of sites in Cortez, Evans, Firestone, Longmont, and Lyons.This is the first time EPA has offered statewide grants for states and tribes, and CDPHE partnered with these five communities in submitting grant proposals. </p></div>\n",
       "<ul class=\"links inline list-inline\"><li class=\"node-readmore\"><a href=\"/press-release/colorado-department-of-public-health-and-environment-to-receive-2-million-epa-grant\" hreflang=\"en\" rel=\"tag\" title=\"Colorado Department of Public Health and Environment to receive $2 million EPA grant to advance environmental cleanups     \">Read more<span class=\"visually-hidden\"> about Colorado Department of Public Health and Environment to receive $2 million EPA grant to advance environmental cleanups     </span></a></li></ul>\n",
       "</div>\n",
       "</article>\n",
       "</div>\n",
       "<div class=\"views-row\">\n",
       "<article about=\"/press-release/cdphe-to-update-covid-19-hospital-reporting-to-include-reason-for-hospitalization\" class=\"article teaser clearfix\" role=\"article\">\n",
       "<h2 class=\"text-2xl fw-500\">\n",
       "<a href=\"/press-release/cdphe-to-update-covid-19-hospital-reporting-to-include-reason-for-hospitalization\" rel=\"bookmark\">\n",
       "<span>CDPHE to update COVID-19 hospital reporting to include reason for hospitalization</span>\n",
       "</a>\n",
       "</h2>\n",
       "<div>\n",
       "<div class=\"field field--name-body field--type-text-with-summary field--label-hidden field--item\"><p>STATEWIDE (May 19, 2022) — The Colorado Department of Public Health and Environment will <a href=\"https://covid19.colorado.gov/data\" target=\"_blank\">update its hospital data</a> to improve COVID-19 reporting among hospitalizations as part of today’s regular 4 p.m. data update. In order to improve data transparency and provide the public with better hospitalization information, CDPHE requested and began receiving additional data about COVID hospitalizations from hospitals and health systems.</p></div>\n",
       "<ul class=\"links inline list-inline\"><li class=\"node-readmore\"><a href=\"/press-release/cdphe-to-update-covid-19-hospital-reporting-to-include-reason-for-hospitalization\" hreflang=\"en\" rel=\"tag\" title=\"CDPHE to update COVID-19 hospital reporting to include reason for hospitalization\">Read more<span class=\"visually-hidden\"> about CDPHE to update COVID-19 hospital reporting to include reason for hospitalization</span></a></li></ul>\n",
       "</div>\n",
       "</article>\n",
       "</div>\n",
       "<div class=\"views-row\">\n",
       "<article about=\"/press-release/new-state-of-the-art-air-monitoring-equipment-reveals-elevated-levels-of-pollution-in\" class=\"article teaser clearfix\" role=\"article\">\n",
       "<h2 class=\"text-2xl fw-500\">\n",
       "<a href=\"/press-release/new-state-of-the-art-air-monitoring-equipment-reveals-elevated-levels-of-pollution-in\" rel=\"bookmark\">\n",
       "<span>New, state-of-the-art air monitoring equipment reveals elevated levels of pollution in Weld County</span>\n",
       "</a>\n",
       "</h2>\n",
       "<div>\n",
       "<div class=\"field field--name-body field--type-text-with-summary field--label-hidden field--item\"><p dir=\"ltr\"><em>Air Pollution Control Division starting its enforcement process to get the facility operator into compliance and protect the public health of the local residents</em></p></div>\n",
       "<ul class=\"links inline list-inline\"><li class=\"node-readmore\"><a href=\"/press-release/new-state-of-the-art-air-monitoring-equipment-reveals-elevated-levels-of-pollution-in\" hreflang=\"en\" rel=\"tag\" title=\"New, state-of-the-art air monitoring equipment reveals elevated levels of pollution in Weld County\">Read more<span class=\"visually-hidden\"> about New, state-of-the-art air monitoring equipment reveals elevated levels of pollution in Weld County</span></a></li></ul>\n",
       "</div>\n",
       "</article>\n",
       "</div>\n",
       "<div class=\"views-row\">\n",
       "<article about=\"/press-release/colorado-department-of-public-health-and-environment-drafts-stringent-suncor-permit\" class=\"article teaser clearfix\" role=\"article\">\n",
       "<h2 class=\"text-2xl fw-500\">\n",
       "<a href=\"/press-release/colorado-department-of-public-health-and-environment-drafts-stringent-suncor-permit\" rel=\"bookmark\">\n",
       "<span>Colorado Department of Public Health and Environment drafts stringent Suncor permit to reduce air pollution and protect communities </span>\n",
       "</a>\n",
       "</h2>\n",
       "<div>\n",
       "<div class=\"field field--name-body field--type-text-with-summary field--label-hidden field--item\"><p dir=\"ltr\"><em>State health department is committed to hearing from the community in its feedback process</em></p></div>\n",
       "<ul class=\"links inline list-inline\"><li class=\"node-readmore\"><a href=\"/press-release/colorado-department-of-public-health-and-environment-drafts-stringent-suncor-permit\" hreflang=\"en\" rel=\"tag\" title=\"Colorado Department of Public Health and Environment drafts stringent Suncor permit to reduce air pollution and protect communities \">Read more<span class=\"visually-hidden\"> about Colorado Department of Public Health and Environment drafts stringent Suncor permit to reduce air pollution and protect communities </span></a></li></ul>\n",
       "</div>\n",
       "</article>\n",
       "</div>\n",
       "</div>\n",
       "<nav aria-labelledby=\"pagination-heading\" class=\"pager-nav text-center\" role=\"navigation\">\n",
       "<p class=\"visually-hidden\" id=\"pagination-heading\">Pagination</p>\n",
       "<ul class=\"pagination js-pager__items\">\n",
       "<li class=\"pager__item is-active active\">\n",
       "<a href=\"?page=0\" title=\"Current page\">\n",
       "<span class=\"visually-hidden\">\n",
       "              Current page\n",
       "            </span>1</a>\n",
       "</li>\n",
       "<li class=\"pager__item\">\n",
       "<a href=\"?page=1\" title=\"Go to page 2\">\n",
       "<span class=\"visually-hidden\">\n",
       "              Page\n",
       "            </span>2</a>\n",
       "</li>\n",
       "<li class=\"pager__item\">\n",
       "<a href=\"?page=2\" title=\"Go to page 3\">\n",
       "<span class=\"visually-hidden\">\n",
       "              Page\n",
       "            </span>3</a>\n",
       "</li>\n",
       "<li class=\"pager__item\">\n",
       "<a href=\"?page=3\" title=\"Go to page 4\">\n",
       "<span class=\"visually-hidden\">\n",
       "              Page\n",
       "            </span>4</a>\n",
       "</li>\n",
       "<li class=\"pager__item\">\n",
       "<a href=\"?page=4\" title=\"Go to page 5\">\n",
       "<span class=\"visually-hidden\">\n",
       "              Page\n",
       "            </span>5</a>\n",
       "</li>\n",
       "<li class=\"pager__item\">\n",
       "<a href=\"?page=5\" title=\"Go to page 6\">\n",
       "<span class=\"visually-hidden\">\n",
       "              Page\n",
       "            </span>6</a>\n",
       "</li>\n",
       "<li class=\"pager__item\">\n",
       "<a href=\"?page=6\" title=\"Go to page 7\">\n",
       "<span class=\"visually-hidden\">\n",
       "              Page\n",
       "            </span>7</a>\n",
       "</li>\n",
       "<li class=\"pager__item\">\n",
       "<a href=\"?page=7\" title=\"Go to page 8\">\n",
       "<span class=\"visually-hidden\">\n",
       "              Page\n",
       "            </span>8</a>\n",
       "</li>\n",
       "<li class=\"pager__item\">\n",
       "<a href=\"?page=8\" title=\"Go to page 9\">\n",
       "<span class=\"visually-hidden\">\n",
       "              Page\n",
       "            </span>9</a>\n",
       "</li>\n",
       "<li class=\"pager__item pager__item--next\">\n",
       "<a href=\"?page=1\" rel=\"next\" title=\"Go to next page\">\n",
       "<span class=\"visually-hidden\">Next page</span>\n",
       "<span aria-hidden=\"true\">››</span>\n",
       "</a>\n",
       "</li>\n",
       "<li class=\"pager__item pager__item--last\">\n",
       "<a href=\"?page=22\" rel=\"last\" title=\"Go to last page\">\n",
       "<span class=\"visually-hidden\">Last page</span>\n",
       "<span aria-hidden=\"true\">Last »</span>\n",
       "</a>\n",
       "</li>\n",
       "</ul>\n",
       "</nav>\n",
       "</div>\n",
       "</div>\n",
       "</div>\n",
       "</section>\n",
       "</div>\n",
       "</div>\n",
       "</div>\n",
       "<footer class=\"footer__content-footer color__brand-dark-blue\">\n",
       "<div class=\"container\">\n",
       "<section class=\"block block-block-content block-block-content8e0f4fc5-1848-4e37-892d-08efb5472307 clearfix\" id=\"block-blockmainfooter\">\n",
       "<div>\n",
       "<!-- Color Conditionals -->\n",
       "<div class=\"paragraph paragraph--type--bp-columns paragraph--view-mode--default color__brand-dark-blue\" style=\"background-color:##FFFFFF;\">\n",
       "<div class=\"paragraph__column\">\n",
       "<div class=\"paragraph__column--container-wrapper\">\n",
       "<div class=\"container\"><div class=\"paragraph--type--bp-columns__4col\">\n",
       "<div class=\"paragraph__card paragraph paragraph--type--card-map paragraph--view-mode--default\">\n",
       "<div class=\"paragraph__column\">\n",
       "<div class=\"paragraph__title\">\n",
       "<h3></h3>\n",
       "</div>\n",
       "<div class=\"field field--name-field-location field--type-string field--label-hidden field--item\"> <iframe frameborder=\"0\" height=\"250\" src=\"https://www.google.com/maps/embed?origin=mfe&amp;pb=!1m4!2m1!1s4300+Cherry+Creek+Drive+South+Denver%2C+CO+80246!5e0!6i14!5m1!1sen\" style=\"border:0\" title=\"\" width=\"100%\"></iframe>\n",
       "<p class=\"simple-gmap-link\"><a href=\"https://www.google.com/maps?q=4300+Cherry+Creek+Drive+South+Denver%2C+CO+80246&amp;hl=en&amp;t=m&amp;z=14\" target=\"_blank\">4300 Cherry Creek Drive South Denver, CO 80246</a></p>\n",
       "</div>\n",
       "</div>\n",
       "</div>\n",
       "</div><div class=\"paragraph--type--bp-columns__4col\">\n",
       "<div class=\"paragraph__card paragraph paragraph--type--card-basic card_no-border paragraph--view-mode--default\">\n",
       "<div class=\"paragraph__column\">\n",
       "<div class=\"field field--name-field-card-body field--type-text-long field--label-hidden field--item\"><p><span style=\"font-size:20px;\"><span style=\"font-family:Trebuchet MS,Helvetica,sans-serif;\">Information</span></span></p>\n",
       "<p><u><a href=\"/about\" title=\"About us\"><span style=\"color:#ffffff;\"><span style=\"font-family:Trebuchet MS,Helvetica,sans-serif;\">About CDPHE</span></span></a></u></p>\n",
       "<p><u><span style=\"font-family:Trebuchet MS,Helvetica,sans-serif;\"><a href=\"/about-cdphe/contact-us\" title=\"Contact us\"><span style=\"color:#ffffff;\">Get in touch</span></a></span></u></p>\n",
       "<p><u><a href=\"/locations\" title=\"Locations\"><span style=\"color:#ffffff;\"><span style=\"font-family:Trebuchet MS,Helvetica,sans-serif;\">Locations</span></span></a></u></p>\n",
       "<p><u><a href=\"/category/press-release\" title=\"Press releases\"><span style=\"color:#ffffff;\"><span style=\"font-family:Trebuchet MS,Helvetica,sans-serif;\">Press releases</span></span></a></u></p>\n",
       "<p><u><a href=\"/careers\" title=\"Careers\"><span style=\"color:#ffffff;\"><span style=\"font-family:Trebuchet MS,Helvetica,sans-serif;\">Careers</span></span></a></u></p>\n",
       "<p><u><a href=\"/contact-us/privacy-notice\" title=\"Privacy notice\"><span style=\"color:#ffffff;\">CDPHE privacy notice</span></a></u></p>\n",
       "<p><u><a href=\"/payinvoice\" title=\"Payment portal\"><span style=\"color:#ffffff;\">Payment portal</span></a></u></p>\n",
       "<p><u><a href=\"https://docs.google.com/forms/d/e/1FAIpQLSfKWdZWnaHT5Byvu2oH0EN0J0ik0Xhcecs6P5zn0gR8O-dN5g/viewform\"><span style=\"color:#ffffff;\"><span style=\"font-family:Trebuchet MS,Helvetica,sans-serif;\">What's wrong with this page?</span></span></a></u></p>\n",
       "<p><u><a href=\"/nondiscrimination-policy-and-procedures\" title=\"Nondiscrimination policy and procedures\"><span style=\"color:#ffffff;\"><span style=\"font-family:Trebuchet MS,Helvetica,sans-serif;\">Nondiscrimination</span></span></a></u></p>\n",
       "<p><u><a href=\"/funding-opportunities\" title=\"Funding opportunities\"><span style=\"color:#ffffff;\"><span style=\"font-family:Trebuchet MS,Helvetica,sans-serif;\">Funding opportunities</span></span></a></u></p>\n",
       "<h6><span style=\"font-family:Trebuchet MS,Helvetica,sans-serif;\"><span id=\"cke_bm_272S\" style=\"display: none;\"> </span>Connect with us</span></h6>\n",
       "<p><a alt=\"facebook icon\" class=\"btn btn-link\" href=\"https://www.facebook.com/CDPHE\"><i class=\"fa fa-icon-left fa-facebook\" style=\"word-spacing: -1em;\"> </i> </a> <a alt=\"twitter icon\" class=\"btn btn-link\" href=\"https://twitter.com/CDPHE\"><i class=\"fa fa-icon-left fa-twitter\" style=\"word-spacing: -1em;\"> </i> </a> <a alt=\"you tube icon\" class=\"btn btn-link\" href=\"https://www.youtube.com/c/CDPHE\">                   <i class=\"fa fa-icon-right fa-youtube\" style=\"word-spacing: -1em;\"> </i> </a> <a class=\"btn btn-link\" href=\"https://www.instagram.com/cdphe/?hl=en\">                   <i alt=\"instagram icon\" class=\"fa fa-icon-right fa-instagram\" style=\"word-spacing: -1em;\"> </i> </a></p>\n",
       "<p> </p>\n",
       "</div>\n",
       "</div>\n",
       "</div>\n",
       "</div><div class=\"paragraph--type--bp-columns__4col\">\n",
       "<div class=\"paragraph__card paragraph paragraph--type--card-basic card_no-border paragraph--view-mode--default\">\n",
       "<div class=\"paragraph__column\">\n",
       "<div class=\"field field--name-field-card-body field--type-text-long field--label-hidden field--item\"><p><span style=\"font-size:20px;\"><span style=\"font-family:Trebuchet MS,Helvetica,sans-serif;\">Resources</span></span></p>\n",
       "<p><u><a href=\"https://cdphe.colorado.gov/public-information/find-your-local-public-health-agency\"><span style=\"color:#ffffff;\">Find your local public health agency</span></a></u></p>\n",
       "<p><u><a href=\"https://marijuanahealthinfo.colorado.gov/\"><span style=\"color:#ffffff;\">Marijuana Health Info</span></a></u></p>\n",
       "<p><u><a href=\"https://cohealthviz.dphe.state.co.us/t/HealthInformaticsPublic/views/CoHIDLandingPage/LandingPage?iframeSizedToWindow=true&amp;:embed=y&amp;:showAppBanner=false&amp;:display_count=no&amp;:showVizHome=no\"><span style=\"color:#ffffff;\">Colorado Health Information Data Set (CoHID)</span></a></u></p>\n",
       "<p><u><a href=\"https://coepht.colorado.gov/\"><span style=\"color:#ffffff;\">Environmental Public Health Tracking</span></a></u></p>\n",
       "<p><u><a href=\"https://www.colorado.gov/cdphe-lpha\"><span style=\"color:#ffffff;\">Office of Public Health Practice, Planning, and Local Partnerships (OPHP)</span></a></u></p>\n",
       "<p><u><a href=\"https://www.colorado.gov/airquality/\"><span style=\"color:#ffffff;\">Air Quality - Monitoring, Modeling and Data</span></a></u></p>\n",
       "<p> </p>\n",
       "</div>\n",
       "</div>\n",
       "</div>\n",
       "</div><div class=\"paragraph--type--bp-columns__4col\">\n",
       "<div class=\"paragraph__card paragraph paragraph--type--card-basic card_no-border paragraph--view-mode--default\">\n",
       "<div class=\"paragraph__column\">\n",
       "<div class=\"field field--name-field-card-body field--type-text-long field--label-hidden field--item\"><div class=\"align-center embedded-entity\" data-embed-button=\"document_media_browser\" data-entity-embed-display=\"entity_reference:media_thumbnail\" data-entity-embed-display-settings=\"medium_thumbnail_250x250_\" data-entity-type=\"media\" data-entity-uuid=\"eecca0be-5f30-4030-bb97-30e088a9a7e9\" data-langcode=\"en\"> <img alt=\"Public health accreditation logo\" class=\"img-responsive\" height=\"250\" loading=\"lazy\" src=\"/sites/cdphe/files/styles/medium_thumbnail_250x250_/public/11-2020/phab.png.webp\" typeof=\"foaf:Image\" width=\"250\"/></div>\n",
       "<p> </p>\n",
       "<p class=\"text-align-center\"><a href=\"https://cdphe.colorado.gov/translation-disclaimer\">Google translate</a></p>\n",
       "</div>\n",
       "</div>\n",
       "</div>\n",
       "</div></div>\n",
       "</div>\n",
       "</div>\n",
       "</div>\n",
       "</div>\n",
       "</section>\n",
       "</div>\n",
       "<div class=\"footer__global-footer\" role=\"contentinfo\">\n",
       "<div class=\"container\">\n",
       "<div class=\"row\">\n",
       "<div class=\"col-md-9\">\n",
       "<ul class=\"footer__global-footer--links\">\n",
       "<li>© 2022 State of Colorado</li>\n",
       "<li><a href=\"https://data.colorado.gov/Government/Transparency-Online-Project-TOPS-State-Government-/rifs-n6ib\" target=\"_blank\">Transparency Online</a></li>\n",
       "<li><a href=\"https://www.colorado.gov/support\">Support</a></li>\n",
       "</ul>\n",
       "</div>\n",
       "<div class=\"col-md-3\">\n",
       "<div class=\"footer__logo\">\n",
       "<a aria-label=\"Colorado Official State Web Portal\" class=\"logo--cogov\" href=\"https://www.colorado.gov\"></a>\n",
       "</div>\n",
       "</div>\n",
       "</div>\n",
       "</div>\n",
       "</div>\n",
       "</footer>\n",
       "</div>\n",
       "<div id=\"disable_messages-debug-div\" style=\"display:none;\">\n",
       "<pre></pre>\n",
       "</div>\n",
       "</div>\n",
       "<script data-drupal-selector=\"drupal-settings-json\" type=\"application/json\">{\"path\":{\"baseUrl\":\"\\/\",\"scriptPath\":null,\"pathPrefix\":\"\",\"currentPath\":\"taxonomy\\/term\\/100013\",\"currentPathIsAdmin\":false,\"isFront\":false,\"currentLanguage\":\"en\"},\"pluralDelimiter\":\"\\u0003\",\"suppressDeprecationErrors\":true,\"google_analytics\":{\"account\":{},\"trackOutbound\":true,\"trackMailto\":true,\"trackTel\":true,\"trackDownload\":true,\"trackDownloadExtensions\":\"7z|aac|arc|arj|asf|asx|avi|bin|csv|doc(x|m)?|dot(x|m)?|exe|flv|gif|gz|gzip|hqx|jar|jpe?g|js|mp(2|3|4|e?g)|mov(ie)?|msi|msp|pdf|phps|png|ppt(x|m)?|pot(x|m)?|pps(x|m)?|ppam|sld(x|m)?|thmx|qtm?|ra(m|r)?|sea|sit|tar|tgz|torrent|txt|wav|wma|wmv|wpd|xls(x|m|b)?|xlt(x|m)|xlam|xml|z|zip\"},\"ckeditorAccordion\":{\"accordionStyle\":{\"collapseAll\":1,\"keepRowsOpen\":0}},\"bootstrap\":{\"forms_has_error_value_toggle\":1,\"popover_enabled\":1,\"popover_animation\":1,\"popover_auto_close\":1,\"popover_container\":\"body\",\"popover_content\":\"\",\"popover_delay\":\"0\",\"popover_html\":0,\"popover_placement\":\"right\",\"popover_selector\":\"\",\"popover_title\":\"\",\"popover_trigger\":\"click\",\"tooltip_enabled\":1,\"tooltip_animation\":1,\"tooltip_container\":\"body\",\"tooltip_delay\":\"0\",\"tooltip_html\":0,\"tooltip_placement\":\"auto left\",\"tooltip_selector\":\"\",\"tooltip_trigger\":\"hover\"},\"superfish\":{\"superfish-main\":{\"id\":\"superfish-main\",\"sf\":{\"animation\":{\"opacity\":\"show\",\"height\":\"show\"},\"speed\":\"fast\",\"dropShadows\":false},\"plugins\":{\"smallscreen\":{\"mode\":\"window_width\",\"breakpoint\":1025,\"title\":\"Menu\"},\"supposition\":true}}},\"user\":{\"uid\":0,\"permissionsHash\":\"abe163070613a956daa0dd80537a51a6ffd945e479909f5f2579fbf0faa052ea\"}}</script>\n",
       "<script src=\"/sites/cdphe/files/js/js_15CkY5hy5WMh0a5V_T91iC9s6lhNYC3E1L3sLeA5BHQ.js\"></script>\n",
       "<script type=\"text/javascript\">\n",
       "      /*<![CDATA[*/\n",
       "      (function() {\n",
       "      var sz = document.createElement('script'); sz.type = 'text/javascript'; sz.async = true;\n",
       "      sz.src = 'https://siteimproveanalytics.com/js/siteanalyze_77585.js';\n",
       "      var s = document.getElementsByTagName('script')[0]; s.parentNode.insertBefore(sz, s);\n",
       "      })();\n",
       "      /*]]>*/\n",
       "    </script>\n",
       "<script type=\"text/javascript\">window.NREUM||(NREUM={});NREUM.info={\"beacon\":\"gov-bam.nr-data.net\",\"licenseKey\":\"6ac1f040bb\",\"applicationID\":\"55470286\",\"transactionName\":\"YwZaNUJXCkdRB0APCVpMeQJEXwtaHxRVAQNrAFkCWFM=\",\"queueTime\":0,\"applicationTime\":41,\"atts\":\"T0FZQwpNGUk=\",\"errorBeacon\":\"gov-bam.nr-data.net\",\"agent\":\"\"}</script></body>\n",
       "</html>"
      ]
     },
     "execution_count": 30,
     "metadata": {},
     "output_type": "execute_result"
    }
   ],
   "source": [
    "soup = bs(res.content)\n",
    "soup"
   ]
  },
  {
   "cell_type": "code",
   "execution_count": 31,
   "id": "abf72cd5",
   "metadata": {},
   "outputs": [],
   "source": [
    "#at first I thought the 'views-row' class contained the necessary info, but this was incorrect. Kept here for legacy info\n",
    "divs = soup.find_all('div', {'class': 'views-row'})"
   ]
  },
  {
   "cell_type": "code",
   "execution_count": 32,
   "id": "c0bfaf1e",
   "metadata": {},
   "outputs": [
    {
     "data": {
      "text/plain": [
       "<div class=\"views-row\">\n",
       "<article about=\"/press-release/nextcycle-colorado-to-showcase-nine-business-ideas-to-improve-recycling-in-colorado\" class=\"article teaser clearfix\" role=\"article\">\n",
       "<h2 class=\"text-2xl fw-500\">\n",
       "<a href=\"/press-release/nextcycle-colorado-to-showcase-nine-business-ideas-to-improve-recycling-in-colorado\" rel=\"bookmark\">\n",
       "<span>NextCycle Colorado to showcase nine business ideas to improve recycling in Colorado at the 2022 pitch competition  </span>\n",
       "</a>\n",
       "</h2>\n",
       "<div>\n",
       "<div class=\"field field--name-body field--type-text-with-summary field--label-hidden field--item\"><p dir=\"ltr\">BOULDER, June 9, 2022 – <a data-saferedirecturl=\"https://www.google.com/url?q=https://urldefense.proofpoint.com/v2/url?u%3Dhttps-3A__cdphe.colorado.gov_next-2Dcycle-2Dcolorado%26d%3DDwMFaQ%26c%3DsdnEM9SRGFuMt5z5w3AhsPNahmNicq64TgF1JwNR0cs%26r%3DeIRRRSwvDdZvR_DyaUata0KdQLMOtwgoiVzvOm8zvSg%26m%3Dkz-p_1lo6sPKASUn8YwNr14bfXo9ZFFpRuXkShUu9QEyMeaz18ZPXdSVM8zmDMw6%26s%3D-pl6Da4LEDJZ-FYf-q42Sa3fveFamwQp8cKu0uJ7Vhk%26e%3D&amp;source=gmail&amp;ust=1654874525951000&amp;usg=AOvVaw05iJytWVxd_v9LKVQCrfxs\" href=\"https://urldefense.proofpoint.com/v2/url?u=https-3A__cdphe.colorado.gov_next-2Dcycle&lt;/body&gt;&lt;/html&gt;\"></a></p></div>\n",
       "<ul class=\"links inline list-inline\"><li class=\"node-readmore\"><a href=\"/press-release/nextcycle-colorado-to-showcase-nine-business-ideas-to-improve-recycling-in-colorado\" hreflang=\"en\" rel=\"tag\" title=\"NextCycle Colorado to showcase nine business ideas to improve recycling in Colorado at the 2022 pitch competition  \">Read more<span class=\"visually-hidden\"> about NextCycle Colorado to showcase nine business ideas to improve recycling in Colorado at the 2022 pitch competition  </span></a></li></ul>\n",
       "</div>\n",
       "</article>\n",
       "</div>"
      ]
     },
     "execution_count": 32,
     "metadata": {},
     "output_type": "execute_result"
    }
   ],
   "source": [
    "divs[0]"
   ]
  },
  {
   "cell_type": "code",
   "execution_count": 33,
   "id": "ee5d45c7",
   "metadata": {},
   "outputs": [],
   "source": [
    "# the proper class that has the title and link is the 'text-2xl fw-500' class\n",
    "h2s = soup.find_all('h2', {'class': 'text-2xl fw-500'})"
   ]
  },
  {
   "cell_type": "code",
   "execution_count": 34,
   "id": "1ded2408",
   "metadata": {},
   "outputs": [
    {
     "data": {
      "text/plain": [
       "<h2 class=\"text-2xl fw-500\">\n",
       "<a href=\"/press-release/nextcycle-colorado-to-showcase-nine-business-ideas-to-improve-recycling-in-colorado\" rel=\"bookmark\">\n",
       "<span>NextCycle Colorado to showcase nine business ideas to improve recycling in Colorado at the 2022 pitch competition  </span>\n",
       "</a>\n",
       "</h2>"
      ]
     },
     "execution_count": 34,
     "metadata": {},
     "output_type": "execute_result"
    }
   ],
   "source": [
    "h2s[0]"
   ]
  },
  {
   "cell_type": "code",
   "execution_count": 35,
   "id": "7f9a97ec",
   "metadata": {},
   "outputs": [
    {
     "data": {
      "text/plain": [
       "'NextCycle Colorado to showcase nine business ideas to improve recycling in Colorado at the 2022 pitch competition\\xa0\\xa0'"
      ]
     },
     "execution_count": 35,
     "metadata": {},
     "output_type": "execute_result"
    }
   ],
   "source": [
    "# each title include 2 new line statements at the beginning and end of the article, so I removed these\n",
    "h2s[0].text[2:-2]"
   ]
  },
  {
   "cell_type": "code",
   "execution_count": 36,
   "id": "b380fb6d",
   "metadata": {},
   "outputs": [
    {
     "data": {
      "text/plain": [
       "'/press-release/nextcycle-colorado-to-showcase-nine-business-ideas-to-improve-recycling-in-colorado'"
      ]
     },
     "execution_count": 36,
     "metadata": {},
     "output_type": "execute_result"
    }
   ],
   "source": [
    "h2s[0].find('a').get('href')"
   ]
  },
  {
   "cell_type": "code",
   "execution_count": 37,
   "id": "507b1107",
   "metadata": {},
   "outputs": [
    {
     "name": "stdout",
     "output_type": "stream",
     "text": [
      "https://cdphe.colorado.gov/category/press-release?page=1\n",
      "https://cdphe.colorado.gov/category/press-release?page=2\n",
      "https://cdphe.colorado.gov/category/press-release?page=3\n",
      "https://cdphe.colorado.gov/category/press-release?page=4\n",
      "https://cdphe.colorado.gov/category/press-release?page=5\n",
      "https://cdphe.colorado.gov/category/press-release?page=6\n",
      "https://cdphe.colorado.gov/category/press-release?page=7\n",
      "https://cdphe.colorado.gov/category/press-release?page=8\n",
      "https://cdphe.colorado.gov/category/press-release?page=9\n",
      "https://cdphe.colorado.gov/category/press-release?page=10\n",
      "https://cdphe.colorado.gov/category/press-release?page=11\n",
      "https://cdphe.colorado.gov/category/press-release?page=12\n",
      "https://cdphe.colorado.gov/category/press-release?page=13\n",
      "https://cdphe.colorado.gov/category/press-release?page=14\n",
      "https://cdphe.colorado.gov/category/press-release?page=15\n",
      "https://cdphe.colorado.gov/category/press-release?page=16\n",
      "https://cdphe.colorado.gov/category/press-release?page=17\n",
      "https://cdphe.colorado.gov/category/press-release?page=18\n",
      "https://cdphe.colorado.gov/category/press-release?page=19\n",
      "https://cdphe.colorado.gov/category/press-release?page=20\n",
      "https://cdphe.colorado.gov/category/press-release?page=21\n",
      "https://cdphe.colorado.gov/category/press-release?page=22\n",
      "https://cdphe.colorado.gov/category/press-release?page=23\n",
      "https://cdphe.colorado.gov/category/press-release?page=24\n",
      "https://cdphe.colorado.gov/category/press-release?page=25\n",
      "https://cdphe.colorado.gov/category/press-release?page=26\n",
      "https://cdphe.colorado.gov/category/press-release?page=27\n",
      "https://cdphe.colorado.gov/category/press-release?page=28\n",
      "https://cdphe.colorado.gov/category/press-release?page=29\n"
     ]
    }
   ],
   "source": [
    "CO_BASE_URL = 'https://cdphe.colorado.gov/'\n",
    "url = CO_BASE_URL + h2s[0].find('a').get('href')\n",
    "\n",
    "#using the links created below, I found that there were only about 22 pages of Press Releases\n",
    "for i in range(1, 30):\n",
    "    print('https://cdphe.colorado.gov/category/press-release?page={}'.format(i))"
   ]
  },
  {
   "cell_type": "code",
   "execution_count": 38,
   "id": "b03d153d",
   "metadata": {},
   "outputs": [
    {
     "name": "stderr",
     "output_type": "stream",
     "text": [
      "C:\\Users\\jerem\\AppData\\Local\\Temp\\ipykernel_14180\\1788495531.py:6: TqdmDeprecationWarning: This function will be removed in tqdm==5.0.0\n",
      "Please use `tqdm.notebook.tqdm` instead of `tqdm.tqdm_notebook`\n",
      "  for i in tqdm_notebook(range(1,22)):\n"
     ]
    },
    {
     "data": {
      "application/vnd.jupyter.widget-view+json": {
       "model_id": "12672c5f357349cab7ce1143adcfd018",
       "version_major": 2,
       "version_minor": 0
      },
      "text/plain": [
       "  0%|          | 0/21 [00:00<?, ?it/s]"
      ]
     },
     "metadata": {},
     "output_type": "display_data"
    }
   ],
   "source": [
    "#now time to scrape the data and put it into a MongoDB collection 'cdphe'\n",
    "client = MongoClient()\n",
    "db = client['news']\n",
    "coll = db['cdphe']\n",
    "\n",
    "for i in tqdm_notebook(range(1,22)):\n",
    "    #if (i == 3):\n",
    "    #    break\n",
    "        \n",
    "    lynq = 'https://cdphe.colorado.gov/category/press-release?page={}'.format(i)\n",
    "    res = req.get(lynq)\n",
    "    soup = bs(res.content)\n",
    "    h2s = soup.find_all('h2', {'class': 'text-2xl fw-500'})\n",
    "    \n",
    "    for h in h2s:\n",
    "        txt = h.text[2:-2]\n",
    "        site = CO_BASE_URL + h.find('a').get('href')\n",
    "        \n",
    "        coll.insert_one({'title': txt,\n",
    "                        'link': site})\n",
    "        \n",
    "client.close()"
   ]
  },
  {
   "cell_type": "code",
   "execution_count": 39,
   "id": "fbf21f1c",
   "metadata": {},
   "outputs": [
    {
     "name": "stdout",
     "output_type": "stream",
     "text": [
      "{'_id': ObjectId('62a8295baf750c73a0daae15'),\n",
      " 'link': 'https://cdphe.colorado.gov//press-release/epa-recognizes-cdphe-team-for-work-done-to-help-destroy-chemical-weapon-stockpile-in',\n",
      " 'title': 'EPA recognizes CDPHE team for work done to help destroy chemical '\n",
      "          'weapon stockpile in Pueblo County'}\n"
     ]
    }
   ],
   "source": [
    "#print one entry from this collection to prove it was successful\n",
    "from pprint import pprint\n",
    "\n",
    "client = MongoClient()\n",
    "db = client['news']\n",
    "coll = db['cdphe']\n",
    "\n",
    "pprint(coll.find_one())"
   ]
  },
  {
   "cell_type": "markdown",
   "id": "30e69902",
   "metadata": {},
   "source": [
    "Voila! As you can see above, the link and title of each article were successfully scraped from the CDPHE website. Please see the Word document attachment for a count of the documents inside this collection, and more examples of documents. Thank you!\n",
    "\n",
    "All the best,\n",
    "Jeremy Beard"
   ]
  },
  {
   "cell_type": "code",
   "execution_count": null,
   "id": "11ca2d68",
   "metadata": {},
   "outputs": [],
   "source": []
  }
 ],
 "metadata": {
  "kernelspec": {
   "display_name": "DS-jupyter",
   "language": "python",
   "name": "ds-jupyter"
  },
  "language_info": {
   "codemirror_mode": {
    "name": "ipython",
    "version": 3
   },
   "file_extension": ".py",
   "mimetype": "text/x-python",
   "name": "python",
   "nbconvert_exporter": "python",
   "pygments_lexer": "ipython3",
   "version": "3.9.13"
  }
 },
 "nbformat": 4,
 "nbformat_minor": 5
}

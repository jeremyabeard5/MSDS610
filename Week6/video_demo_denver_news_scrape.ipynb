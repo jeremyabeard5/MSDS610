{
 "cells": [
  {
   "cell_type": "markdown",
   "metadata": {},
   "source": [
    "This is roughly the same code as in the video demo [here](https://youtu.be/TsX9lpTnWIU).  The `Cleaner Denver news example.ipynb` file is a slightly cleaner version of this same file."
   ]
  },
  {
   "cell_type": "code",
   "execution_count": 1,
   "metadata": {},
   "outputs": [],
   "source": [
    "import requests as req"
   ]
  },
  {
   "cell_type": "code",
   "execution_count": 2,
   "metadata": {},
   "outputs": [],
   "source": [
    "res = req.get('https://www.denvergov.org/content/denvergov/en/city-of-denver-home/news.html')"
   ]
  },
  {
   "cell_type": "code",
   "execution_count": 3,
   "metadata": {},
   "outputs": [],
   "source": [
    "from bs4 import BeautifulSoup as bs\n",
    "\n",
    "soup = bs(res.content)"
   ]
  },
  {
   "cell_type": "code",
   "execution_count": 4,
   "metadata": {},
   "outputs": [],
   "source": [
    "divs = soup.find_all('div', {'class': 'denver-news-list-item'})"
   ]
  },
  {
   "cell_type": "code",
   "execution_count": 5,
   "metadata": {},
   "outputs": [
    {
     "data": {
      "text/plain": [
       "bs4.element.Tag"
      ]
     },
     "execution_count": 5,
     "metadata": {},
     "output_type": "execute_result"
    }
   ],
   "source": [
    "type(divs[0])"
   ]
  },
  {
   "cell_type": "code",
   "execution_count": 6,
   "metadata": {},
   "outputs": [
    {
     "data": {
      "text/plain": [
       "<div class=\"denver-news-list-item\">\n",
       "<p class=\"denver-news-list-date\">Dec 2, 2019</p>\n",
       "<h3><a href=\"/content/denvergov/en/environmental-health/about-us/news-room/newsroom_2019/fifth-annual-sustainable-denver-summit.html\">City to Host Fifth Annual Sustainable Denver Summit</a></h3>\n",
       "<p>Mayor Michael B. Hancock and Denver’s Office of Sustainability host the fifth annual Sustainable Denver Summit on Thursday, Dec. 5, at the Colorado Convention Center. The Summit is the community’s premier gathering of industry leaders and professionals working on today’s most important sustainability solutions. Their work will help Denver achieve its ambitious 2020 Sustainability Goals and other efforts to improve sustainability and climate action.</p>\n",
       "<div style=\"clear:both;\"></div>\n",
       "</div>"
      ]
     },
     "execution_count": 6,
     "metadata": {},
     "output_type": "execute_result"
    }
   ],
   "source": [
    "divs[0]"
   ]
  },
  {
   "cell_type": "code",
   "execution_count": 7,
   "metadata": {},
   "outputs": [],
   "source": [
    "import pandas as pd"
   ]
  },
  {
   "cell_type": "code",
   "execution_count": 8,
   "metadata": {},
   "outputs": [
    {
     "data": {
      "text/plain": [
       "Timestamp('2019-12-02 00:00:00')"
      ]
     },
     "execution_count": 8,
     "metadata": {},
     "output_type": "execute_result"
    }
   ],
   "source": [
    "pd.to_datetime(divs[0].find('p', {'class': 'denver-news-list-date'}).text)"
   ]
  },
  {
   "cell_type": "code",
   "execution_count": 9,
   "metadata": {},
   "outputs": [],
   "source": [
    "BASE_URL = 'https://www.denvergov.org'"
   ]
  },
  {
   "cell_type": "code",
   "execution_count": 10,
   "metadata": {},
   "outputs": [
    {
     "data": {
      "text/plain": [
       "<a href=\"/content/denvergov/en/environmental-health/about-us/news-room/newsroom_2019/fifth-annual-sustainable-denver-summit.html\">City to Host Fifth Annual Sustainable Denver Summit</a>"
      ]
     },
     "execution_count": 10,
     "metadata": {},
     "output_type": "execute_result"
    }
   ],
   "source": [
    "divs[0].find('a')"
   ]
  },
  {
   "cell_type": "code",
   "execution_count": 11,
   "metadata": {},
   "outputs": [
    {
     "data": {
      "text/plain": [
       "'City to Host Fifth Annual Sustainable Denver Summit'"
      ]
     },
     "execution_count": 11,
     "metadata": {},
     "output_type": "execute_result"
    }
   ],
   "source": [
    "divs[0].find('a').text"
   ]
  },
  {
   "cell_type": "code",
   "execution_count": 12,
   "metadata": {},
   "outputs": [
    {
     "data": {
      "text/plain": [
       "'/content/denvergov/en/environmental-health/about-us/news-room/newsroom_2019/fifth-annual-sustainable-denver-summit.html'"
      ]
     },
     "execution_count": 12,
     "metadata": {},
     "output_type": "execute_result"
    }
   ],
   "source": [
    "divs[0].find('a').get('href')"
   ]
  },
  {
   "cell_type": "code",
   "execution_count": 13,
   "metadata": {},
   "outputs": [
    {
     "data": {
      "text/plain": [
       "'https://www.denvergov.org/content/denvergov/en/environmental-health/about-us/news-room/newsroom_2019/fifth-annual-sustainable-denver-summit.html'"
      ]
     },
     "execution_count": 13,
     "metadata": {},
     "output_type": "execute_result"
    }
   ],
   "source": [
    "BASE_URL + divs[0].find('a').get('href')"
   ]
  },
  {
   "cell_type": "code",
   "execution_count": 14,
   "metadata": {},
   "outputs": [],
   "source": [
    "for d in divs:\n",
    "    date = pd.to_datetime(d.find('p', {'class': 'denver-news-list-date'}).text)\n",
    "    link = d.find('a')\n",
    "    href = BASE_URL + link.get('href')\n",
    "    title = link.text"
   ]
  },
  {
   "cell_type": "code",
   "execution_count": 15,
   "metadata": {},
   "outputs": [
    {
     "data": {
      "text/plain": [
       "'Denver Promoted to “Silver Medal” Status in the CityHealth Annual Policy Assessment'"
      ]
     },
     "execution_count": 15,
     "metadata": {},
     "output_type": "execute_result"
    }
   ],
   "source": [
    "title"
   ]
  },
  {
   "cell_type": "code",
   "execution_count": 16,
   "metadata": {},
   "outputs": [
    {
     "data": {
      "text/plain": [
       "Timestamp('2019-11-25 00:00:00')"
      ]
     },
     "execution_count": 16,
     "metadata": {},
     "output_type": "execute_result"
    }
   ],
   "source": [
    "date"
   ]
  },
  {
   "cell_type": "code",
   "execution_count": 17,
   "metadata": {},
   "outputs": [
    {
     "data": {
      "text/plain": [
       "'https://www.denvergov.org/content/denvergov/en/environmental-health/about-us/news-room/newsroom_2019/city-health-denver-receives-silver-medal-2019.html'"
      ]
     },
     "execution_count": 17,
     "metadata": {},
     "output_type": "execute_result"
    }
   ],
   "source": [
    "href"
   ]
  },
  {
   "cell_type": "code",
   "execution_count": 18,
   "metadata": {},
   "outputs": [
    {
     "data": {
      "application/vnd.jupyter.widget-view+json": {
       "model_id": "20e900d4e188486a8fd843bbf4892d23",
       "version_major": 2,
       "version_minor": 0
      },
      "text/plain": [
       "HBox(children=(IntProgress(value=0, max=70), HTML(value='')))"
      ]
     },
     "metadata": {},
     "output_type": "display_data"
    },
    {
     "name": "stdout",
     "output_type": "stream",
     "text": [
      "\n"
     ]
    }
   ],
   "source": [
    "from pymongo import MongoClient\n",
    "from tqdm import tqdm_notebook\n",
    "\n",
    "PAGE_URL = 'https://www.denvergov.org/content/denvergov/en/city-of-denver-home/news.html?page={}'\n",
    "\n",
    "client = MongoClient()\n",
    "db = client['news']\n",
    "coll = db['denver']\n",
    "\n",
    "\n",
    "for page in tqdm_notebook(range(1, 71)):        \n",
    "    url = PAGE_URL.format(page)\n",
    "    res = req.get(url)\n",
    "    soup = bs(res.content)\n",
    "    divs = soup.find_all('div', {'class': 'denver-news-list-item'})\n",
    "    \n",
    "    for d in divs:\n",
    "        date = pd.to_datetime(d.find('p', {'class': 'denver-news-list-date'}).text)\n",
    "        link = d.find('a')\n",
    "        href = BASE_URL + link.get('href')\n",
    "        title = link.text\n",
    "        \n",
    "        coll.insert_one({'date': date,\n",
    "                        'link': href,\n",
    "                        'title': title})\n",
    "\n",
    "client.close()"
   ]
  },
  {
   "cell_type": "code",
   "execution_count": 19,
   "metadata": {},
   "outputs": [
    {
     "name": "stdout",
     "output_type": "stream",
     "text": [
      "{'_id': ObjectId('5de581023ae5ef8671ee264a'),\n",
      " 'date': datetime.datetime(2019, 12, 2, 0, 0),\n",
      " 'link': 'https://www.denvergov.org/content/denvergov/en/environmental-health/about-us/news-room/newsroom_2019/fifth-annual-sustainable-denver-summit.html',\n",
      " 'title': 'City to Host Fifth Annual Sustainable Denver Summit'}\n"
     ]
    }
   ],
   "source": [
    "from pprint import pprint\n",
    "\n",
    "client = MongoClient()\n",
    "db = client['news']\n",
    "coll = db['denver']\n",
    "\n",
    "pprint(coll.find_one())"
   ]
  },
  {
   "cell_type": "code",
   "execution_count": 20,
   "metadata": {},
   "outputs": [],
   "source": [
    "with open('test.html', 'wb') as f:\n",
    "    f.write(res.content)"
   ]
  }
 ],
 "metadata": {
  "kernelspec": {
   "display_name": "Python 3 (ipykernel)",
   "language": "python",
   "name": "python3"
  },
  "language_info": {
   "codemirror_mode": {
    "name": "ipython",
    "version": 3
   },
   "file_extension": ".py",
   "mimetype": "text/x-python",
   "name": "python",
   "nbconvert_exporter": "python",
   "pygments_lexer": "ipython3",
   "version": "3.9.7"
  }
 },
 "nbformat": 4,
 "nbformat_minor": 2
}

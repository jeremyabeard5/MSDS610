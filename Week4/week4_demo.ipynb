{
 "cells": [
  {
   "cell_type": "code",
   "execution_count": 1,
   "metadata": {},
   "outputs": [],
   "source": [
    "from pymongo import MongoClient"
   ]
  },
  {
   "cell_type": "code",
   "execution_count": 2,
   "metadata": {},
   "outputs": [],
   "source": [
    "# create connection\n",
    "client = MongoClient()\n",
    "db = client['parking']\n",
    "tickets = db['tickets']"
   ]
  },
  {
   "cell_type": "code",
   "execution_count": 3,
   "metadata": {},
   "outputs": [
    {
     "data": {
      "text/plain": [
       "{'Agency': 1,\n",
       " 'Body Style': 'PA',\n",
       " 'Color': 'GY',\n",
       " 'Fine amount': 50,\n",
       " 'Issue Date': '2015-12-21T00:00:00',\n",
       " 'Issue time': 1251,\n",
       " 'Latitude': 99999,\n",
       " 'Location': '13147 WELBY WAY',\n",
       " 'Longitude': 99999,\n",
       " 'Make': 'HOND',\n",
       " 'Marked Time': '',\n",
       " 'Meter Id': '',\n",
       " 'Plate Expiry Date': 200304,\n",
       " 'RP State Plate': 'CA',\n",
       " 'Route': 1521,\n",
       " 'Ticket number': 1103341116,\n",
       " 'VIN': '',\n",
       " 'Violation Description': 'NO EVIDENCE OF REG',\n",
       " 'Violation code': '4000A1',\n",
       " '_id': ObjectId('5cec5bf7a992c2eaf71e6e69')}"
      ]
     },
     "execution_count": 3,
     "metadata": {},
     "output_type": "execute_result"
    }
   ],
   "source": [
    "tickets.find_one()"
   ]
  },
  {
   "cell_type": "code",
   "execution_count": 4,
   "metadata": {},
   "outputs": [],
   "source": [
    "registration_tickets = tickets.find({'Violation Description': {'$eq': 'NO EVIDENCE OF REG'}}).limit(10)"
   ]
  },
  {
   "cell_type": "code",
   "execution_count": 5,
   "metadata": {},
   "outputs": [
    {
     "data": {
      "text/plain": [
       "pymongo.cursor.Cursor"
      ]
     },
     "execution_count": 5,
     "metadata": {},
     "output_type": "execute_result"
    }
   ],
   "source": [
    "type(registration_tickets)"
   ]
  },
  {
   "cell_type": "code",
   "execution_count": 6,
   "metadata": {},
   "outputs": [
    {
     "data": {
      "text/plain": [
       "{'Agency': 1,\n",
       " 'Body Style': 'PA',\n",
       " 'Color': 'BK',\n",
       " 'Fine amount': 50,\n",
       " 'Issue Date': '2015-12-22T00:00:00',\n",
       " 'Issue time': 1110,\n",
       " 'Latitude': 99999,\n",
       " 'Location': '1200 W MIRAMAR',\n",
       " 'Longitude': 99999,\n",
       " 'Make': 'BMW',\n",
       " 'Marked Time': '',\n",
       " 'Meter Id': '',\n",
       " 'Plate Expiry Date': 201511,\n",
       " 'RP State Plate': 'CA',\n",
       " 'Route': '2A75',\n",
       " 'Ticket number': 1106506446,\n",
       " 'VIN': '',\n",
       " 'Violation Description': 'NO EVIDENCE OF REG',\n",
       " 'Violation code': '4000A1',\n",
       " '_id': ObjectId('5cec5bf7a992c2eaf71e6e75')}"
      ]
     },
     "execution_count": 6,
     "metadata": {},
     "output_type": "execute_result"
    }
   ],
   "source": [
    "registration_tickets[3]"
   ]
  },
  {
   "cell_type": "code",
   "execution_count": 7,
   "metadata": {},
   "outputs": [],
   "source": [
    "registration_tickets = tickets.find({'Violation Description': {'$eq': 'NO EVIDENCE OF REG'}})"
   ]
  },
  {
   "cell_type": "code",
   "execution_count": 8,
   "metadata": {},
   "outputs": [
    {
     "data": {
      "text/plain": [
       "{'Agency': 1,\n",
       " 'Body Style': 'PA',\n",
       " 'Color': 'GY',\n",
       " 'Fine amount': 50,\n",
       " 'Issue Date': '2015-12-21T00:00:00',\n",
       " 'Issue time': 1251,\n",
       " 'Latitude': 99999,\n",
       " 'Location': '13147 WELBY WAY',\n",
       " 'Longitude': 99999,\n",
       " 'Make': 'HOND',\n",
       " 'Marked Time': '',\n",
       " 'Meter Id': '',\n",
       " 'Plate Expiry Date': 200304,\n",
       " 'RP State Plate': 'CA',\n",
       " 'Route': 1521,\n",
       " 'Ticket number': 1103341116,\n",
       " 'VIN': '',\n",
       " 'Violation Description': 'NO EVIDENCE OF REG',\n",
       " 'Violation code': '4000A1',\n",
       " '_id': ObjectId('5cec5bf7a992c2eaf71e6e69')}"
      ]
     },
     "execution_count": 8,
     "metadata": {},
     "output_type": "execute_result"
    }
   ],
   "source": [
    "registration_tickets[0]"
   ]
  },
  {
   "cell_type": "code",
   "execution_count": 9,
   "metadata": {},
   "outputs": [],
   "source": [
    "registration_tickets_makes = tickets.find({'Violation Description': {'$eq': 'NO EVIDENCE OF REG'}},\n",
    "                                         {'Make': 1, '_id': 0})"
   ]
  },
  {
   "cell_type": "code",
   "execution_count": 19,
   "metadata": {},
   "outputs": [],
   "source": [
    "import pandas as pd\n",
    "import matplotlib.pyplot as plt\n",
    "%matplotlib inline"
   ]
  },
  {
   "cell_type": "code",
   "execution_count": 11,
   "metadata": {},
   "outputs": [],
   "source": [
    "df = pd.io.json.json_normalize(registration_tickets_makes)"
   ]
  },
  {
   "cell_type": "code",
   "execution_count": 12,
   "metadata": {},
   "outputs": [
    {
     "data": {
      "text/plain": [
       "TOYO    18069\n",
       "FORD    14661\n",
       "HOND    14200\n",
       "CHEV    12736\n",
       "NISS     8860\n",
       "DODG     5648\n",
       "BMW      5388\n",
       "VOLK     4159\n",
       "MERZ     3149\n",
       "JEEP     2637\n",
       "HYUN     2393\n",
       "GMC      2206\n",
       "CHRY     2189\n",
       "MAZD     2012\n",
       "KIA      1999\n",
       "LEXU     1914\n",
       "ACUR     1903\n",
       "AUDI     1752\n",
       "MITS     1727\n",
       "INFI     1678\n",
       "CADI     1615\n",
       "VOLV     1361\n",
       "         1335\n",
       "PONT     1249\n",
       "MERC     1214\n",
       "MBNZ     1142\n",
       "BUIC     1090\n",
       "LINC     1026\n",
       "SUBA      801\n",
       "LEXS      719\n",
       "        ...  \n",
       "SPEC        1\n",
       "REL         1\n",
       "LDR         1\n",
       "WLDE        1\n",
       "TAO         1\n",
       "LNDC        1\n",
       "TRAU        1\n",
       "BLUE        1\n",
       "ANDE        1\n",
       "LYND        1\n",
       "SEAR        1\n",
       "PORH        1\n",
       "CHLE        1\n",
       "LXXS        1\n",
       "TRBZ        1\n",
       "LNQT        1\n",
       "ALGE        1\n",
       "YSTR        1\n",
       "CNQT        1\n",
       "VANN        1\n",
       "BEUL        1\n",
       "FLTS        1\n",
       "CHIE        1\n",
       "ULTR        1\n",
       "WORL        1\n",
       "AMG         1\n",
       "ADVE        1\n",
       "SNRS        1\n",
       "REDB        1\n",
       "LANR        1\n",
       "Name: Make, Length: 1042, dtype: int64"
      ]
     },
     "execution_count": 12,
     "metadata": {},
     "output_type": "execute_result"
    }
   ],
   "source": [
    "df['Make'].value_counts()"
   ]
  },
  {
   "cell_type": "code",
   "execution_count": 13,
   "metadata": {},
   "outputs": [
    {
     "data": {
      "image/png": "[encoded data removed]",
      "text/plain": [
       "<Figure size 432x288 with 1 Axes>"
      ]
     },
     "metadata": {
      "needs_background": "light"
     },
     "output_type": "display_data"
    }
   ],
   "source": [
    "ax = df['Make'].value_counts().plot.bar()"
   ]
  },
  {
   "cell_type": "code",
   "execution_count": 21,
   "metadata": {},
   "outputs": [
    {
     "data": {
      "image/png": "[encoded data removed]",
      "text/plain": [
       "<Figure size 432x288 with 1 Axes>"
      ]
     },
     "metadata": {
      "needs_background": "light"
     },
     "output_type": "display_data"
    }
   ],
   "source": [
    "ax = df['Make'].value_counts()[:20].plot.bar()\n",
    "plt.tight_layout()"
   ]
  },
  {
   "cell_type": "code",
   "execution_count": 22,
   "metadata": {},
   "outputs": [],
   "source": [
    "fig = ax.get_figure()\n",
    "fig.savefig('make_barplot.jpg')"
   ]
  },
  {
   "cell_type": "markdown",
   "metadata": {},
   "source": [
    "Generate a bar plot of violations based on a car make.  Perhaps you first want to see which makes are most prominent, then look at the violations for a few of the most prominent makes."
   ]
  },
  {
   "cell_type": "code",
   "execution_count": 16,
   "metadata": {},
   "outputs": [],
   "source": [
    "# Ideally close connection when done, but not required\n",
    "client.close()"
   ]
  }
 ],
 "metadata": {
  "kernelspec": {
   "display_name": "Python 3",
   "language": "python",
   "name": "python3"
  },
  "language_info": {
   "codemirror_mode": {
    "name": "ipython",
    "version": 3
   },
   "file_extension": ".py",
   "mimetype": "text/x-python",
   "name": "python",
   "nbconvert_exporter": "python",
   "pygments_lexer": "ipython3",
   "version": "3.5.3"
  }
 },
 "nbformat": 4,
 "nbformat_minor": 2
}
